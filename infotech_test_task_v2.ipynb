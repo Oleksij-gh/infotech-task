{
  "nbformat": 4,
  "nbformat_minor": 0,
  "metadata": {
    "colab": {
      "provenance": [],
      "collapsed_sections": [
        "D2aESJBPoR4y",
        "eAD3-X-3oWlL",
        "7j0wU282mo3X",
        "XGC_BPkYmqS_",
        "zwcg4a2enQUh",
        "AkPKSwM_0CJY",
        "6m2gIVL40E5z",
        "x7rRbjXv0HlH"
      ],
      "mount_file_id": "15PwHoaUeQRve647nNDUX0XpuG8KxJVJ2",
      "authorship_tag": "ABX9TyPQiaCo9Z7DtzkPsX+REb1q",
      "include_colab_link": true
    },
    "kernelspec": {
      "name": "python3",
      "display_name": "Python 3"
    },
    "language_info": {
      "name": "python"
    }
  },
  "cells": [
    {
      "cell_type": "markdown",
      "metadata": {
        "id": "view-in-github",
        "colab_type": "text"
      },
      "source": [
        "<a href=\"https://colab.research.google.com/github/Oleksij-gh/infotech-task/blob/main/infotech_test_task_v2.ipynb\" target=\"_parent\"><img src=\"https://colab.research.google.com/assets/colab-badge.svg\" alt=\"Open In Colab\"/></a>"
      ]
    },
    {
      "cell_type": "markdown",
      "source": [
        "# 1. Libs"
      ],
      "metadata": {
        "id": "D2aESJBPoR4y"
      }
    },
    {
      "cell_type": "code",
      "execution_count": 118,
      "metadata": {
        "id": "t8K6IZDcKEyl"
      },
      "outputs": [],
      "source": [
        "import copy\n",
        "import pandas as pd\n",
        "import numpy as np\n",
        "from tqdm import tqdm\n",
        "from matplotlib import pyplot as plt"
      ]
    },
    {
      "cell_type": "markdown",
      "source": [
        "# 2. Loading Data"
      ],
      "metadata": {
        "id": "eAD3-X-3oWlL"
      }
    },
    {
      "cell_type": "code",
      "source": [
        "!gdown 1FYaj-YQn7WADkCflz8-4Q89G9Aj8XxOi"
      ],
      "metadata": {
        "colab": {
          "base_uri": "https://localhost:8080/"
        },
        "id": "beYiDgqDg_fE",
        "outputId": "99060e6c-fb5a-4ce8-d027-372b65668705"
      },
      "execution_count": 119,
      "outputs": [
        {
          "output_type": "stream",
          "name": "stdout",
          "text": [
            "Downloading...\n",
            "From: https://drive.google.com/uc?id=1FYaj-YQn7WADkCflz8-4Q89G9Aj8XxOi\n",
            "To: /content/schedule_dataset.xlsx\n",
            "\r  0% 0.00/8.31M [00:00<?, ?B/s]\r 32% 2.62M/8.31M [00:00<00:00, 24.5MB/s]\r100% 8.31M/8.31M [00:00<00:00, 53.5MB/s]\n"
          ]
        }
      ]
    },
    {
      "cell_type": "markdown",
      "source": [],
      "metadata": {
        "id": "o6uIrAGRoUpn"
      }
    },
    {
      "cell_type": "code",
      "source": [
        "df_origin = pd.read_excel('/content/schedule_dataset.xlsx')"
      ],
      "metadata": {
        "id": "Tj88JREKLT0z"
      },
      "execution_count": 127,
      "outputs": []
    },
    {
      "cell_type": "code",
      "source": [
        "df_origin.head()"
      ],
      "metadata": {
        "colab": {
          "base_uri": "https://localhost:8080/",
          "height": 206
        },
        "id": "SZCXf3YoLX6a",
        "outputId": "96c86393-51ca-4c8e-8866-2edbe42951be"
      },
      "execution_count": 128,
      "outputs": [
        {
          "output_type": "execute_result",
          "data": {
            "text/plain": [
              "  Дата рейса  Рейс А/П отправл А/П прибыт  Номер ВС  \\\n",
              "0 2018-03-01     1         MOW        ARH         1   \n",
              "1 2018-03-01     2         MOW        EGO         2   \n",
              "2 2018-03-01     3         MOW        AKX         3   \n",
              "3 2018-03-01     4         LED        MOW         4   \n",
              "4 2018-03-01     5         MOW        KRR         5   \n",
              "\n",
              "  Время отправления по расписанию Время отправления фактическое  \\\n",
              "0             2018-03-01 00:05:00           2018-02-28 23:48:00   \n",
              "1             2018-03-01 00:05:00           2018-03-01 00:00:00   \n",
              "2             2018-03-01 00:15:00           2018-03-01 00:14:00   \n",
              "3             2018-03-01 00:20:00           2018-03-01 00:11:00   \n",
              "4             2018-03-01 00:25:00           2018-03-01 00:21:00   \n",
              "\n",
              "  Время прибытия по расписанию Время прибытия фактическое  \n",
              "0          2018-03-01 02:00:00        2018-03-01 01:48:00  \n",
              "1          2018-03-01 01:30:00        2018-03-01 01:55:00  \n",
              "2          2018-03-01 02:40:00        2018-03-01 02:32:00  \n",
              "3          2018-03-01 01:35:00        2018-03-01 01:39:00  \n",
              "4          2018-03-01 02:40:00        2018-03-01 02:41:00  "
            ],
            "text/html": [
              "\n",
              "  <div id=\"df-5114445e-d71a-4b59-aa73-a8dc03e3ffab\" class=\"colab-df-container\">\n",
              "    <div>\n",
              "<style scoped>\n",
              "    .dataframe tbody tr th:only-of-type {\n",
              "        vertical-align: middle;\n",
              "    }\n",
              "\n",
              "    .dataframe tbody tr th {\n",
              "        vertical-align: top;\n",
              "    }\n",
              "\n",
              "    .dataframe thead th {\n",
              "        text-align: right;\n",
              "    }\n",
              "</style>\n",
              "<table border=\"1\" class=\"dataframe\">\n",
              "  <thead>\n",
              "    <tr style=\"text-align: right;\">\n",
              "      <th></th>\n",
              "      <th>Дата рейса</th>\n",
              "      <th>Рейс</th>\n",
              "      <th>А/П отправл</th>\n",
              "      <th>А/П прибыт</th>\n",
              "      <th>Номер ВС</th>\n",
              "      <th>Время отправления по расписанию</th>\n",
              "      <th>Время отправления фактическое</th>\n",
              "      <th>Время прибытия по расписанию</th>\n",
              "      <th>Время прибытия фактическое</th>\n",
              "    </tr>\n",
              "  </thead>\n",
              "  <tbody>\n",
              "    <tr>\n",
              "      <th>0</th>\n",
              "      <td>2018-03-01</td>\n",
              "      <td>1</td>\n",
              "      <td>MOW</td>\n",
              "      <td>ARH</td>\n",
              "      <td>1</td>\n",
              "      <td>2018-03-01 00:05:00</td>\n",
              "      <td>2018-02-28 23:48:00</td>\n",
              "      <td>2018-03-01 02:00:00</td>\n",
              "      <td>2018-03-01 01:48:00</td>\n",
              "    </tr>\n",
              "    <tr>\n",
              "      <th>1</th>\n",
              "      <td>2018-03-01</td>\n",
              "      <td>2</td>\n",
              "      <td>MOW</td>\n",
              "      <td>EGO</td>\n",
              "      <td>2</td>\n",
              "      <td>2018-03-01 00:05:00</td>\n",
              "      <td>2018-03-01 00:00:00</td>\n",
              "      <td>2018-03-01 01:30:00</td>\n",
              "      <td>2018-03-01 01:55:00</td>\n",
              "    </tr>\n",
              "    <tr>\n",
              "      <th>2</th>\n",
              "      <td>2018-03-01</td>\n",
              "      <td>3</td>\n",
              "      <td>MOW</td>\n",
              "      <td>AKX</td>\n",
              "      <td>3</td>\n",
              "      <td>2018-03-01 00:15:00</td>\n",
              "      <td>2018-03-01 00:14:00</td>\n",
              "      <td>2018-03-01 02:40:00</td>\n",
              "      <td>2018-03-01 02:32:00</td>\n",
              "    </tr>\n",
              "    <tr>\n",
              "      <th>3</th>\n",
              "      <td>2018-03-01</td>\n",
              "      <td>4</td>\n",
              "      <td>LED</td>\n",
              "      <td>MOW</td>\n",
              "      <td>4</td>\n",
              "      <td>2018-03-01 00:20:00</td>\n",
              "      <td>2018-03-01 00:11:00</td>\n",
              "      <td>2018-03-01 01:35:00</td>\n",
              "      <td>2018-03-01 01:39:00</td>\n",
              "    </tr>\n",
              "    <tr>\n",
              "      <th>4</th>\n",
              "      <td>2018-03-01</td>\n",
              "      <td>5</td>\n",
              "      <td>MOW</td>\n",
              "      <td>KRR</td>\n",
              "      <td>5</td>\n",
              "      <td>2018-03-01 00:25:00</td>\n",
              "      <td>2018-03-01 00:21:00</td>\n",
              "      <td>2018-03-01 02:40:00</td>\n",
              "      <td>2018-03-01 02:41:00</td>\n",
              "    </tr>\n",
              "  </tbody>\n",
              "</table>\n",
              "</div>\n",
              "    <div class=\"colab-df-buttons\">\n",
              "\n",
              "  <div class=\"colab-df-container\">\n",
              "    <button class=\"colab-df-convert\" onclick=\"convertToInteractive('df-5114445e-d71a-4b59-aa73-a8dc03e3ffab')\"\n",
              "            title=\"Convert this dataframe to an interactive table.\"\n",
              "            style=\"display:none;\">\n",
              "\n",
              "  <svg xmlns=\"http://www.w3.org/2000/svg\" height=\"24px\" viewBox=\"0 -960 960 960\">\n",
              "    <path d=\"M120-120v-720h720v720H120Zm60-500h600v-160H180v160Zm220 220h160v-160H400v160Zm0 220h160v-160H400v160ZM180-400h160v-160H180v160Zm440 0h160v-160H620v160ZM180-180h160v-160H180v160Zm440 0h160v-160H620v160Z\"/>\n",
              "  </svg>\n",
              "    </button>\n",
              "\n",
              "  <style>\n",
              "    .colab-df-container {\n",
              "      display:flex;\n",
              "      gap: 12px;\n",
              "    }\n",
              "\n",
              "    .colab-df-convert {\n",
              "      background-color: #E8F0FE;\n",
              "      border: none;\n",
              "      border-radius: 50%;\n",
              "      cursor: pointer;\n",
              "      display: none;\n",
              "      fill: #1967D2;\n",
              "      height: 32px;\n",
              "      padding: 0 0 0 0;\n",
              "      width: 32px;\n",
              "    }\n",
              "\n",
              "    .colab-df-convert:hover {\n",
              "      background-color: #E2EBFA;\n",
              "      box-shadow: 0px 1px 2px rgba(60, 64, 67, 0.3), 0px 1px 3px 1px rgba(60, 64, 67, 0.15);\n",
              "      fill: #174EA6;\n",
              "    }\n",
              "\n",
              "    .colab-df-buttons div {\n",
              "      margin-bottom: 4px;\n",
              "    }\n",
              "\n",
              "    [theme=dark] .colab-df-convert {\n",
              "      background-color: #3B4455;\n",
              "      fill: #D2E3FC;\n",
              "    }\n",
              "\n",
              "    [theme=dark] .colab-df-convert:hover {\n",
              "      background-color: #434B5C;\n",
              "      box-shadow: 0px 1px 3px 1px rgba(0, 0, 0, 0.15);\n",
              "      filter: drop-shadow(0px 1px 2px rgba(0, 0, 0, 0.3));\n",
              "      fill: #FFFFFF;\n",
              "    }\n",
              "  </style>\n",
              "\n",
              "    <script>\n",
              "      const buttonEl =\n",
              "        document.querySelector('#df-5114445e-d71a-4b59-aa73-a8dc03e3ffab button.colab-df-convert');\n",
              "      buttonEl.style.display =\n",
              "        google.colab.kernel.accessAllowed ? 'block' : 'none';\n",
              "\n",
              "      async function convertToInteractive(key) {\n",
              "        const element = document.querySelector('#df-5114445e-d71a-4b59-aa73-a8dc03e3ffab');\n",
              "        const dataTable =\n",
              "          await google.colab.kernel.invokeFunction('convertToInteractive',\n",
              "                                                    [key], {});\n",
              "        if (!dataTable) return;\n",
              "\n",
              "        const docLinkHtml = 'Like what you see? Visit the ' +\n",
              "          '<a target=\"_blank\" href=https://colab.research.google.com/notebooks/data_table.ipynb>data table notebook</a>'\n",
              "          + ' to learn more about interactive tables.';\n",
              "        element.innerHTML = '';\n",
              "        dataTable['output_type'] = 'display_data';\n",
              "        await google.colab.output.renderOutput(dataTable, element);\n",
              "        const docLink = document.createElement('div');\n",
              "        docLink.innerHTML = docLinkHtml;\n",
              "        element.appendChild(docLink);\n",
              "      }\n",
              "    </script>\n",
              "  </div>\n",
              "\n",
              "\n",
              "<div id=\"df-b9e3c09f-bc2a-4295-977b-13fccc79cf44\">\n",
              "  <button class=\"colab-df-quickchart\" onclick=\"quickchart('df-b9e3c09f-bc2a-4295-977b-13fccc79cf44')\"\n",
              "            title=\"Suggest charts\"\n",
              "            style=\"display:none;\">\n",
              "\n",
              "<svg xmlns=\"http://www.w3.org/2000/svg\" height=\"24px\"viewBox=\"0 0 24 24\"\n",
              "     width=\"24px\">\n",
              "    <g>\n",
              "        <path d=\"M19 3H5c-1.1 0-2 .9-2 2v14c0 1.1.9 2 2 2h14c1.1 0 2-.9 2-2V5c0-1.1-.9-2-2-2zM9 17H7v-7h2v7zm4 0h-2V7h2v10zm4 0h-2v-4h2v4z\"/>\n",
              "    </g>\n",
              "</svg>\n",
              "  </button>\n",
              "\n",
              "<style>\n",
              "  .colab-df-quickchart {\n",
              "      --bg-color: #E8F0FE;\n",
              "      --fill-color: #1967D2;\n",
              "      --hover-bg-color: #E2EBFA;\n",
              "      --hover-fill-color: #174EA6;\n",
              "      --disabled-fill-color: #AAA;\n",
              "      --disabled-bg-color: #DDD;\n",
              "  }\n",
              "\n",
              "  [theme=dark] .colab-df-quickchart {\n",
              "      --bg-color: #3B4455;\n",
              "      --fill-color: #D2E3FC;\n",
              "      --hover-bg-color: #434B5C;\n",
              "      --hover-fill-color: #FFFFFF;\n",
              "      --disabled-bg-color: #3B4455;\n",
              "      --disabled-fill-color: #666;\n",
              "  }\n",
              "\n",
              "  .colab-df-quickchart {\n",
              "    background-color: var(--bg-color);\n",
              "    border: none;\n",
              "    border-radius: 50%;\n",
              "    cursor: pointer;\n",
              "    display: none;\n",
              "    fill: var(--fill-color);\n",
              "    height: 32px;\n",
              "    padding: 0;\n",
              "    width: 32px;\n",
              "  }\n",
              "\n",
              "  .colab-df-quickchart:hover {\n",
              "    background-color: var(--hover-bg-color);\n",
              "    box-shadow: 0 1px 2px rgba(60, 64, 67, 0.3), 0 1px 3px 1px rgba(60, 64, 67, 0.15);\n",
              "    fill: var(--button-hover-fill-color);\n",
              "  }\n",
              "\n",
              "  .colab-df-quickchart-complete:disabled,\n",
              "  .colab-df-quickchart-complete:disabled:hover {\n",
              "    background-color: var(--disabled-bg-color);\n",
              "    fill: var(--disabled-fill-color);\n",
              "    box-shadow: none;\n",
              "  }\n",
              "\n",
              "  .colab-df-spinner {\n",
              "    border: 2px solid var(--fill-color);\n",
              "    border-color: transparent;\n",
              "    border-bottom-color: var(--fill-color);\n",
              "    animation:\n",
              "      spin 1s steps(1) infinite;\n",
              "  }\n",
              "\n",
              "  @keyframes spin {\n",
              "    0% {\n",
              "      border-color: transparent;\n",
              "      border-bottom-color: var(--fill-color);\n",
              "      border-left-color: var(--fill-color);\n",
              "    }\n",
              "    20% {\n",
              "      border-color: transparent;\n",
              "      border-left-color: var(--fill-color);\n",
              "      border-top-color: var(--fill-color);\n",
              "    }\n",
              "    30% {\n",
              "      border-color: transparent;\n",
              "      border-left-color: var(--fill-color);\n",
              "      border-top-color: var(--fill-color);\n",
              "      border-right-color: var(--fill-color);\n",
              "    }\n",
              "    40% {\n",
              "      border-color: transparent;\n",
              "      border-right-color: var(--fill-color);\n",
              "      border-top-color: var(--fill-color);\n",
              "    }\n",
              "    60% {\n",
              "      border-color: transparent;\n",
              "      border-right-color: var(--fill-color);\n",
              "    }\n",
              "    80% {\n",
              "      border-color: transparent;\n",
              "      border-right-color: var(--fill-color);\n",
              "      border-bottom-color: var(--fill-color);\n",
              "    }\n",
              "    90% {\n",
              "      border-color: transparent;\n",
              "      border-bottom-color: var(--fill-color);\n",
              "    }\n",
              "  }\n",
              "</style>\n",
              "\n",
              "  <script>\n",
              "    async function quickchart(key) {\n",
              "      const quickchartButtonEl =\n",
              "        document.querySelector('#' + key + ' button');\n",
              "      quickchartButtonEl.disabled = true;  // To prevent multiple clicks.\n",
              "      quickchartButtonEl.classList.add('colab-df-spinner');\n",
              "      try {\n",
              "        const charts = await google.colab.kernel.invokeFunction(\n",
              "            'suggestCharts', [key], {});\n",
              "      } catch (error) {\n",
              "        console.error('Error during call to suggestCharts:', error);\n",
              "      }\n",
              "      quickchartButtonEl.classList.remove('colab-df-spinner');\n",
              "      quickchartButtonEl.classList.add('colab-df-quickchart-complete');\n",
              "    }\n",
              "    (() => {\n",
              "      let quickchartButtonEl =\n",
              "        document.querySelector('#df-b9e3c09f-bc2a-4295-977b-13fccc79cf44 button');\n",
              "      quickchartButtonEl.style.display =\n",
              "        google.colab.kernel.accessAllowed ? 'block' : 'none';\n",
              "    })();\n",
              "  </script>\n",
              "</div>\n",
              "    </div>\n",
              "  </div>\n"
            ],
            "application/vnd.google.colaboratory.intrinsic+json": {
              "type": "dataframe",
              "variable_name": "df_origin"
            }
          },
          "metadata": {},
          "execution_count": 128
        }
      ]
    },
    {
      "cell_type": "markdown",
      "source": [
        "После считывания датасета столбцы с временем неправильно преобразовались"
      ],
      "metadata": {
        "id": "VmZaASWHx5QD"
      }
    },
    {
      "cell_type": "markdown",
      "source": [
        "# Визуальный анализ"
      ],
      "metadata": {
        "id": "AjIFpp_0oigA"
      }
    },
    {
      "cell_type": "code",
      "source": [
        "df = df_origin.copy()"
      ],
      "metadata": {
        "id": "8EQw0AzZudzT"
      },
      "execution_count": 132,
      "outputs": []
    },
    {
      "cell_type": "code",
      "source": [
        "from matplotlib import pyplot as plt\n",
        "import seaborn as sns"
      ],
      "metadata": {
        "id": "8WhSt69dUEOS"
      },
      "execution_count": 133,
      "outputs": []
    },
    {
      "cell_type": "markdown",
      "source": [
        "Переименование столбцов"
      ],
      "metadata": {
        "id": "Bcbu2cwgorFE"
      }
    },
    {
      "cell_type": "code",
      "source": [
        "df  = df.rename(columns={'Дата рейса': 'flight_date',\n",
        "                   'Рейс': 'flight',\n",
        "                   'А/П отправл': 'airport_out',\n",
        "                   'А/П прибыт': 'airport_in',\n",
        "                   'Номер ВС': 'air_number',\n",
        "                   'Время отправления по расписанию': 'scheduled_time_out',\n",
        "                   'Время отправления фактическое': 'actual_time_out',\n",
        "                   'Время прибытия по расписанию': 'scheduled_time_in',\n",
        "                   'Время прибытия фактическое': 'actual_time_in'})"
      ],
      "metadata": {
        "id": "pSYuRoA5okYT"
      },
      "execution_count": 134,
      "outputs": []
    },
    {
      "cell_type": "code",
      "source": [
        "df.head()"
      ],
      "metadata": {
        "colab": {
          "base_uri": "https://localhost:8080/",
          "height": 206
        },
        "id": "suq8hXHu2JSg",
        "outputId": "ead7b0dd-7c2e-4054-e373-c1502a7b9009"
      },
      "execution_count": 135,
      "outputs": [
        {
          "output_type": "execute_result",
          "data": {
            "text/plain": [
              "  flight_date  flight airport_out airport_in  air_number  scheduled_time_out  \\\n",
              "0  2018-03-01       1         MOW        ARH           1 2018-03-01 00:05:00   \n",
              "1  2018-03-01       2         MOW        EGO           2 2018-03-01 00:05:00   \n",
              "2  2018-03-01       3         MOW        AKX           3 2018-03-01 00:15:00   \n",
              "3  2018-03-01       4         LED        MOW           4 2018-03-01 00:20:00   \n",
              "4  2018-03-01       5         MOW        KRR           5 2018-03-01 00:25:00   \n",
              "\n",
              "      actual_time_out   scheduled_time_in      actual_time_in  \n",
              "0 2018-02-28 23:48:00 2018-03-01 02:00:00 2018-03-01 01:48:00  \n",
              "1 2018-03-01 00:00:00 2018-03-01 01:30:00 2018-03-01 01:55:00  \n",
              "2 2018-03-01 00:14:00 2018-03-01 02:40:00 2018-03-01 02:32:00  \n",
              "3 2018-03-01 00:11:00 2018-03-01 01:35:00 2018-03-01 01:39:00  \n",
              "4 2018-03-01 00:21:00 2018-03-01 02:40:00 2018-03-01 02:41:00  "
            ],
            "text/html": [
              "\n",
              "  <div id=\"df-53273e71-f361-41a5-ab21-84502e259955\" class=\"colab-df-container\">\n",
              "    <div>\n",
              "<style scoped>\n",
              "    .dataframe tbody tr th:only-of-type {\n",
              "        vertical-align: middle;\n",
              "    }\n",
              "\n",
              "    .dataframe tbody tr th {\n",
              "        vertical-align: top;\n",
              "    }\n",
              "\n",
              "    .dataframe thead th {\n",
              "        text-align: right;\n",
              "    }\n",
              "</style>\n",
              "<table border=\"1\" class=\"dataframe\">\n",
              "  <thead>\n",
              "    <tr style=\"text-align: right;\">\n",
              "      <th></th>\n",
              "      <th>flight_date</th>\n",
              "      <th>flight</th>\n",
              "      <th>airport_out</th>\n",
              "      <th>airport_in</th>\n",
              "      <th>air_number</th>\n",
              "      <th>scheduled_time_out</th>\n",
              "      <th>actual_time_out</th>\n",
              "      <th>scheduled_time_in</th>\n",
              "      <th>actual_time_in</th>\n",
              "    </tr>\n",
              "  </thead>\n",
              "  <tbody>\n",
              "    <tr>\n",
              "      <th>0</th>\n",
              "      <td>2018-03-01</td>\n",
              "      <td>1</td>\n",
              "      <td>MOW</td>\n",
              "      <td>ARH</td>\n",
              "      <td>1</td>\n",
              "      <td>2018-03-01 00:05:00</td>\n",
              "      <td>2018-02-28 23:48:00</td>\n",
              "      <td>2018-03-01 02:00:00</td>\n",
              "      <td>2018-03-01 01:48:00</td>\n",
              "    </tr>\n",
              "    <tr>\n",
              "      <th>1</th>\n",
              "      <td>2018-03-01</td>\n",
              "      <td>2</td>\n",
              "      <td>MOW</td>\n",
              "      <td>EGO</td>\n",
              "      <td>2</td>\n",
              "      <td>2018-03-01 00:05:00</td>\n",
              "      <td>2018-03-01 00:00:00</td>\n",
              "      <td>2018-03-01 01:30:00</td>\n",
              "      <td>2018-03-01 01:55:00</td>\n",
              "    </tr>\n",
              "    <tr>\n",
              "      <th>2</th>\n",
              "      <td>2018-03-01</td>\n",
              "      <td>3</td>\n",
              "      <td>MOW</td>\n",
              "      <td>AKX</td>\n",
              "      <td>3</td>\n",
              "      <td>2018-03-01 00:15:00</td>\n",
              "      <td>2018-03-01 00:14:00</td>\n",
              "      <td>2018-03-01 02:40:00</td>\n",
              "      <td>2018-03-01 02:32:00</td>\n",
              "    </tr>\n",
              "    <tr>\n",
              "      <th>3</th>\n",
              "      <td>2018-03-01</td>\n",
              "      <td>4</td>\n",
              "      <td>LED</td>\n",
              "      <td>MOW</td>\n",
              "      <td>4</td>\n",
              "      <td>2018-03-01 00:20:00</td>\n",
              "      <td>2018-03-01 00:11:00</td>\n",
              "      <td>2018-03-01 01:35:00</td>\n",
              "      <td>2018-03-01 01:39:00</td>\n",
              "    </tr>\n",
              "    <tr>\n",
              "      <th>4</th>\n",
              "      <td>2018-03-01</td>\n",
              "      <td>5</td>\n",
              "      <td>MOW</td>\n",
              "      <td>KRR</td>\n",
              "      <td>5</td>\n",
              "      <td>2018-03-01 00:25:00</td>\n",
              "      <td>2018-03-01 00:21:00</td>\n",
              "      <td>2018-03-01 02:40:00</td>\n",
              "      <td>2018-03-01 02:41:00</td>\n",
              "    </tr>\n",
              "  </tbody>\n",
              "</table>\n",
              "</div>\n",
              "    <div class=\"colab-df-buttons\">\n",
              "\n",
              "  <div class=\"colab-df-container\">\n",
              "    <button class=\"colab-df-convert\" onclick=\"convertToInteractive('df-53273e71-f361-41a5-ab21-84502e259955')\"\n",
              "            title=\"Convert this dataframe to an interactive table.\"\n",
              "            style=\"display:none;\">\n",
              "\n",
              "  <svg xmlns=\"http://www.w3.org/2000/svg\" height=\"24px\" viewBox=\"0 -960 960 960\">\n",
              "    <path d=\"M120-120v-720h720v720H120Zm60-500h600v-160H180v160Zm220 220h160v-160H400v160Zm0 220h160v-160H400v160ZM180-400h160v-160H180v160Zm440 0h160v-160H620v160ZM180-180h160v-160H180v160Zm440 0h160v-160H620v160Z\"/>\n",
              "  </svg>\n",
              "    </button>\n",
              "\n",
              "  <style>\n",
              "    .colab-df-container {\n",
              "      display:flex;\n",
              "      gap: 12px;\n",
              "    }\n",
              "\n",
              "    .colab-df-convert {\n",
              "      background-color: #E8F0FE;\n",
              "      border: none;\n",
              "      border-radius: 50%;\n",
              "      cursor: pointer;\n",
              "      display: none;\n",
              "      fill: #1967D2;\n",
              "      height: 32px;\n",
              "      padding: 0 0 0 0;\n",
              "      width: 32px;\n",
              "    }\n",
              "\n",
              "    .colab-df-convert:hover {\n",
              "      background-color: #E2EBFA;\n",
              "      box-shadow: 0px 1px 2px rgba(60, 64, 67, 0.3), 0px 1px 3px 1px rgba(60, 64, 67, 0.15);\n",
              "      fill: #174EA6;\n",
              "    }\n",
              "\n",
              "    .colab-df-buttons div {\n",
              "      margin-bottom: 4px;\n",
              "    }\n",
              "\n",
              "    [theme=dark] .colab-df-convert {\n",
              "      background-color: #3B4455;\n",
              "      fill: #D2E3FC;\n",
              "    }\n",
              "\n",
              "    [theme=dark] .colab-df-convert:hover {\n",
              "      background-color: #434B5C;\n",
              "      box-shadow: 0px 1px 3px 1px rgba(0, 0, 0, 0.15);\n",
              "      filter: drop-shadow(0px 1px 2px rgba(0, 0, 0, 0.3));\n",
              "      fill: #FFFFFF;\n",
              "    }\n",
              "  </style>\n",
              "\n",
              "    <script>\n",
              "      const buttonEl =\n",
              "        document.querySelector('#df-53273e71-f361-41a5-ab21-84502e259955 button.colab-df-convert');\n",
              "      buttonEl.style.display =\n",
              "        google.colab.kernel.accessAllowed ? 'block' : 'none';\n",
              "\n",
              "      async function convertToInteractive(key) {\n",
              "        const element = document.querySelector('#df-53273e71-f361-41a5-ab21-84502e259955');\n",
              "        const dataTable =\n",
              "          await google.colab.kernel.invokeFunction('convertToInteractive',\n",
              "                                                    [key], {});\n",
              "        if (!dataTable) return;\n",
              "\n",
              "        const docLinkHtml = 'Like what you see? Visit the ' +\n",
              "          '<a target=\"_blank\" href=https://colab.research.google.com/notebooks/data_table.ipynb>data table notebook</a>'\n",
              "          + ' to learn more about interactive tables.';\n",
              "        element.innerHTML = '';\n",
              "        dataTable['output_type'] = 'display_data';\n",
              "        await google.colab.output.renderOutput(dataTable, element);\n",
              "        const docLink = document.createElement('div');\n",
              "        docLink.innerHTML = docLinkHtml;\n",
              "        element.appendChild(docLink);\n",
              "      }\n",
              "    </script>\n",
              "  </div>\n",
              "\n",
              "\n",
              "<div id=\"df-b041ca0a-3146-4043-8361-a6f80c6f9201\">\n",
              "  <button class=\"colab-df-quickchart\" onclick=\"quickchart('df-b041ca0a-3146-4043-8361-a6f80c6f9201')\"\n",
              "            title=\"Suggest charts\"\n",
              "            style=\"display:none;\">\n",
              "\n",
              "<svg xmlns=\"http://www.w3.org/2000/svg\" height=\"24px\"viewBox=\"0 0 24 24\"\n",
              "     width=\"24px\">\n",
              "    <g>\n",
              "        <path d=\"M19 3H5c-1.1 0-2 .9-2 2v14c0 1.1.9 2 2 2h14c1.1 0 2-.9 2-2V5c0-1.1-.9-2-2-2zM9 17H7v-7h2v7zm4 0h-2V7h2v10zm4 0h-2v-4h2v4z\"/>\n",
              "    </g>\n",
              "</svg>\n",
              "  </button>\n",
              "\n",
              "<style>\n",
              "  .colab-df-quickchart {\n",
              "      --bg-color: #E8F0FE;\n",
              "      --fill-color: #1967D2;\n",
              "      --hover-bg-color: #E2EBFA;\n",
              "      --hover-fill-color: #174EA6;\n",
              "      --disabled-fill-color: #AAA;\n",
              "      --disabled-bg-color: #DDD;\n",
              "  }\n",
              "\n",
              "  [theme=dark] .colab-df-quickchart {\n",
              "      --bg-color: #3B4455;\n",
              "      --fill-color: #D2E3FC;\n",
              "      --hover-bg-color: #434B5C;\n",
              "      --hover-fill-color: #FFFFFF;\n",
              "      --disabled-bg-color: #3B4455;\n",
              "      --disabled-fill-color: #666;\n",
              "  }\n",
              "\n",
              "  .colab-df-quickchart {\n",
              "    background-color: var(--bg-color);\n",
              "    border: none;\n",
              "    border-radius: 50%;\n",
              "    cursor: pointer;\n",
              "    display: none;\n",
              "    fill: var(--fill-color);\n",
              "    height: 32px;\n",
              "    padding: 0;\n",
              "    width: 32px;\n",
              "  }\n",
              "\n",
              "  .colab-df-quickchart:hover {\n",
              "    background-color: var(--hover-bg-color);\n",
              "    box-shadow: 0 1px 2px rgba(60, 64, 67, 0.3), 0 1px 3px 1px rgba(60, 64, 67, 0.15);\n",
              "    fill: var(--button-hover-fill-color);\n",
              "  }\n",
              "\n",
              "  .colab-df-quickchart-complete:disabled,\n",
              "  .colab-df-quickchart-complete:disabled:hover {\n",
              "    background-color: var(--disabled-bg-color);\n",
              "    fill: var(--disabled-fill-color);\n",
              "    box-shadow: none;\n",
              "  }\n",
              "\n",
              "  .colab-df-spinner {\n",
              "    border: 2px solid var(--fill-color);\n",
              "    border-color: transparent;\n",
              "    border-bottom-color: var(--fill-color);\n",
              "    animation:\n",
              "      spin 1s steps(1) infinite;\n",
              "  }\n",
              "\n",
              "  @keyframes spin {\n",
              "    0% {\n",
              "      border-color: transparent;\n",
              "      border-bottom-color: var(--fill-color);\n",
              "      border-left-color: var(--fill-color);\n",
              "    }\n",
              "    20% {\n",
              "      border-color: transparent;\n",
              "      border-left-color: var(--fill-color);\n",
              "      border-top-color: var(--fill-color);\n",
              "    }\n",
              "    30% {\n",
              "      border-color: transparent;\n",
              "      border-left-color: var(--fill-color);\n",
              "      border-top-color: var(--fill-color);\n",
              "      border-right-color: var(--fill-color);\n",
              "    }\n",
              "    40% {\n",
              "      border-color: transparent;\n",
              "      border-right-color: var(--fill-color);\n",
              "      border-top-color: var(--fill-color);\n",
              "    }\n",
              "    60% {\n",
              "      border-color: transparent;\n",
              "      border-right-color: var(--fill-color);\n",
              "    }\n",
              "    80% {\n",
              "      border-color: transparent;\n",
              "      border-right-color: var(--fill-color);\n",
              "      border-bottom-color: var(--fill-color);\n",
              "    }\n",
              "    90% {\n",
              "      border-color: transparent;\n",
              "      border-bottom-color: var(--fill-color);\n",
              "    }\n",
              "  }\n",
              "</style>\n",
              "\n",
              "  <script>\n",
              "    async function quickchart(key) {\n",
              "      const quickchartButtonEl =\n",
              "        document.querySelector('#' + key + ' button');\n",
              "      quickchartButtonEl.disabled = true;  // To prevent multiple clicks.\n",
              "      quickchartButtonEl.classList.add('colab-df-spinner');\n",
              "      try {\n",
              "        const charts = await google.colab.kernel.invokeFunction(\n",
              "            'suggestCharts', [key], {});\n",
              "      } catch (error) {\n",
              "        console.error('Error during call to suggestCharts:', error);\n",
              "      }\n",
              "      quickchartButtonEl.classList.remove('colab-df-spinner');\n",
              "      quickchartButtonEl.classList.add('colab-df-quickchart-complete');\n",
              "    }\n",
              "    (() => {\n",
              "      let quickchartButtonEl =\n",
              "        document.querySelector('#df-b041ca0a-3146-4043-8361-a6f80c6f9201 button');\n",
              "      quickchartButtonEl.style.display =\n",
              "        google.colab.kernel.accessAllowed ? 'block' : 'none';\n",
              "    })();\n",
              "  </script>\n",
              "</div>\n",
              "    </div>\n",
              "  </div>\n"
            ],
            "application/vnd.google.colaboratory.intrinsic+json": {
              "type": "dataframe",
              "variable_name": "df"
            }
          },
          "metadata": {},
          "execution_count": 135
        }
      ]
    },
    {
      "cell_type": "markdown",
      "source": [
        "Исправим ошибку при считывании"
      ],
      "metadata": {
        "id": "cveHxHgEyJIO"
      }
    },
    {
      "cell_type": "code",
      "source": [
        "df['scheduled_time_out'] = pd.to_datetime(df['scheduled_time_out'].dt.time, format='%H:%M:%S')\n",
        "df['actual_time_out'] = pd.to_datetime(df['actual_time_out'].dt.time, format='%H:%M:%S')\n",
        "df['scheduled_time_in'] = pd.to_datetime(df['scheduled_time_in'].dt.time, format='%H:%M:%S')\n",
        "df['actual_time_in'] = pd.to_datetime(df['actual_time_in'].dt.time, format='%H:%M:%S')"
      ],
      "metadata": {
        "id": "dfrdXr6uyImb"
      },
      "execution_count": 136,
      "outputs": []
    },
    {
      "cell_type": "code",
      "source": [
        "df.head()"
      ],
      "metadata": {
        "colab": {
          "base_uri": "https://localhost:8080/",
          "height": 206
        },
        "id": "YnDFl9jmzyLu",
        "outputId": "7fd43cdc-8da4-41d5-ee66-85de94ebe82b"
      },
      "execution_count": 137,
      "outputs": [
        {
          "output_type": "execute_result",
          "data": {
            "text/plain": [
              "  flight_date  flight airport_out airport_in  air_number  scheduled_time_out  \\\n",
              "0  2018-03-01       1         MOW        ARH           1 1900-01-01 00:05:00   \n",
              "1  2018-03-01       2         MOW        EGO           2 1900-01-01 00:05:00   \n",
              "2  2018-03-01       3         MOW        AKX           3 1900-01-01 00:15:00   \n",
              "3  2018-03-01       4         LED        MOW           4 1900-01-01 00:20:00   \n",
              "4  2018-03-01       5         MOW        KRR           5 1900-01-01 00:25:00   \n",
              "\n",
              "      actual_time_out   scheduled_time_in      actual_time_in  \n",
              "0 1900-01-01 23:48:00 1900-01-01 02:00:00 1900-01-01 01:48:00  \n",
              "1 1900-01-01 00:00:00 1900-01-01 01:30:00 1900-01-01 01:55:00  \n",
              "2 1900-01-01 00:14:00 1900-01-01 02:40:00 1900-01-01 02:32:00  \n",
              "3 1900-01-01 00:11:00 1900-01-01 01:35:00 1900-01-01 01:39:00  \n",
              "4 1900-01-01 00:21:00 1900-01-01 02:40:00 1900-01-01 02:41:00  "
            ],
            "text/html": [
              "\n",
              "  <div id=\"df-27c1bce3-2c03-4f17-bdd2-f6d780d703f3\" class=\"colab-df-container\">\n",
              "    <div>\n",
              "<style scoped>\n",
              "    .dataframe tbody tr th:only-of-type {\n",
              "        vertical-align: middle;\n",
              "    }\n",
              "\n",
              "    .dataframe tbody tr th {\n",
              "        vertical-align: top;\n",
              "    }\n",
              "\n",
              "    .dataframe thead th {\n",
              "        text-align: right;\n",
              "    }\n",
              "</style>\n",
              "<table border=\"1\" class=\"dataframe\">\n",
              "  <thead>\n",
              "    <tr style=\"text-align: right;\">\n",
              "      <th></th>\n",
              "      <th>flight_date</th>\n",
              "      <th>flight</th>\n",
              "      <th>airport_out</th>\n",
              "      <th>airport_in</th>\n",
              "      <th>air_number</th>\n",
              "      <th>scheduled_time_out</th>\n",
              "      <th>actual_time_out</th>\n",
              "      <th>scheduled_time_in</th>\n",
              "      <th>actual_time_in</th>\n",
              "    </tr>\n",
              "  </thead>\n",
              "  <tbody>\n",
              "    <tr>\n",
              "      <th>0</th>\n",
              "      <td>2018-03-01</td>\n",
              "      <td>1</td>\n",
              "      <td>MOW</td>\n",
              "      <td>ARH</td>\n",
              "      <td>1</td>\n",
              "      <td>1900-01-01 00:05:00</td>\n",
              "      <td>1900-01-01 23:48:00</td>\n",
              "      <td>1900-01-01 02:00:00</td>\n",
              "      <td>1900-01-01 01:48:00</td>\n",
              "    </tr>\n",
              "    <tr>\n",
              "      <th>1</th>\n",
              "      <td>2018-03-01</td>\n",
              "      <td>2</td>\n",
              "      <td>MOW</td>\n",
              "      <td>EGO</td>\n",
              "      <td>2</td>\n",
              "      <td>1900-01-01 00:05:00</td>\n",
              "      <td>1900-01-01 00:00:00</td>\n",
              "      <td>1900-01-01 01:30:00</td>\n",
              "      <td>1900-01-01 01:55:00</td>\n",
              "    </tr>\n",
              "    <tr>\n",
              "      <th>2</th>\n",
              "      <td>2018-03-01</td>\n",
              "      <td>3</td>\n",
              "      <td>MOW</td>\n",
              "      <td>AKX</td>\n",
              "      <td>3</td>\n",
              "      <td>1900-01-01 00:15:00</td>\n",
              "      <td>1900-01-01 00:14:00</td>\n",
              "      <td>1900-01-01 02:40:00</td>\n",
              "      <td>1900-01-01 02:32:00</td>\n",
              "    </tr>\n",
              "    <tr>\n",
              "      <th>3</th>\n",
              "      <td>2018-03-01</td>\n",
              "      <td>4</td>\n",
              "      <td>LED</td>\n",
              "      <td>MOW</td>\n",
              "      <td>4</td>\n",
              "      <td>1900-01-01 00:20:00</td>\n",
              "      <td>1900-01-01 00:11:00</td>\n",
              "      <td>1900-01-01 01:35:00</td>\n",
              "      <td>1900-01-01 01:39:00</td>\n",
              "    </tr>\n",
              "    <tr>\n",
              "      <th>4</th>\n",
              "      <td>2018-03-01</td>\n",
              "      <td>5</td>\n",
              "      <td>MOW</td>\n",
              "      <td>KRR</td>\n",
              "      <td>5</td>\n",
              "      <td>1900-01-01 00:25:00</td>\n",
              "      <td>1900-01-01 00:21:00</td>\n",
              "      <td>1900-01-01 02:40:00</td>\n",
              "      <td>1900-01-01 02:41:00</td>\n",
              "    </tr>\n",
              "  </tbody>\n",
              "</table>\n",
              "</div>\n",
              "    <div class=\"colab-df-buttons\">\n",
              "\n",
              "  <div class=\"colab-df-container\">\n",
              "    <button class=\"colab-df-convert\" onclick=\"convertToInteractive('df-27c1bce3-2c03-4f17-bdd2-f6d780d703f3')\"\n",
              "            title=\"Convert this dataframe to an interactive table.\"\n",
              "            style=\"display:none;\">\n",
              "\n",
              "  <svg xmlns=\"http://www.w3.org/2000/svg\" height=\"24px\" viewBox=\"0 -960 960 960\">\n",
              "    <path d=\"M120-120v-720h720v720H120Zm60-500h600v-160H180v160Zm220 220h160v-160H400v160Zm0 220h160v-160H400v160ZM180-400h160v-160H180v160Zm440 0h160v-160H620v160ZM180-180h160v-160H180v160Zm440 0h160v-160H620v160Z\"/>\n",
              "  </svg>\n",
              "    </button>\n",
              "\n",
              "  <style>\n",
              "    .colab-df-container {\n",
              "      display:flex;\n",
              "      gap: 12px;\n",
              "    }\n",
              "\n",
              "    .colab-df-convert {\n",
              "      background-color: #E8F0FE;\n",
              "      border: none;\n",
              "      border-radius: 50%;\n",
              "      cursor: pointer;\n",
              "      display: none;\n",
              "      fill: #1967D2;\n",
              "      height: 32px;\n",
              "      padding: 0 0 0 0;\n",
              "      width: 32px;\n",
              "    }\n",
              "\n",
              "    .colab-df-convert:hover {\n",
              "      background-color: #E2EBFA;\n",
              "      box-shadow: 0px 1px 2px rgba(60, 64, 67, 0.3), 0px 1px 3px 1px rgba(60, 64, 67, 0.15);\n",
              "      fill: #174EA6;\n",
              "    }\n",
              "\n",
              "    .colab-df-buttons div {\n",
              "      margin-bottom: 4px;\n",
              "    }\n",
              "\n",
              "    [theme=dark] .colab-df-convert {\n",
              "      background-color: #3B4455;\n",
              "      fill: #D2E3FC;\n",
              "    }\n",
              "\n",
              "    [theme=dark] .colab-df-convert:hover {\n",
              "      background-color: #434B5C;\n",
              "      box-shadow: 0px 1px 3px 1px rgba(0, 0, 0, 0.15);\n",
              "      filter: drop-shadow(0px 1px 2px rgba(0, 0, 0, 0.3));\n",
              "      fill: #FFFFFF;\n",
              "    }\n",
              "  </style>\n",
              "\n",
              "    <script>\n",
              "      const buttonEl =\n",
              "        document.querySelector('#df-27c1bce3-2c03-4f17-bdd2-f6d780d703f3 button.colab-df-convert');\n",
              "      buttonEl.style.display =\n",
              "        google.colab.kernel.accessAllowed ? 'block' : 'none';\n",
              "\n",
              "      async function convertToInteractive(key) {\n",
              "        const element = document.querySelector('#df-27c1bce3-2c03-4f17-bdd2-f6d780d703f3');\n",
              "        const dataTable =\n",
              "          await google.colab.kernel.invokeFunction('convertToInteractive',\n",
              "                                                    [key], {});\n",
              "        if (!dataTable) return;\n",
              "\n",
              "        const docLinkHtml = 'Like what you see? Visit the ' +\n",
              "          '<a target=\"_blank\" href=https://colab.research.google.com/notebooks/data_table.ipynb>data table notebook</a>'\n",
              "          + ' to learn more about interactive tables.';\n",
              "        element.innerHTML = '';\n",
              "        dataTable['output_type'] = 'display_data';\n",
              "        await google.colab.output.renderOutput(dataTable, element);\n",
              "        const docLink = document.createElement('div');\n",
              "        docLink.innerHTML = docLinkHtml;\n",
              "        element.appendChild(docLink);\n",
              "      }\n",
              "    </script>\n",
              "  </div>\n",
              "\n",
              "\n",
              "<div id=\"df-112b26c8-ed7d-4883-86e8-70069e63cc55\">\n",
              "  <button class=\"colab-df-quickchart\" onclick=\"quickchart('df-112b26c8-ed7d-4883-86e8-70069e63cc55')\"\n",
              "            title=\"Suggest charts\"\n",
              "            style=\"display:none;\">\n",
              "\n",
              "<svg xmlns=\"http://www.w3.org/2000/svg\" height=\"24px\"viewBox=\"0 0 24 24\"\n",
              "     width=\"24px\">\n",
              "    <g>\n",
              "        <path d=\"M19 3H5c-1.1 0-2 .9-2 2v14c0 1.1.9 2 2 2h14c1.1 0 2-.9 2-2V5c0-1.1-.9-2-2-2zM9 17H7v-7h2v7zm4 0h-2V7h2v10zm4 0h-2v-4h2v4z\"/>\n",
              "    </g>\n",
              "</svg>\n",
              "  </button>\n",
              "\n",
              "<style>\n",
              "  .colab-df-quickchart {\n",
              "      --bg-color: #E8F0FE;\n",
              "      --fill-color: #1967D2;\n",
              "      --hover-bg-color: #E2EBFA;\n",
              "      --hover-fill-color: #174EA6;\n",
              "      --disabled-fill-color: #AAA;\n",
              "      --disabled-bg-color: #DDD;\n",
              "  }\n",
              "\n",
              "  [theme=dark] .colab-df-quickchart {\n",
              "      --bg-color: #3B4455;\n",
              "      --fill-color: #D2E3FC;\n",
              "      --hover-bg-color: #434B5C;\n",
              "      --hover-fill-color: #FFFFFF;\n",
              "      --disabled-bg-color: #3B4455;\n",
              "      --disabled-fill-color: #666;\n",
              "  }\n",
              "\n",
              "  .colab-df-quickchart {\n",
              "    background-color: var(--bg-color);\n",
              "    border: none;\n",
              "    border-radius: 50%;\n",
              "    cursor: pointer;\n",
              "    display: none;\n",
              "    fill: var(--fill-color);\n",
              "    height: 32px;\n",
              "    padding: 0;\n",
              "    width: 32px;\n",
              "  }\n",
              "\n",
              "  .colab-df-quickchart:hover {\n",
              "    background-color: var(--hover-bg-color);\n",
              "    box-shadow: 0 1px 2px rgba(60, 64, 67, 0.3), 0 1px 3px 1px rgba(60, 64, 67, 0.15);\n",
              "    fill: var(--button-hover-fill-color);\n",
              "  }\n",
              "\n",
              "  .colab-df-quickchart-complete:disabled,\n",
              "  .colab-df-quickchart-complete:disabled:hover {\n",
              "    background-color: var(--disabled-bg-color);\n",
              "    fill: var(--disabled-fill-color);\n",
              "    box-shadow: none;\n",
              "  }\n",
              "\n",
              "  .colab-df-spinner {\n",
              "    border: 2px solid var(--fill-color);\n",
              "    border-color: transparent;\n",
              "    border-bottom-color: var(--fill-color);\n",
              "    animation:\n",
              "      spin 1s steps(1) infinite;\n",
              "  }\n",
              "\n",
              "  @keyframes spin {\n",
              "    0% {\n",
              "      border-color: transparent;\n",
              "      border-bottom-color: var(--fill-color);\n",
              "      border-left-color: var(--fill-color);\n",
              "    }\n",
              "    20% {\n",
              "      border-color: transparent;\n",
              "      border-left-color: var(--fill-color);\n",
              "      border-top-color: var(--fill-color);\n",
              "    }\n",
              "    30% {\n",
              "      border-color: transparent;\n",
              "      border-left-color: var(--fill-color);\n",
              "      border-top-color: var(--fill-color);\n",
              "      border-right-color: var(--fill-color);\n",
              "    }\n",
              "    40% {\n",
              "      border-color: transparent;\n",
              "      border-right-color: var(--fill-color);\n",
              "      border-top-color: var(--fill-color);\n",
              "    }\n",
              "    60% {\n",
              "      border-color: transparent;\n",
              "      border-right-color: var(--fill-color);\n",
              "    }\n",
              "    80% {\n",
              "      border-color: transparent;\n",
              "      border-right-color: var(--fill-color);\n",
              "      border-bottom-color: var(--fill-color);\n",
              "    }\n",
              "    90% {\n",
              "      border-color: transparent;\n",
              "      border-bottom-color: var(--fill-color);\n",
              "    }\n",
              "  }\n",
              "</style>\n",
              "\n",
              "  <script>\n",
              "    async function quickchart(key) {\n",
              "      const quickchartButtonEl =\n",
              "        document.querySelector('#' + key + ' button');\n",
              "      quickchartButtonEl.disabled = true;  // To prevent multiple clicks.\n",
              "      quickchartButtonEl.classList.add('colab-df-spinner');\n",
              "      try {\n",
              "        const charts = await google.colab.kernel.invokeFunction(\n",
              "            'suggestCharts', [key], {});\n",
              "      } catch (error) {\n",
              "        console.error('Error during call to suggestCharts:', error);\n",
              "      }\n",
              "      quickchartButtonEl.classList.remove('colab-df-spinner');\n",
              "      quickchartButtonEl.classList.add('colab-df-quickchart-complete');\n",
              "    }\n",
              "    (() => {\n",
              "      let quickchartButtonEl =\n",
              "        document.querySelector('#df-112b26c8-ed7d-4883-86e8-70069e63cc55 button');\n",
              "      quickchartButtonEl.style.display =\n",
              "        google.colab.kernel.accessAllowed ? 'block' : 'none';\n",
              "    })();\n",
              "  </script>\n",
              "</div>\n",
              "    </div>\n",
              "  </div>\n"
            ],
            "application/vnd.google.colaboratory.intrinsic+json": {
              "type": "dataframe",
              "variable_name": "df"
            }
          },
          "metadata": {},
          "execution_count": 137
        }
      ]
    },
    {
      "cell_type": "markdown",
      "source": [
        "Извлечение дня и месяца полёта в отдельные признаки"
      ],
      "metadata": {
        "id": "XO_ROdm2oduH"
      }
    },
    {
      "cell_type": "code",
      "source": [
        "df['flight_month'] = df.apply(lambda x: x['flight_date'].month, axis=1)\n",
        "df['flight_day'] = df.apply(lambda x: x['flight_date'].day, axis=1)\n",
        "df['day_of_week'] = df.apply(lambda x: x['flight_date'].day_name(), axis=1)"
      ],
      "metadata": {
        "id": "fdAvrXkWopyE"
      },
      "execution_count": 138,
      "outputs": []
    },
    {
      "cell_type": "markdown",
      "source": [
        "Извлечение времени взлёта\\посадки в отдельный признак"
      ],
      "metadata": {
        "id": "u1ETlKIvox4K"
      }
    },
    {
      "cell_type": "code",
      "source": [
        "df['time_part_out'] = df.apply(lambda x: (x['scheduled_time_out'].hour) // 3, axis=1)\n",
        "df['time_part_in'] = df.apply(lambda x: (x['scheduled_time_in'].hour) // 3, axis=1)"
      ],
      "metadata": {
        "id": "7-9qLlURozSL"
      },
      "execution_count": 139,
      "outputs": []
    },
    {
      "cell_type": "markdown",
      "source": [
        "Получение таргетных переменных"
      ],
      "metadata": {
        "id": "W8Ce6qxuvD21"
      }
    },
    {
      "cell_type": "code",
      "source": [
        "def get_delay_class(scheduled_time, actual_time):\n",
        "    sec = (actual_time - scheduled_time).total_seconds()\n",
        "\n",
        "    if sec == 0:\n",
        "      return 'on_schedule'\n",
        "    elif sec > 0:\n",
        "      return 'delay'\n",
        "    else:\n",
        "      return 'hurry'\n",
        "\n",
        "df['target_in'] = df.apply(lambda x: get_delay_class(x['scheduled_time_in'], x['actual_time_in']), axis=1)\n",
        "df['target_in_sec'] = df.apply(lambda x: (x['actual_time_in'] - x['scheduled_time_in']).total_seconds(), axis=1)\n",
        "df['target_out'] = df.apply(lambda x: get_delay_class(x['scheduled_time_out'], x['actual_time_out']), axis=1)\n",
        "df['target_out_sec'] = df.apply(lambda x: (x['actual_time_out'] - x['scheduled_time_out']).total_seconds(), axis=1)"
      ],
      "metadata": {
        "id": "meDv-IYYpJHW"
      },
      "execution_count": 140,
      "outputs": []
    },
    {
      "cell_type": "code",
      "source": [
        "df.head()"
      ],
      "metadata": {
        "colab": {
          "base_uri": "https://localhost:8080/",
          "height": 313
        },
        "id": "_p55G7H8uFlK",
        "outputId": "53c87bee-8b30-4f4c-ea50-51545502de55"
      },
      "execution_count": 141,
      "outputs": [
        {
          "output_type": "execute_result",
          "data": {
            "text/plain": [
              "  flight_date  flight airport_out airport_in  air_number  scheduled_time_out  \\\n",
              "0  2018-03-01       1         MOW        ARH           1 1900-01-01 00:05:00   \n",
              "1  2018-03-01       2         MOW        EGO           2 1900-01-01 00:05:00   \n",
              "2  2018-03-01       3         MOW        AKX           3 1900-01-01 00:15:00   \n",
              "3  2018-03-01       4         LED        MOW           4 1900-01-01 00:20:00   \n",
              "4  2018-03-01       5         MOW        KRR           5 1900-01-01 00:25:00   \n",
              "\n",
              "      actual_time_out   scheduled_time_in      actual_time_in  flight_month  \\\n",
              "0 1900-01-01 23:48:00 1900-01-01 02:00:00 1900-01-01 01:48:00             3   \n",
              "1 1900-01-01 00:00:00 1900-01-01 01:30:00 1900-01-01 01:55:00             3   \n",
              "2 1900-01-01 00:14:00 1900-01-01 02:40:00 1900-01-01 02:32:00             3   \n",
              "3 1900-01-01 00:11:00 1900-01-01 01:35:00 1900-01-01 01:39:00             3   \n",
              "4 1900-01-01 00:21:00 1900-01-01 02:40:00 1900-01-01 02:41:00             3   \n",
              "\n",
              "   flight_day day_of_week  time_part_out  time_part_in target_in  \\\n",
              "0           1    Thursday              0             0     hurry   \n",
              "1           1    Thursday              0             0     delay   \n",
              "2           1    Thursday              0             0     hurry   \n",
              "3           1    Thursday              0             0     delay   \n",
              "4           1    Thursday              0             0     delay   \n",
              "\n",
              "   target_in_sec target_out  target_out_sec  \n",
              "0         -720.0      delay         85380.0  \n",
              "1         1500.0      hurry          -300.0  \n",
              "2         -480.0      hurry           -60.0  \n",
              "3          240.0      hurry          -540.0  \n",
              "4           60.0      hurry          -240.0  "
            ],
            "text/html": [
              "\n",
              "  <div id=\"df-5d7ed853-3796-4321-ba49-2d190f1fb40a\" class=\"colab-df-container\">\n",
              "    <div>\n",
              "<style scoped>\n",
              "    .dataframe tbody tr th:only-of-type {\n",
              "        vertical-align: middle;\n",
              "    }\n",
              "\n",
              "    .dataframe tbody tr th {\n",
              "        vertical-align: top;\n",
              "    }\n",
              "\n",
              "    .dataframe thead th {\n",
              "        text-align: right;\n",
              "    }\n",
              "</style>\n",
              "<table border=\"1\" class=\"dataframe\">\n",
              "  <thead>\n",
              "    <tr style=\"text-align: right;\">\n",
              "      <th></th>\n",
              "      <th>flight_date</th>\n",
              "      <th>flight</th>\n",
              "      <th>airport_out</th>\n",
              "      <th>airport_in</th>\n",
              "      <th>air_number</th>\n",
              "      <th>scheduled_time_out</th>\n",
              "      <th>actual_time_out</th>\n",
              "      <th>scheduled_time_in</th>\n",
              "      <th>actual_time_in</th>\n",
              "      <th>flight_month</th>\n",
              "      <th>flight_day</th>\n",
              "      <th>day_of_week</th>\n",
              "      <th>time_part_out</th>\n",
              "      <th>time_part_in</th>\n",
              "      <th>target_in</th>\n",
              "      <th>target_in_sec</th>\n",
              "      <th>target_out</th>\n",
              "      <th>target_out_sec</th>\n",
              "    </tr>\n",
              "  </thead>\n",
              "  <tbody>\n",
              "    <tr>\n",
              "      <th>0</th>\n",
              "      <td>2018-03-01</td>\n",
              "      <td>1</td>\n",
              "      <td>MOW</td>\n",
              "      <td>ARH</td>\n",
              "      <td>1</td>\n",
              "      <td>1900-01-01 00:05:00</td>\n",
              "      <td>1900-01-01 23:48:00</td>\n",
              "      <td>1900-01-01 02:00:00</td>\n",
              "      <td>1900-01-01 01:48:00</td>\n",
              "      <td>3</td>\n",
              "      <td>1</td>\n",
              "      <td>Thursday</td>\n",
              "      <td>0</td>\n",
              "      <td>0</td>\n",
              "      <td>hurry</td>\n",
              "      <td>-720.0</td>\n",
              "      <td>delay</td>\n",
              "      <td>85380.0</td>\n",
              "    </tr>\n",
              "    <tr>\n",
              "      <th>1</th>\n",
              "      <td>2018-03-01</td>\n",
              "      <td>2</td>\n",
              "      <td>MOW</td>\n",
              "      <td>EGO</td>\n",
              "      <td>2</td>\n",
              "      <td>1900-01-01 00:05:00</td>\n",
              "      <td>1900-01-01 00:00:00</td>\n",
              "      <td>1900-01-01 01:30:00</td>\n",
              "      <td>1900-01-01 01:55:00</td>\n",
              "      <td>3</td>\n",
              "      <td>1</td>\n",
              "      <td>Thursday</td>\n",
              "      <td>0</td>\n",
              "      <td>0</td>\n",
              "      <td>delay</td>\n",
              "      <td>1500.0</td>\n",
              "      <td>hurry</td>\n",
              "      <td>-300.0</td>\n",
              "    </tr>\n",
              "    <tr>\n",
              "      <th>2</th>\n",
              "      <td>2018-03-01</td>\n",
              "      <td>3</td>\n",
              "      <td>MOW</td>\n",
              "      <td>AKX</td>\n",
              "      <td>3</td>\n",
              "      <td>1900-01-01 00:15:00</td>\n",
              "      <td>1900-01-01 00:14:00</td>\n",
              "      <td>1900-01-01 02:40:00</td>\n",
              "      <td>1900-01-01 02:32:00</td>\n",
              "      <td>3</td>\n",
              "      <td>1</td>\n",
              "      <td>Thursday</td>\n",
              "      <td>0</td>\n",
              "      <td>0</td>\n",
              "      <td>hurry</td>\n",
              "      <td>-480.0</td>\n",
              "      <td>hurry</td>\n",
              "      <td>-60.0</td>\n",
              "    </tr>\n",
              "    <tr>\n",
              "      <th>3</th>\n",
              "      <td>2018-03-01</td>\n",
              "      <td>4</td>\n",
              "      <td>LED</td>\n",
              "      <td>MOW</td>\n",
              "      <td>4</td>\n",
              "      <td>1900-01-01 00:20:00</td>\n",
              "      <td>1900-01-01 00:11:00</td>\n",
              "      <td>1900-01-01 01:35:00</td>\n",
              "      <td>1900-01-01 01:39:00</td>\n",
              "      <td>3</td>\n",
              "      <td>1</td>\n",
              "      <td>Thursday</td>\n",
              "      <td>0</td>\n",
              "      <td>0</td>\n",
              "      <td>delay</td>\n",
              "      <td>240.0</td>\n",
              "      <td>hurry</td>\n",
              "      <td>-540.0</td>\n",
              "    </tr>\n",
              "    <tr>\n",
              "      <th>4</th>\n",
              "      <td>2018-03-01</td>\n",
              "      <td>5</td>\n",
              "      <td>MOW</td>\n",
              "      <td>KRR</td>\n",
              "      <td>5</td>\n",
              "      <td>1900-01-01 00:25:00</td>\n",
              "      <td>1900-01-01 00:21:00</td>\n",
              "      <td>1900-01-01 02:40:00</td>\n",
              "      <td>1900-01-01 02:41:00</td>\n",
              "      <td>3</td>\n",
              "      <td>1</td>\n",
              "      <td>Thursday</td>\n",
              "      <td>0</td>\n",
              "      <td>0</td>\n",
              "      <td>delay</td>\n",
              "      <td>60.0</td>\n",
              "      <td>hurry</td>\n",
              "      <td>-240.0</td>\n",
              "    </tr>\n",
              "  </tbody>\n",
              "</table>\n",
              "</div>\n",
              "    <div class=\"colab-df-buttons\">\n",
              "\n",
              "  <div class=\"colab-df-container\">\n",
              "    <button class=\"colab-df-convert\" onclick=\"convertToInteractive('df-5d7ed853-3796-4321-ba49-2d190f1fb40a')\"\n",
              "            title=\"Convert this dataframe to an interactive table.\"\n",
              "            style=\"display:none;\">\n",
              "\n",
              "  <svg xmlns=\"http://www.w3.org/2000/svg\" height=\"24px\" viewBox=\"0 -960 960 960\">\n",
              "    <path d=\"M120-120v-720h720v720H120Zm60-500h600v-160H180v160Zm220 220h160v-160H400v160Zm0 220h160v-160H400v160ZM180-400h160v-160H180v160Zm440 0h160v-160H620v160ZM180-180h160v-160H180v160Zm440 0h160v-160H620v160Z\"/>\n",
              "  </svg>\n",
              "    </button>\n",
              "\n",
              "  <style>\n",
              "    .colab-df-container {\n",
              "      display:flex;\n",
              "      gap: 12px;\n",
              "    }\n",
              "\n",
              "    .colab-df-convert {\n",
              "      background-color: #E8F0FE;\n",
              "      border: none;\n",
              "      border-radius: 50%;\n",
              "      cursor: pointer;\n",
              "      display: none;\n",
              "      fill: #1967D2;\n",
              "      height: 32px;\n",
              "      padding: 0 0 0 0;\n",
              "      width: 32px;\n",
              "    }\n",
              "\n",
              "    .colab-df-convert:hover {\n",
              "      background-color: #E2EBFA;\n",
              "      box-shadow: 0px 1px 2px rgba(60, 64, 67, 0.3), 0px 1px 3px 1px rgba(60, 64, 67, 0.15);\n",
              "      fill: #174EA6;\n",
              "    }\n",
              "\n",
              "    .colab-df-buttons div {\n",
              "      margin-bottom: 4px;\n",
              "    }\n",
              "\n",
              "    [theme=dark] .colab-df-convert {\n",
              "      background-color: #3B4455;\n",
              "      fill: #D2E3FC;\n",
              "    }\n",
              "\n",
              "    [theme=dark] .colab-df-convert:hover {\n",
              "      background-color: #434B5C;\n",
              "      box-shadow: 0px 1px 3px 1px rgba(0, 0, 0, 0.15);\n",
              "      filter: drop-shadow(0px 1px 2px rgba(0, 0, 0, 0.3));\n",
              "      fill: #FFFFFF;\n",
              "    }\n",
              "  </style>\n",
              "\n",
              "    <script>\n",
              "      const buttonEl =\n",
              "        document.querySelector('#df-5d7ed853-3796-4321-ba49-2d190f1fb40a button.colab-df-convert');\n",
              "      buttonEl.style.display =\n",
              "        google.colab.kernel.accessAllowed ? 'block' : 'none';\n",
              "\n",
              "      async function convertToInteractive(key) {\n",
              "        const element = document.querySelector('#df-5d7ed853-3796-4321-ba49-2d190f1fb40a');\n",
              "        const dataTable =\n",
              "          await google.colab.kernel.invokeFunction('convertToInteractive',\n",
              "                                                    [key], {});\n",
              "        if (!dataTable) return;\n",
              "\n",
              "        const docLinkHtml = 'Like what you see? Visit the ' +\n",
              "          '<a target=\"_blank\" href=https://colab.research.google.com/notebooks/data_table.ipynb>data table notebook</a>'\n",
              "          + ' to learn more about interactive tables.';\n",
              "        element.innerHTML = '';\n",
              "        dataTable['output_type'] = 'display_data';\n",
              "        await google.colab.output.renderOutput(dataTable, element);\n",
              "        const docLink = document.createElement('div');\n",
              "        docLink.innerHTML = docLinkHtml;\n",
              "        element.appendChild(docLink);\n",
              "      }\n",
              "    </script>\n",
              "  </div>\n",
              "\n",
              "\n",
              "<div id=\"df-59e541ed-686b-46b0-ab9c-5d006dff3c77\">\n",
              "  <button class=\"colab-df-quickchart\" onclick=\"quickchart('df-59e541ed-686b-46b0-ab9c-5d006dff3c77')\"\n",
              "            title=\"Suggest charts\"\n",
              "            style=\"display:none;\">\n",
              "\n",
              "<svg xmlns=\"http://www.w3.org/2000/svg\" height=\"24px\"viewBox=\"0 0 24 24\"\n",
              "     width=\"24px\">\n",
              "    <g>\n",
              "        <path d=\"M19 3H5c-1.1 0-2 .9-2 2v14c0 1.1.9 2 2 2h14c1.1 0 2-.9 2-2V5c0-1.1-.9-2-2-2zM9 17H7v-7h2v7zm4 0h-2V7h2v10zm4 0h-2v-4h2v4z\"/>\n",
              "    </g>\n",
              "</svg>\n",
              "  </button>\n",
              "\n",
              "<style>\n",
              "  .colab-df-quickchart {\n",
              "      --bg-color: #E8F0FE;\n",
              "      --fill-color: #1967D2;\n",
              "      --hover-bg-color: #E2EBFA;\n",
              "      --hover-fill-color: #174EA6;\n",
              "      --disabled-fill-color: #AAA;\n",
              "      --disabled-bg-color: #DDD;\n",
              "  }\n",
              "\n",
              "  [theme=dark] .colab-df-quickchart {\n",
              "      --bg-color: #3B4455;\n",
              "      --fill-color: #D2E3FC;\n",
              "      --hover-bg-color: #434B5C;\n",
              "      --hover-fill-color: #FFFFFF;\n",
              "      --disabled-bg-color: #3B4455;\n",
              "      --disabled-fill-color: #666;\n",
              "  }\n",
              "\n",
              "  .colab-df-quickchart {\n",
              "    background-color: var(--bg-color);\n",
              "    border: none;\n",
              "    border-radius: 50%;\n",
              "    cursor: pointer;\n",
              "    display: none;\n",
              "    fill: var(--fill-color);\n",
              "    height: 32px;\n",
              "    padding: 0;\n",
              "    width: 32px;\n",
              "  }\n",
              "\n",
              "  .colab-df-quickchart:hover {\n",
              "    background-color: var(--hover-bg-color);\n",
              "    box-shadow: 0 1px 2px rgba(60, 64, 67, 0.3), 0 1px 3px 1px rgba(60, 64, 67, 0.15);\n",
              "    fill: var(--button-hover-fill-color);\n",
              "  }\n",
              "\n",
              "  .colab-df-quickchart-complete:disabled,\n",
              "  .colab-df-quickchart-complete:disabled:hover {\n",
              "    background-color: var(--disabled-bg-color);\n",
              "    fill: var(--disabled-fill-color);\n",
              "    box-shadow: none;\n",
              "  }\n",
              "\n",
              "  .colab-df-spinner {\n",
              "    border: 2px solid var(--fill-color);\n",
              "    border-color: transparent;\n",
              "    border-bottom-color: var(--fill-color);\n",
              "    animation:\n",
              "      spin 1s steps(1) infinite;\n",
              "  }\n",
              "\n",
              "  @keyframes spin {\n",
              "    0% {\n",
              "      border-color: transparent;\n",
              "      border-bottom-color: var(--fill-color);\n",
              "      border-left-color: var(--fill-color);\n",
              "    }\n",
              "    20% {\n",
              "      border-color: transparent;\n",
              "      border-left-color: var(--fill-color);\n",
              "      border-top-color: var(--fill-color);\n",
              "    }\n",
              "    30% {\n",
              "      border-color: transparent;\n",
              "      border-left-color: var(--fill-color);\n",
              "      border-top-color: var(--fill-color);\n",
              "      border-right-color: var(--fill-color);\n",
              "    }\n",
              "    40% {\n",
              "      border-color: transparent;\n",
              "      border-right-color: var(--fill-color);\n",
              "      border-top-color: var(--fill-color);\n",
              "    }\n",
              "    60% {\n",
              "      border-color: transparent;\n",
              "      border-right-color: var(--fill-color);\n",
              "    }\n",
              "    80% {\n",
              "      border-color: transparent;\n",
              "      border-right-color: var(--fill-color);\n",
              "      border-bottom-color: var(--fill-color);\n",
              "    }\n",
              "    90% {\n",
              "      border-color: transparent;\n",
              "      border-bottom-color: var(--fill-color);\n",
              "    }\n",
              "  }\n",
              "</style>\n",
              "\n",
              "  <script>\n",
              "    async function quickchart(key) {\n",
              "      const quickchartButtonEl =\n",
              "        document.querySelector('#' + key + ' button');\n",
              "      quickchartButtonEl.disabled = true;  // To prevent multiple clicks.\n",
              "      quickchartButtonEl.classList.add('colab-df-spinner');\n",
              "      try {\n",
              "        const charts = await google.colab.kernel.invokeFunction(\n",
              "            'suggestCharts', [key], {});\n",
              "      } catch (error) {\n",
              "        console.error('Error during call to suggestCharts:', error);\n",
              "      }\n",
              "      quickchartButtonEl.classList.remove('colab-df-spinner');\n",
              "      quickchartButtonEl.classList.add('colab-df-quickchart-complete');\n",
              "    }\n",
              "    (() => {\n",
              "      let quickchartButtonEl =\n",
              "        document.querySelector('#df-59e541ed-686b-46b0-ab9c-5d006dff3c77 button');\n",
              "      quickchartButtonEl.style.display =\n",
              "        google.colab.kernel.accessAllowed ? 'block' : 'none';\n",
              "    })();\n",
              "  </script>\n",
              "</div>\n",
              "    </div>\n",
              "  </div>\n"
            ],
            "application/vnd.google.colaboratory.intrinsic+json": {
              "type": "dataframe",
              "variable_name": "df"
            }
          },
          "metadata": {},
          "execution_count": 141
        }
      ]
    },
    {
      "cell_type": "markdown",
      "source": [
        "Гистограмма для посадки\n"
      ],
      "metadata": {
        "id": "Y0UUl_tqveeg"
      }
    },
    {
      "cell_type": "code",
      "source": [
        "df['target_in'].hist()"
      ],
      "metadata": {
        "colab": {
          "base_uri": "https://localhost:8080/",
          "height": 448
        },
        "id": "-6-_tt0Yu3zG",
        "outputId": "609e21ef-0a8b-435a-9929-28296fd8cb98"
      },
      "execution_count": 142,
      "outputs": [
        {
          "output_type": "execute_result",
          "data": {
            "text/plain": [
              "<Axes: >"
            ]
          },
          "metadata": {},
          "execution_count": 142
        },
        {
          "output_type": "display_data",
          "data": {
            "text/plain": [
              "<Figure size 640x480 with 1 Axes>"
            ],
            "image/png": "[encoded data removed]"
          },
          "metadata": {}
        }
      ]
    },
    {
      "cell_type": "markdown",
      "source": [
        "Явный дизбаланс классов"
      ],
      "metadata": {
        "id": "uMwsWYAjq-Dr"
      }
    },
    {
      "cell_type": "markdown",
      "source": [
        "Гистограмма для взлёта"
      ],
      "metadata": {
        "id": "5QlkhbT1vifB"
      }
    },
    {
      "cell_type": "code",
      "source": [
        "df['target_out'].hist()"
      ],
      "metadata": {
        "colab": {
          "base_uri": "https://localhost:8080/",
          "height": 448
        },
        "id": "F6kkzwh4vCiN",
        "outputId": "d812bdc6-bba5-49e7-fec0-a0be9fc6553e"
      },
      "execution_count": 143,
      "outputs": [
        {
          "output_type": "execute_result",
          "data": {
            "text/plain": [
              "<Axes: >"
            ]
          },
          "metadata": {},
          "execution_count": 143
        },
        {
          "output_type": "display_data",
          "data": {
            "text/plain": [
              "<Figure size 640x480 with 1 Axes>"
            ],
            "image/png": "[encoded data removed]"
          },
          "metadata": {}
        }
      ]
    },
    {
      "cell_type": "markdown",
      "source": [
        "Явный дизбаланс классов"
      ],
      "metadata": {
        "id": "ORN6vn5ArDWS"
      }
    },
    {
      "cell_type": "markdown",
      "source": [
        "Матрица корреляций"
      ],
      "metadata": {
        "id": "GTvh5vNOv33I"
      }
    },
    {
      "cell_type": "code",
      "source": [
        "numeric_columns = df.select_dtypes(include=['int64', 'float64']).columns.tolist()\n",
        "corrmat = df[numeric_columns].corr()\n",
        "f, ax = plt.subplots(figsize=(12, 9))\n",
        "sns.heatmap(corrmat, vmax=.8, square=True);\n",
        "plt.show()"
      ],
      "metadata": {
        "colab": {
          "base_uri": "https://localhost:8080/",
          "height": 847
        },
        "id": "iHGM2-IvUK8T",
        "outputId": "2bfc2ab7-b219-4d4c-a1b4-c21c10e9ae55"
      },
      "execution_count": 144,
      "outputs": [
        {
          "output_type": "display_data",
          "data": {
            "text/plain": [
              "<Figure size 1200x900 with 2 Axes>"
            ],
            "image/png": "[encoded data removed]"
          },
          "metadata": {}
        }
      ]
    },
    {
      "cell_type": "markdown",
      "source": [
        "Наблюдается логичная небольшая корреляция у следующих параметров:\n",
        "- ремя взлёта \\ время посадки\n",
        "- номер рейса \\ время взлёта\n",
        "- номер рейса \\ время посадки"
      ],
      "metadata": {
        "id": "Arb6ba-1XmHY"
      }
    },
    {
      "cell_type": "code",
      "source": [
        "df.groupby('flight_date')['target_in'].count().plot()\n",
        "plt.xlabel('Дата')\n",
        "plt.ylabel('Количество полётов')\n",
        "plt.grid()\n",
        "plt.show()"
      ],
      "metadata": {
        "colab": {
          "base_uri": "https://localhost:8080/",
          "height": 466
        },
        "id": "cd0yHZ9-k82L",
        "outputId": "7e1af4db-f563-4361-824e-11f5a9d9c1d5"
      },
      "execution_count": 145,
      "outputs": [
        {
          "output_type": "display_data",
          "data": {
            "text/plain": [
              "<Figure size 640x480 with 1 Axes>"
            ],
            "image/png": "[encoded data removed]"
          },
          "metadata": {}
        }
      ]
    },
    {
      "cell_type": "markdown",
      "source": [
        "На графике можно ответить:\n",
        "- сезонность\n",
        "- рост\n",
        "- аномальный спад в период Май-Июнь"
      ],
      "metadata": {
        "id": "PfYWUjXxlyFU"
      }
    },
    {
      "cell_type": "code",
      "source": [
        "legend = []\n",
        "for v in df['target_in'].unique():\n",
        "   diseases = df[df['target_in']==v].groupby('flight_date')['target_in'].count()\n",
        "   x = diseases.index\n",
        "   y = diseases.values\n",
        "   plt.plot(x, y)\n",
        "   legend.append(v)\n",
        "plt.legend(legend)\n",
        "plt.show()"
      ],
      "metadata": {
        "colab": {
          "base_uri": "https://localhost:8080/",
          "height": 430
        },
        "id": "P5nwMgjiiuK8",
        "outputId": "95fe0268-aee9-4379-a570-ce04fb9daecd"
      },
      "execution_count": 146,
      "outputs": [
        {
          "output_type": "display_data",
          "data": {
            "text/plain": [
              "<Figure size 640x480 with 1 Axes>"
            ],
            "image/png": "[encoded data removed]"
          },
          "metadata": {}
        }
      ]
    },
    {
      "cell_type": "markdown",
      "source": [
        "Видно, что количество рейсов вылетевших **раньше** обратно пропорционально количеству **задержанных**.\n",
        "\n",
        "Зависимости с количеством **вовремя** вылетевших рейсов **не обранужено**"
      ],
      "metadata": {
        "id": "PK05C9pnqf9a"
      }
    },
    {
      "cell_type": "markdown",
      "source": [
        "# 3. Предобработка"
      ],
      "metadata": {
        "id": "Bl477j8yof5u"
      }
    },
    {
      "cell_type": "code",
      "source": [
        "def preprocess(df):\n",
        "\n",
        "  # Переименуем столбцы\n",
        "  df  = df.rename(columns={'Дата рейса': 'flight_date',\n",
        "                   'Рейс': 'flight',\n",
        "                   'А/П отправл': 'airport_out',\n",
        "                   'А/П прибыт': 'airport_in',\n",
        "                   'Номер ВС': 'air_number',\n",
        "                   'Время отправления по расписанию': 'scheduled_time_out',\n",
        "                   'Время отправления фактическое': 'actual_time_out',\n",
        "                   'Время прибытия по расписанию': 'scheduled_time_in',\n",
        "                   'Время прибытия фактическое': 'actual_time_in'})\n",
        "\n",
        "  # Исправим ошибку считывания\n",
        "  df['scheduled_time_out'] = pd.to_datetime(df['scheduled_time_out'].dt.time, format='%H:%M:%S')\n",
        "  df['actual_time_out'] = pd.to_datetime(df['actual_time_out'].dt.time, format='%H:%M:%S')\n",
        "  df['scheduled_time_in'] = pd.to_datetime(df['scheduled_time_in'].dt.time, format='%H:%M:%S')\n",
        "  df['actual_time_in'] = pd.to_datetime(df['actual_time_in'].dt.time, format='%H:%M:%S')\n",
        "\n",
        "  # Извлечем день и месяц полёта в отдельные признаки и удаляем исходный столбец\n",
        "  df['flight_month'] = df.apply(lambda x: x['flight_date'].month, axis=1)\n",
        "  df['flight_day'] = df.apply(lambda x: x['flight_date'].day, axis=1)\n",
        "  df['day_of_week'] = df.apply(lambda x: x['flight_date'].day_name(), axis=1)\n",
        "  df = df.drop('flight_date', axis=1)\n",
        "\n",
        "  # Извлечем время взлёта\\посадки в отдельный признак\n",
        "  df['time_part_out'] = df.apply(lambda x: (x['scheduled_time_out'].hour) // 3, axis=1)\n",
        "  df['time_part_in'] = df.apply(lambda x: (x['scheduled_time_in'].hour) // 3, axis=1)\n",
        "\n",
        "  # Преобразование номера ВС, времени взлёта\\посадки к типу object,\n",
        "  # т.к. это категориальные признаки и в дальнейшем будут преобразованы с помощью endcoder\n",
        "  df['air_number'] = df['air_number'].astype(object)\n",
        "  df['time_part_out'] = df['time_part_out'].astype(object)\n",
        "  df['time_part_in'] = df['time_part_in'].astype(object)\n",
        "\n",
        "  return df\n"
      ],
      "metadata": {
        "id": "9zTUil2Kq1AC"
      },
      "execution_count": 147,
      "outputs": []
    },
    {
      "cell_type": "code",
      "source": [
        "def get_df_target(df, type_target, binary_classification=True):\n",
        "\n",
        "  def get_delay_class(scheduled_time, actual_time, binary_classification):\n",
        "    sec = (actual_time - scheduled_time).total_seconds()\n",
        "\n",
        "    if sec == 0:\n",
        "      # on_schedule\n",
        "      return 0\n",
        "    elif sec > 0:\n",
        "      # delay\n",
        "      return 1\n",
        "    else:\n",
        "      if not binary_classification:\n",
        "        return 2\n",
        "      # hurry\n",
        "      return 0\n",
        "\n",
        "\n",
        "  df['target'] = df.apply(lambda x: get_delay_class(x['scheduled_time_' + type_target], x['actual_time_' + type_target], binary_classification), axis=1)\n",
        "\n",
        "  df = df.drop(['actual_time_out', 'actual_time_in'], axis=1)\n",
        "\n",
        "  return df\n"
      ],
      "metadata": {
        "id": "zzZATiV17D_4"
      },
      "execution_count": 148,
      "outputs": []
    },
    {
      "cell_type": "markdown",
      "source": [
        "# 4. Формирование датасета"
      ],
      "metadata": {
        "id": "cyuZ5PtxS6v_"
      }
    },
    {
      "cell_type": "markdown",
      "source": [
        "## One-hot-encoder"
      ],
      "metadata": {
        "id": "OO3Mubl4zX3i"
      }
    },
    {
      "cell_type": "code",
      "source": [
        "from sklearn.preprocessing import OneHotEncoder"
      ],
      "metadata": {
        "id": "upPA6lB_zXiz"
      },
      "execution_count": 149,
      "outputs": []
    },
    {
      "cell_type": "code",
      "source": [
        "def encode(df):\n",
        "  categorical_columns = df.select_dtypes(include=['object']).columns.tolist()\n",
        "  encoder = OneHotEncoder(sparse_output=False)\n",
        "  ohe = encoder.fit_transform(df[categorical_columns])\n",
        "  ohe_df = pd.DataFrame(ohe, columns=encoder.get_feature_names_out(categorical_columns))\n",
        "  df = pd.concat([df, ohe_df], axis=1)\n",
        "  df = df.drop(categorical_columns, axis=1)\n",
        "  return df"
      ],
      "metadata": {
        "id": "TGu6s26GjC3J"
      },
      "execution_count": 150,
      "outputs": []
    },
    {
      "cell_type": "markdown",
      "source": [
        "## Train Test Val split"
      ],
      "metadata": {
        "id": "UlE3D1Nt1bSP"
      }
    },
    {
      "cell_type": "code",
      "source": [
        "from sklearn.model_selection import train_test_split"
      ],
      "metadata": {
        "id": "hnHiQhoUT4E0"
      },
      "execution_count": 151,
      "outputs": []
    },
    {
      "cell_type": "code",
      "source": [
        "def split_data(X, y, seed=42):\n",
        "  X_train, X_test, y_train, y_test = train_test_split(X, y, test_size=0.2, random_state=seed)\n",
        "\n",
        "  X_train, X_val, y_train, y_val = train_test_split(X_train, y_train, test_size=0.25, random_state=seed)\n",
        "\n",
        "  return X_train, y_train, X_val, y_val, X_test, y_test"
      ],
      "metadata": {
        "id": "h4y1S7sKjlZD"
      },
      "execution_count": 152,
      "outputs": []
    },
    {
      "cell_type": "markdown",
      "source": [
        "# 5. Models"
      ],
      "metadata": {
        "id": "apukolnuEDcL"
      }
    },
    {
      "cell_type": "markdown",
      "source": [
        "## Sklearn models"
      ],
      "metadata": {
        "id": "iYG-zlx1LLqi"
      }
    },
    {
      "cell_type": "markdown",
      "source": [
        "### Fit"
      ],
      "metadata": {
        "id": "7j0wU282mo3X"
      }
    },
    {
      "cell_type": "code",
      "source": [
        "from sklearn.neighbors import KNeighborsClassifier\n",
        "from sklearn.naive_bayes import GaussianNB\n",
        "from sklearn.ensemble import RandomForestClassifier\n",
        "from sklearn.tree import DecisionTreeClassifier\n",
        "from sklearn.svm import LinearSVC\n",
        "from sklearn.linear_model import LogisticRegression\n",
        "\n",
        "\n",
        "def train(X_train, y_train):\n",
        "\n",
        "  models = {}\n",
        "\n",
        "  # Logistic Regression\n",
        "  models['Logistic Regression'] = LogisticRegression()\n",
        "\n",
        "  # Support Vector Machines\n",
        "  models['Support Vector Machines'] = LinearSVC()\n",
        "\n",
        "  # Decision Trees\n",
        "  models['Decision Trees'] = DecisionTreeClassifier()\n",
        "\n",
        "  # Random Forest\n",
        "  models['Random Forest'] = RandomForestClassifier()\n",
        "\n",
        "  # Naive Bayes\n",
        "  models['Naive Bayes'] = GaussianNB()\n",
        "\n",
        "  # K-Nearest Neighbors\n",
        "  models['K-Nearest Neighbor'] = KNeighborsClassifier()\n",
        "\n",
        "  for key in models.keys():\n",
        "\n",
        "      # Fit the classifier\n",
        "      models[key].fit(X_train, y_train)\n",
        "  return models\n"
      ],
      "metadata": {
        "id": "8Qxrr5C8LOqM"
      },
      "execution_count": 153,
      "outputs": []
    },
    {
      "cell_type": "markdown",
      "source": [
        "### Evaluate"
      ],
      "metadata": {
        "id": "XGC_BPkYmqS_"
      }
    },
    {
      "cell_type": "code",
      "source": [
        "from sklearn.metrics import accuracy_score, precision_score, recall_score, f1_score\n",
        "\n",
        "\n",
        "def evaluate(models, X_val, y_val, pos_label=1):\n",
        "  accuracy, precision, recall, f1 = {}, {}, {}, {}\n",
        "\n",
        "  for key in models.keys():\n",
        "\n",
        "      # Make predictions\n",
        "      predictions = models[key].predict(X_val)\n",
        "\n",
        "      # Calculate metrics\n",
        "      accuracy[key] = accuracy_score(predictions, y_val)\n",
        "      precision[key] = precision_score(predictions, y_val, pos_label=pos_label)\n",
        "      recall[key] = recall_score(predictions, y_val, pos_label=pos_label)\n",
        "      f1[key] = f1_score(predictions, y_val, pos_label=pos_label)\n",
        "\n",
        "  df_model = pd.DataFrame(index=models.keys(), columns=['Accuracy', 'Precision', 'Recall', 'F1'])\n",
        "  df_model['Accuracy'] = accuracy.values()\n",
        "  df_model['Precision'] = precision.values()\n",
        "  df_model['Recall'] = recall.values()\n",
        "  df_model['F1'] = f1.values()\n",
        "\n",
        "  return df_model\n",
        ""
      ],
      "metadata": {
        "id": "8MSjTz7VmJhT"
      },
      "execution_count": 154,
      "outputs": []
    },
    {
      "cell_type": "markdown",
      "source": [
        "### Plot metrics"
      ],
      "metadata": {
        "id": "zwcg4a2enQUh"
      }
    },
    {
      "cell_type": "code",
      "source": [
        "def plot_metrics(df_model, models):\n",
        "  ax = df_model.plot.barh()\n",
        "  ax.legend(\n",
        "      ncol=len(models.keys()),\n",
        "      bbox_to_anchor=(0, 1),\n",
        "      loc='lower left',\n",
        "      prop={'size': 14}\n",
        "  )\n",
        "  plt.tight_layout()\n"
      ],
      "metadata": {
        "id": "IMkRYDnHL2gp"
      },
      "execution_count": 155,
      "outputs": []
    },
    {
      "cell_type": "markdown",
      "source": [
        "# Initialize"
      ],
      "metadata": {
        "id": "dly7j_8_n9vd"
      }
    },
    {
      "cell_type": "markdown",
      "source": [
        "Попробуем построить модель для бинарной классификации\n",
        "- 0 - рейс прибыл вовремя или раньше запланированного\n",
        "- 1 - рейс опоздал"
      ],
      "metadata": {
        "id": "4X0IbJACsog0"
      }
    },
    {
      "cell_type": "markdown",
      "source": [
        "## Preprocess"
      ],
      "metadata": {
        "id": "DBCNAOTI2Tjg"
      }
    },
    {
      "cell_type": "code",
      "source": [
        "df = df_origin.copy()"
      ],
      "metadata": {
        "id": "GGG-rHsfu4fF"
      },
      "execution_count": 163,
      "outputs": []
    },
    {
      "cell_type": "code",
      "source": [
        "df = preprocess(df)\n",
        "df = encode(df)"
      ],
      "metadata": {
        "id": "D0FC70pS4jn1"
      },
      "execution_count": 164,
      "outputs": []
    },
    {
      "cell_type": "code",
      "source": [
        "df_in = get_df_target(df, 'in')\n",
        "df_out = get_df_target(df, 'out')"
      ],
      "metadata": {
        "id": "JqQf8IULyBjK"
      },
      "execution_count": 165,
      "outputs": []
    },
    {
      "cell_type": "code",
      "source": [
        "df_in = df_in.drop(['scheduled_time_out', 'scheduled_time_in'], axis=1)\n",
        "df_out = df_out.drop(['scheduled_time_out', 'scheduled_time_in'], axis=1)"
      ],
      "metadata": {
        "id": "BVUGf2XD4LRq"
      },
      "execution_count": 166,
      "outputs": []
    },
    {
      "cell_type": "code",
      "source": [
        "df_in['target'].value_counts()"
      ],
      "metadata": {
        "colab": {
          "base_uri": "https://localhost:8080/"
        },
        "id": "e1VT7R19zvtt",
        "outputId": "36389098-3d8b-4401-f2a6-766ea732dc7b"
      },
      "execution_count": 167,
      "outputs": [
        {
          "output_type": "execute_result",
          "data": {
            "text/plain": [
              "target\n",
              "0    84242\n",
              "1    55490\n",
              "Name: count, dtype: int64"
            ]
          },
          "metadata": {},
          "execution_count": 167
        }
      ]
    },
    {
      "cell_type": "code",
      "source": [
        "df_out['target'].value_counts()"
      ],
      "metadata": {
        "colab": {
          "base_uri": "https://localhost:8080/"
        },
        "id": "hGblG_5_JVol",
        "outputId": "4d636ddc-47be-4f56-f3a4-0c9b47d10f27"
      },
      "execution_count": 168,
      "outputs": [
        {
          "output_type": "execute_result",
          "data": {
            "text/plain": [
              "target\n",
              "0    120470\n",
              "1     19262\n",
              "Name: count, dtype: int64"
            ]
          },
          "metadata": {},
          "execution_count": 168
        }
      ]
    },
    {
      "cell_type": "markdown",
      "source": [
        "## Save model"
      ],
      "metadata": {
        "id": "YXtfv8zM2Xin"
      }
    },
    {
      "cell_type": "code",
      "source": [
        "import pickle\n",
        "\n",
        "def save_model(model, model_name='model'):\n",
        "  with open(model_name+'.pkl','wb') as f:\n",
        "      pickle.dump(model, f)"
      ],
      "metadata": {
        "id": "hD5X4BTIN-b8"
      },
      "execution_count": 171,
      "outputs": []
    },
    {
      "cell_type": "code",
      "source": [
        "!cp /content/model.pkl /content/drive/MyDrive/for_download"
      ],
      "metadata": {
        "colab": {
          "base_uri": "https://localhost:8080/"
        },
        "id": "2p15DDm4ZSSI",
        "outputId": "25814c69-4c1b-4e83-a6e3-22b8ce98c0aa"
      },
      "execution_count": 172,
      "outputs": [
        {
          "output_type": "stream",
          "name": "stdout",
          "text": [
            "cp: cannot stat '/content/model.pkl': No such file or directory\n"
          ]
        }
      ]
    },
    {
      "cell_type": "markdown",
      "source": [
        "## Sklearn models for delay in"
      ],
      "metadata": {
        "id": "AkPKSwM_0CJY"
      }
    },
    {
      "cell_type": "code",
      "source": [
        "X_train, y_train, X_val, y_val, X_test, y_test = split_data(df_in.drop('target', axis=1).values, df_in['target'].values)\n",
        "models = train(X_train, y_train)\n",
        "df_val = evaluate(models, X_val, y_val)\n",
        "plot_metrics(df_val, models)\n",
        "df_val"
      ],
      "metadata": {
        "colab": {
          "base_uri": "https://localhost:8080/",
          "height": 886
        },
        "id": "_E-7vVKGn9Ux",
        "outputId": "c29cbac8-5f05-4983-fa5d-d7cd1acc9056"
      },
      "execution_count": 173,
      "outputs": [
        {
          "output_type": "stream",
          "name": "stderr",
          "text": [
            "/usr/local/lib/python3.10/dist-packages/sklearn/linear_model/_logistic.py:458: ConvergenceWarning: lbfgs failed to converge (status=1):\n",
            "STOP: TOTAL NO. of ITERATIONS REACHED LIMIT.\n",
            "\n",
            "Increase the number of iterations (max_iter) or scale the data as shown in:\n",
            "    https://scikit-learn.org/stable/modules/preprocessing.html\n",
            "Please also refer to the documentation for alternative solver options:\n",
            "    https://scikit-learn.org/stable/modules/linear_model.html#logistic-regression\n",
            "  n_iter_i = _check_optimize_result(\n",
            "/usr/local/lib/python3.10/dist-packages/sklearn/svm/_base.py:1244: ConvergenceWarning: Liblinear failed to converge, increase the number of iterations.\n",
            "  warnings.warn(\n"
          ]
        },
        {
          "output_type": "execute_result",
          "data": {
            "text/plain": [
              "                         Accuracy  Precision    Recall        F1\n",
              "Logistic Regression      0.631553   0.285625  0.576735  0.382044\n",
              "Support Vector Machines  0.610727   0.063801  0.614520  0.115600\n",
              "Decision Trees           0.637528   0.520101  0.547930  0.533653\n",
              "Random Forest            0.684331   0.458812  0.646888  0.536854\n",
              "Naive Bayes              0.629263   0.466798  0.540692  0.501035\n",
              "K-Nearest Neighbor       0.651412   0.488335  0.573930  0.527684"
            ],
            "text/html": [
              "\n",
              "  <div id=\"df-43ad931c-6c51-4957-954d-1693dae3c3fd\" class=\"colab-df-container\">\n",
              "    <div>\n",
              "<style scoped>\n",
              "    .dataframe tbody tr th:only-of-type {\n",
              "        vertical-align: middle;\n",
              "    }\n",
              "\n",
              "    .dataframe tbody tr th {\n",
              "        vertical-align: top;\n",
              "    }\n",
              "\n",
              "    .dataframe thead th {\n",
              "        text-align: right;\n",
              "    }\n",
              "</style>\n",
              "<table border=\"1\" class=\"dataframe\">\n",
              "  <thead>\n",
              "    <tr style=\"text-align: right;\">\n",
              "      <th></th>\n",
              "      <th>Accuracy</th>\n",
              "      <th>Precision</th>\n",
              "      <th>Recall</th>\n",
              "      <th>F1</th>\n",
              "    </tr>\n",
              "  </thead>\n",
              "  <tbody>\n",
              "    <tr>\n",
              "      <th>Logistic Regression</th>\n",
              "      <td>0.631553</td>\n",
              "      <td>0.285625</td>\n",
              "      <td>0.576735</td>\n",
              "      <td>0.382044</td>\n",
              "    </tr>\n",
              "    <tr>\n",
              "      <th>Support Vector Machines</th>\n",
              "      <td>0.610727</td>\n",
              "      <td>0.063801</td>\n",
              "      <td>0.614520</td>\n",
              "      <td>0.115600</td>\n",
              "    </tr>\n",
              "    <tr>\n",
              "      <th>Decision Trees</th>\n",
              "      <td>0.637528</td>\n",
              "      <td>0.520101</td>\n",
              "      <td>0.547930</td>\n",
              "      <td>0.533653</td>\n",
              "    </tr>\n",
              "    <tr>\n",
              "      <th>Random Forest</th>\n",
              "      <td>0.684331</td>\n",
              "      <td>0.458812</td>\n",
              "      <td>0.646888</td>\n",
              "      <td>0.536854</td>\n",
              "    </tr>\n",
              "    <tr>\n",
              "      <th>Naive Bayes</th>\n",
              "      <td>0.629263</td>\n",
              "      <td>0.466798</td>\n",
              "      <td>0.540692</td>\n",
              "      <td>0.501035</td>\n",
              "    </tr>\n",
              "    <tr>\n",
              "      <th>K-Nearest Neighbor</th>\n",
              "      <td>0.651412</td>\n",
              "      <td>0.488335</td>\n",
              "      <td>0.573930</td>\n",
              "      <td>0.527684</td>\n",
              "    </tr>\n",
              "  </tbody>\n",
              "</table>\n",
              "</div>\n",
              "    <div class=\"colab-df-buttons\">\n",
              "\n",
              "  <div class=\"colab-df-container\">\n",
              "    <button class=\"colab-df-convert\" onclick=\"convertToInteractive('df-43ad931c-6c51-4957-954d-1693dae3c3fd')\"\n",
              "            title=\"Convert this dataframe to an interactive table.\"\n",
              "            style=\"display:none;\">\n",
              "\n",
              "  <svg xmlns=\"http://www.w3.org/2000/svg\" height=\"24px\" viewBox=\"0 -960 960 960\">\n",
              "    <path d=\"M120-120v-720h720v720H120Zm60-500h600v-160H180v160Zm220 220h160v-160H400v160Zm0 220h160v-160H400v160ZM180-400h160v-160H180v160Zm440 0h160v-160H620v160ZM180-180h160v-160H180v160Zm440 0h160v-160H620v160Z\"/>\n",
              "  </svg>\n",
              "    </button>\n",
              "\n",
              "  <style>\n",
              "    .colab-df-container {\n",
              "      display:flex;\n",
              "      gap: 12px;\n",
              "    }\n",
              "\n",
              "    .colab-df-convert {\n",
              "      background-color: #E8F0FE;\n",
              "      border: none;\n",
              "      border-radius: 50%;\n",
              "      cursor: pointer;\n",
              "      display: none;\n",
              "      fill: #1967D2;\n",
              "      height: 32px;\n",
              "      padding: 0 0 0 0;\n",
              "      width: 32px;\n",
              "    }\n",
              "\n",
              "    .colab-df-convert:hover {\n",
              "      background-color: #E2EBFA;\n",
              "      box-shadow: 0px 1px 2px rgba(60, 64, 67, 0.3), 0px 1px 3px 1px rgba(60, 64, 67, 0.15);\n",
              "      fill: #174EA6;\n",
              "    }\n",
              "\n",
              "    .colab-df-buttons div {\n",
              "      margin-bottom: 4px;\n",
              "    }\n",
              "\n",
              "    [theme=dark] .colab-df-convert {\n",
              "      background-color: #3B4455;\n",
              "      fill: #D2E3FC;\n",
              "    }\n",
              "\n",
              "    [theme=dark] .colab-df-convert:hover {\n",
              "      background-color: #434B5C;\n",
              "      box-shadow: 0px 1px 3px 1px rgba(0, 0, 0, 0.15);\n",
              "      filter: drop-shadow(0px 1px 2px rgba(0, 0, 0, 0.3));\n",
              "      fill: #FFFFFF;\n",
              "    }\n",
              "  </style>\n",
              "\n",
              "    <script>\n",
              "      const buttonEl =\n",
              "        document.querySelector('#df-43ad931c-6c51-4957-954d-1693dae3c3fd button.colab-df-convert');\n",
              "      buttonEl.style.display =\n",
              "        google.colab.kernel.accessAllowed ? 'block' : 'none';\n",
              "\n",
              "      async function convertToInteractive(key) {\n",
              "        const element = document.querySelector('#df-43ad931c-6c51-4957-954d-1693dae3c3fd');\n",
              "        const dataTable =\n",
              "          await google.colab.kernel.invokeFunction('convertToInteractive',\n",
              "                                                    [key], {});\n",
              "        if (!dataTable) return;\n",
              "\n",
              "        const docLinkHtml = 'Like what you see? Visit the ' +\n",
              "          '<a target=\"_blank\" href=https://colab.research.google.com/notebooks/data_table.ipynb>data table notebook</a>'\n",
              "          + ' to learn more about interactive tables.';\n",
              "        element.innerHTML = '';\n",
              "        dataTable['output_type'] = 'display_data';\n",
              "        await google.colab.output.renderOutput(dataTable, element);\n",
              "        const docLink = document.createElement('div');\n",
              "        docLink.innerHTML = docLinkHtml;\n",
              "        element.appendChild(docLink);\n",
              "      }\n",
              "    </script>\n",
              "  </div>\n",
              "\n",
              "\n",
              "<div id=\"df-7969893a-8edb-41b2-8bd3-9f51034b4720\">\n",
              "  <button class=\"colab-df-quickchart\" onclick=\"quickchart('df-7969893a-8edb-41b2-8bd3-9f51034b4720')\"\n",
              "            title=\"Suggest charts\"\n",
              "            style=\"display:none;\">\n",
              "\n",
              "<svg xmlns=\"http://www.w3.org/2000/svg\" height=\"24px\"viewBox=\"0 0 24 24\"\n",
              "     width=\"24px\">\n",
              "    <g>\n",
              "        <path d=\"M19 3H5c-1.1 0-2 .9-2 2v14c0 1.1.9 2 2 2h14c1.1 0 2-.9 2-2V5c0-1.1-.9-2-2-2zM9 17H7v-7h2v7zm4 0h-2V7h2v10zm4 0h-2v-4h2v4z\"/>\n",
              "    </g>\n",
              "</svg>\n",
              "  </button>\n",
              "\n",
              "<style>\n",
              "  .colab-df-quickchart {\n",
              "      --bg-color: #E8F0FE;\n",
              "      --fill-color: #1967D2;\n",
              "      --hover-bg-color: #E2EBFA;\n",
              "      --hover-fill-color: #174EA6;\n",
              "      --disabled-fill-color: #AAA;\n",
              "      --disabled-bg-color: #DDD;\n",
              "  }\n",
              "\n",
              "  [theme=dark] .colab-df-quickchart {\n",
              "      --bg-color: #3B4455;\n",
              "      --fill-color: #D2E3FC;\n",
              "      --hover-bg-color: #434B5C;\n",
              "      --hover-fill-color: #FFFFFF;\n",
              "      --disabled-bg-color: #3B4455;\n",
              "      --disabled-fill-color: #666;\n",
              "  }\n",
              "\n",
              "  .colab-df-quickchart {\n",
              "    background-color: var(--bg-color);\n",
              "    border: none;\n",
              "    border-radius: 50%;\n",
              "    cursor: pointer;\n",
              "    display: none;\n",
              "    fill: var(--fill-color);\n",
              "    height: 32px;\n",
              "    padding: 0;\n",
              "    width: 32px;\n",
              "  }\n",
              "\n",
              "  .colab-df-quickchart:hover {\n",
              "    background-color: var(--hover-bg-color);\n",
              "    box-shadow: 0 1px 2px rgba(60, 64, 67, 0.3), 0 1px 3px 1px rgba(60, 64, 67, 0.15);\n",
              "    fill: var(--button-hover-fill-color);\n",
              "  }\n",
              "\n",
              "  .colab-df-quickchart-complete:disabled,\n",
              "  .colab-df-quickchart-complete:disabled:hover {\n",
              "    background-color: var(--disabled-bg-color);\n",
              "    fill: var(--disabled-fill-color);\n",
              "    box-shadow: none;\n",
              "  }\n",
              "\n",
              "  .colab-df-spinner {\n",
              "    border: 2px solid var(--fill-color);\n",
              "    border-color: transparent;\n",
              "    border-bottom-color: var(--fill-color);\n",
              "    animation:\n",
              "      spin 1s steps(1) infinite;\n",
              "  }\n",
              "\n",
              "  @keyframes spin {\n",
              "    0% {\n",
              "      border-color: transparent;\n",
              "      border-bottom-color: var(--fill-color);\n",
              "      border-left-color: var(--fill-color);\n",
              "    }\n",
              "    20% {\n",
              "      border-color: transparent;\n",
              "      border-left-color: var(--fill-color);\n",
              "      border-top-color: var(--fill-color);\n",
              "    }\n",
              "    30% {\n",
              "      border-color: transparent;\n",
              "      border-left-color: var(--fill-color);\n",
              "      border-top-color: var(--fill-color);\n",
              "      border-right-color: var(--fill-color);\n",
              "    }\n",
              "    40% {\n",
              "      border-color: transparent;\n",
              "      border-right-color: var(--fill-color);\n",
              "      border-top-color: var(--fill-color);\n",
              "    }\n",
              "    60% {\n",
              "      border-color: transparent;\n",
              "      border-right-color: var(--fill-color);\n",
              "    }\n",
              "    80% {\n",
              "      border-color: transparent;\n",
              "      border-right-color: var(--fill-color);\n",
              "      border-bottom-color: var(--fill-color);\n",
              "    }\n",
              "    90% {\n",
              "      border-color: transparent;\n",
              "      border-bottom-color: var(--fill-color);\n",
              "    }\n",
              "  }\n",
              "</style>\n",
              "\n",
              "  <script>\n",
              "    async function quickchart(key) {\n",
              "      const quickchartButtonEl =\n",
              "        document.querySelector('#' + key + ' button');\n",
              "      quickchartButtonEl.disabled = true;  // To prevent multiple clicks.\n",
              "      quickchartButtonEl.classList.add('colab-df-spinner');\n",
              "      try {\n",
              "        const charts = await google.colab.kernel.invokeFunction(\n",
              "            'suggestCharts', [key], {});\n",
              "      } catch (error) {\n",
              "        console.error('Error during call to suggestCharts:', error);\n",
              "      }\n",
              "      quickchartButtonEl.classList.remove('colab-df-spinner');\n",
              "      quickchartButtonEl.classList.add('colab-df-quickchart-complete');\n",
              "    }\n",
              "    (() => {\n",
              "      let quickchartButtonEl =\n",
              "        document.querySelector('#df-7969893a-8edb-41b2-8bd3-9f51034b4720 button');\n",
              "      quickchartButtonEl.style.display =\n",
              "        google.colab.kernel.accessAllowed ? 'block' : 'none';\n",
              "    })();\n",
              "  </script>\n",
              "</div>\n",
              "    </div>\n",
              "  </div>\n"
            ],
            "application/vnd.google.colaboratory.intrinsic+json": {
              "type": "dataframe",
              "variable_name": "df_val",
              "summary": "{\n  \"name\": \"df_val\",\n  \"rows\": 6,\n  \"fields\": [\n    {\n      \"column\": \"Accuracy\",\n      \"properties\": {\n        \"dtype\": \"number\",\n        \"std\": 0.02506491523999126,\n        \"min\": 0.6107274483844419,\n        \"max\": 0.6843310552116506,\n        \"num_unique_values\": 6,\n        \"samples\": [\n          0.6315525816724514,\n          0.6107274483844419,\n          0.6514116005295738\n        ],\n        \"semantic_type\": \"\",\n        \"description\": \"\"\n      }\n    },\n    {\n      \"column\": \"Precision\",\n      \"properties\": {\n        \"dtype\": \"number\",\n        \"std\": 0.17549712893705494,\n        \"min\": 0.06380114860014358,\n        \"max\": 0.5201005025125628,\n        \"num_unique_values\": 6,\n        \"samples\": [\n          0.2856245513280689,\n          0.06380114860014358,\n          0.48833452979181624\n        ],\n        \"semantic_type\": \"\",\n        \"description\": \"\"\n      }\n    },\n    {\n      \"column\": \"Recall\",\n      \"properties\": {\n        \"dtype\": \"number\",\n        \"std\": 0.040534804275499256,\n        \"min\": 0.5406922357343311,\n        \"max\": 0.6468876518218624,\n        \"num_unique_values\": 6,\n        \"samples\": [\n          0.5767349157456061,\n          0.6145203111495247,\n          0.5739295507276946\n        ],\n        \"semantic_type\": \"\",\n        \"description\": \"\"\n      }\n    },\n    {\n      \"column\": \"F1\",\n      \"properties\": {\n        \"dtype\": \"number\",\n        \"std\": 0.16604171032996098,\n        \"min\": 0.11560035769449638,\n        \"max\": 0.5368542629147417,\n        \"num_unique_values\": 6,\n        \"samples\": [\n          0.382044049690932,\n          0.11560035769449638,\n          0.5276835062542422\n        ],\n        \"semantic_type\": \"\",\n        \"description\": \"\"\n      }\n    }\n  ]\n}"
            }
          },
          "metadata": {},
          "execution_count": 173
        },
        {
          "output_type": "display_data",
          "data": {
            "text/plain": [
              "<Figure size 640x480 with 1 Axes>"
            ],
            "image/png": "[encoded data removed]"
          },
          "metadata": {}
        }
      ]
    },
    {
      "cell_type": "markdown",
      "source": [
        "Без указанных гиперпараметров лучшие результаты:\n",
        "- Decision Trees\n",
        "- Random Forest\n",
        "- K-Nearest Neighbor\n",
        "---\n",
        "Немного хуже:\n",
        "- Naive Bayes\n",
        "---\n",
        "Т.к. Decision Trees и Random Forest запускались без параметров, то вероятно они переобучились из-за неограниченной глубины деревьев"
      ],
      "metadata": {
        "id": "dcVha61ByOgA"
      }
    },
    {
      "cell_type": "markdown",
      "source": [
        "## Grid Search"
      ],
      "metadata": {
        "id": "kYFh5cYw2fnS"
      }
    },
    {
      "cell_type": "markdown",
      "source": [
        "# NN"
      ],
      "metadata": {
        "id": "ickSoYrYAaFz"
      }
    },
    {
      "cell_type": "code",
      "source": [
        "import torch\n",
        "import torch.nn as nn\n",
        "import torch.nn.functional as F"
      ],
      "metadata": {
        "id": "8xxqOu9bLJPh"
      },
      "execution_count": 181,
      "outputs": []
    },
    {
      "cell_type": "code",
      "source": [
        "device=\"cuda\" if torch.cuda.is_available() else \"cpu\"\n",
        "device"
      ],
      "metadata": {
        "id": "wgC6oC5UTZo7"
      },
      "execution_count": null,
      "outputs": []
    },
    {
      "cell_type": "code",
      "source": [
        "X_train, y_train, X_val, y_val, X_test, y_test = split_data(df_in.drop('target', axis=1).values, df_in['target'].values)\n",
        "\n",
        "X_train = torch.tensor(X_train, dtype=torch.float32)\n",
        "y_train = torch.tensor(y_train, dtype=torch.float32).reshape(-1, 1)\n",
        "X_test = torch.tensor(X_test, dtype=torch.float32)\n",
        "y_test = torch.tensor(y_test, dtype=torch.float32).reshape(-1, 1)\n",
        "X_val = torch.tensor(X_val, dtype=torch.float32)\n",
        "y_val = torch.tensor(y_val, dtype=torch.float32).reshape(-1, 1)"
      ],
      "metadata": {
        "id": "Es52y0wiEJ-L"
      },
      "execution_count": 184,
      "outputs": []
    },
    {
      "cell_type": "code",
      "source": [
        "class Model(nn.Module):\n",
        "\n",
        "    def __init__(self, input_shape, output_shape=1):\n",
        "        super(Model, self).__init__()\n",
        "\n",
        "        self.fc1 = nn.Linear(input_shape, 32)\n",
        "        self.fc2 = nn.Linear(32, 64)\n",
        "        self.fc3 = nn.Linear(64, 128)\n",
        "        self.fc4 = nn.Linear(128, 64)\n",
        "        self.dropout = nn.Dropout(p=0.2)\n",
        "        self.fc5 = nn.Linear(64, 32)\n",
        "        self.fc6 = nn.Linear(32, output_shape)\n",
        "\n",
        "    def forward(self, x):\n",
        "        x = F.relu(self.fc1(x))\n",
        "        x = F.relu(self.fc2(x))\n",
        "        x = F.relu(self.fc3(x))\n",
        "        x = F.relu(self.fc4(x))\n",
        "        x = F.relu(self.dropout(x))\n",
        "        x = F.relu(self.fc5(x))\n",
        "\n",
        "        return F.sigmoid(self.fc6(x))\n"
      ],
      "metadata": {
        "id": "LBnSX088AZbc"
      },
      "execution_count": 235,
      "outputs": []
    },
    {
      "cell_type": "code",
      "source": [
        "learning_rate = 1e-3\n",
        "\n",
        "model = Model(X_train.shape[1])\n",
        "optimizer = torch.optim.Adam(model.parameters(), lr=learning_rate)\n",
        "criterion = nn.BCELoss()\n",
        "\n",
        "# training parameters\n",
        "n_epochs = 50   # number of epochs to run\n",
        "batch_size = 32  # size of each batch\n",
        "batch_start = torch.arange(0, len(X_train), batch_size)\n",
        "\n",
        "# Hold the best model\n",
        "best_loss = np.inf   # init to infinity\n",
        "best_weights = None\n",
        "history = []\n",
        "history_val = []\n",
        "\n",
        "total_params = sum(p.numel() for p in model.parameters())\n",
        "params_trainable = sum(p.numel() for p in model.parameters() if p.requires_grad)\n",
        "print(f'Trainable params count: {params_trainable }')\n",
        "print(f'Total params count: {total_params}')"
      ],
      "metadata": {
        "colab": {
          "base_uri": "https://localhost:8080/"
        },
        "id": "hZh7q739AdMa",
        "outputId": "528cbbb0-dce0-4195-a92e-9f8eb6662199"
      },
      "execution_count": 256,
      "outputs": [
        {
          "output_type": "stream",
          "name": "stdout",
          "text": [
            "Trainable params count: 39585\n",
            "Total params count: 39585\n"
          ]
        }
      ]
    },
    {
      "cell_type": "code",
      "source": [
        "# training loop\n",
        "for epoch in range(n_epochs):\n",
        "    model.train()\n",
        "    with tqdm(batch_start, unit=\"batch\", mininterval=0, disable=False) as bar:\n",
        "        bar.set_description(f\"Epoch {epoch}\")\n",
        "        for start in bar:\n",
        "            # take a batch\n",
        "            X_batch = X_train[start:start+batch_size]\n",
        "            y_batch = y_train[start:start+batch_size]\n",
        "\n",
        "            # forward pass\n",
        "            y_pred = model(X_batch)\n",
        "\n",
        "            # calculate loss\n",
        "            loss = criterion(y_pred, y_batch)\n",
        "\n",
        "            # backward pass\n",
        "            optimizer.zero_grad()\n",
        "            loss.backward()\n",
        "\n",
        "            # update weights\n",
        "            optimizer.step()\n",
        "\n",
        "            # print progress\n",
        "            bar.set_postfix(loss=float(loss))\n",
        "\n",
        "    history.append(float(loss))\n",
        "    # evaluate accuracy at end of each epoch\n",
        "    model.eval()\n",
        "    y_pred = model(X_test)\n",
        "    loss_eval = criterion(y_pred, y_test)\n",
        "    loss_eval = float(loss_eval)\n",
        "    history_val.append(loss_eval)\n",
        "    if loss < best_loss:\n",
        "        best_loss = loss\n",
        "        best_weights = copy.deepcopy(model.state_dict())"
      ],
      "metadata": {
        "colab": {
          "base_uri": "https://localhost:8080/"
        },
        "id": "DjFUuR9JAh49",
        "outputId": "fd5780bd-f97e-40f3-817e-bba0f992777b"
      },
      "execution_count": 257,
      "outputs": [
        {
          "output_type": "stream",
          "name": "stderr",
          "text": [
            "Epoch 0: 100%|██████████| 2620/2620 [00:27<00:00, 93.95batch/s, loss=0.598] \n",
            "Epoch 1: 100%|██████████| 2620/2620 [00:27<00:00, 94.16batch/s, loss=0.564]\n",
            "Epoch 2: 100%|██████████| 2620/2620 [00:26<00:00, 97.31batch/s, loss=0.551] \n",
            "Epoch 3: 100%|██████████| 2620/2620 [00:28<00:00, 92.88batch/s, loss=0.547]\n",
            "Epoch 4: 100%|██████████| 2620/2620 [00:26<00:00, 97.68batch/s, loss=0.55] \n",
            "Epoch 5: 100%|██████████| 2620/2620 [00:27<00:00, 94.51batch/s, loss=0.51]\n",
            "Epoch 6: 100%|██████████| 2620/2620 [00:26<00:00, 97.29batch/s, loss=0.529] \n",
            "Epoch 7: 100%|██████████| 2620/2620 [00:27<00:00, 94.55batch/s, loss=0.518]\n",
            "Epoch 8: 100%|██████████| 2620/2620 [00:26<00:00, 98.37batch/s, loss=0.523] \n",
            "Epoch 9: 100%|██████████| 2620/2620 [00:27<00:00, 95.81batch/s, loss=0.522]\n",
            "Epoch 10: 100%|██████████| 2620/2620 [00:27<00:00, 95.43batch/s, loss=0.498] \n",
            "Epoch 11: 100%|██████████| 2620/2620 [00:28<00:00, 93.38batch/s, loss=0.522]\n",
            "Epoch 12: 100%|██████████| 2620/2620 [00:27<00:00, 96.44batch/s, loss=0.516]\n",
            "Epoch 13: 100%|██████████| 2620/2620 [00:27<00:00, 96.91batch/s, loss=0.518] \n",
            "Epoch 14: 100%|██████████| 2620/2620 [00:27<00:00, 94.15batch/s, loss=0.517] \n",
            "Epoch 15: 100%|██████████| 2620/2620 [00:28<00:00, 92.00batch/s, loss=0.511]\n",
            "Epoch 16: 100%|██████████| 2620/2620 [00:27<00:00, 95.50batch/s, loss=0.528] \n",
            "Epoch 17: 100%|██████████| 2620/2620 [00:28<00:00, 91.69batch/s, loss=0.516]\n",
            "Epoch 18: 100%|██████████| 2620/2620 [00:27<00:00, 93.78batch/s, loss=0.507]\n",
            "Epoch 19: 100%|██████████| 2620/2620 [00:29<00:00, 89.40batch/s, loss=0.511] \n",
            "Epoch 20: 100%|██████████| 2620/2620 [00:27<00:00, 94.78batch/s, loss=0.519]\n",
            "Epoch 21: 100%|██████████| 2620/2620 [00:29<00:00, 89.27batch/s, loss=0.514] \n",
            "Epoch 22: 100%|██████████| 2620/2620 [00:28<00:00, 91.36batch/s, loss=0.518]\n",
            "Epoch 23: 100%|██████████| 2620/2620 [00:29<00:00, 89.44batch/s, loss=0.512] \n",
            "Epoch 24: 100%|██████████| 2620/2620 [00:28<00:00, 90.92batch/s, loss=0.52]\n",
            "Epoch 25: 100%|██████████| 2620/2620 [00:29<00:00, 88.68batch/s, loss=0.497]\n",
            "Epoch 26: 100%|██████████| 2620/2620 [00:30<00:00, 86.99batch/s, loss=0.504]\n",
            "Epoch 27: 100%|██████████| 2620/2620 [00:29<00:00, 89.41batch/s, loss=0.49]\n",
            "Epoch 28: 100%|██████████| 2620/2620 [00:30<00:00, 87.11batch/s, loss=0.491]\n",
            "Epoch 29: 100%|██████████| 2620/2620 [00:30<00:00, 86.63batch/s, loss=0.501]\n",
            "Epoch 30: 100%|██████████| 2620/2620 [00:29<00:00, 89.15batch/s, loss=0.511]\n",
            "Epoch 31: 100%|██████████| 2620/2620 [00:30<00:00, 85.26batch/s, loss=0.518] \n",
            "Epoch 32: 100%|██████████| 2620/2620 [00:30<00:00, 86.95batch/s, loss=0.507]\n",
            "Epoch 33: 100%|██████████| 2620/2620 [00:30<00:00, 87.18batch/s, loss=0.506]\n",
            "Epoch 34: 100%|██████████| 2620/2620 [00:30<00:00, 85.54batch/s, loss=0.506]\n",
            "Epoch 35: 100%|██████████| 2620/2620 [00:30<00:00, 86.15batch/s, loss=0.503]\n",
            "Epoch 36: 100%|██████████| 2620/2620 [00:30<00:00, 86.77batch/s, loss=0.491]\n",
            "Epoch 37: 100%|██████████| 2620/2620 [00:30<00:00, 84.89batch/s, loss=0.493]\n",
            "Epoch 38: 100%|██████████| 2620/2620 [00:30<00:00, 87.32batch/s, loss=0.496]\n",
            "Epoch 39: 100%|██████████| 2620/2620 [00:30<00:00, 87.23batch/s, loss=0.505]\n",
            "Epoch 40: 100%|██████████| 2620/2620 [00:30<00:00, 85.40batch/s, loss=0.51]\n",
            "Epoch 41: 100%|██████████| 2620/2620 [00:30<00:00, 87.08batch/s, loss=0.493]\n",
            "Epoch 42: 100%|██████████| 2620/2620 [00:30<00:00, 85.84batch/s, loss=0.508]\n",
            "Epoch 43: 100%|██████████| 2620/2620 [00:31<00:00, 84.07batch/s, loss=0.506]\n",
            "Epoch 44: 100%|██████████| 2620/2620 [00:30<00:00, 86.68batch/s, loss=0.512]\n",
            "Epoch 45: 100%|██████████| 2620/2620 [00:30<00:00, 84.95batch/s, loss=0.496] \n",
            "Epoch 46: 100%|██████████| 2620/2620 [00:31<00:00, 84.48batch/s, loss=0.511]\n",
            "Epoch 47: 100%|██████████| 2620/2620 [00:35<00:00, 73.04batch/s, loss=0.514]\n",
            "Epoch 48: 100%|██████████| 2620/2620 [00:29<00:00, 87.47batch/s, loss=0.495]\n",
            "Epoch 49: 100%|██████████| 2620/2620 [00:30<00:00, 85.16batch/s, loss=0.511]\n"
          ]
        }
      ]
    },
    {
      "cell_type": "code",
      "source": [
        "plt.plot(history)\n",
        "plt.plot(history_val)\n",
        "plt.legend(['Train loss', 'Validation loss'])\n",
        "\n",
        "plt.show()"
      ],
      "metadata": {
        "colab": {
          "base_uri": "https://localhost:8080/",
          "height": 430
        },
        "id": "ZXTgatWkAjfk",
        "outputId": "9a278dff-ef25-478d-c43c-c25a4b50deca"
      },
      "execution_count": 258,
      "outputs": [
        {
          "output_type": "display_data",
          "data": {
            "text/plain": [
              "<Figure size 640x480 with 1 Axes>"
            ],
            "image/png": "[encoded data removed]"
          },
          "metadata": {}
        }
      ]
    },
    {
      "cell_type": "code",
      "source": [
        "from sklearn.metrics import accuracy_score, precision_score, recall_score, f1_score\n",
        "\n",
        "def evaluate(models, X_test, y_test, pos_label=1):\n",
        "  accuracy, precision, recall, f1 = {}, {}, {}, {}\n",
        "\n",
        "  # Make predictions\n",
        "  predictions = model(X_test)\n",
        "  predictions = predictions.detach().numpy().round()\n",
        "  y_test = y_test.detach().numpy()\n",
        "\n",
        "  # Calculate metrics\n",
        "  accuracy = accuracy_score(predictions, y_test)\n",
        "  precision = precision_score(predictions, y_test)\n",
        "  recall = recall_score(predictions, y_test)\n",
        "  f1 = f1_score(predictions, y_test)\n",
        "\n",
        "\n",
        "  return accuracy, precision, recall, f1"
      ],
      "metadata": {
        "id": "5S72-Q_qEnda"
      },
      "execution_count": 259,
      "outputs": []
    },
    {
      "cell_type": "code",
      "source": [
        "accuracy, precision, recall, f1 = evaluate(model, X_test, y_test)\n",
        "print(f'Accuracy = {accuracy}')\n",
        "print(f'Precision = {precision}')\n",
        "print(f'Recall = {recall}')\n",
        "print(f'F1 = {f1}')"
      ],
      "metadata": {
        "colab": {
          "base_uri": "https://localhost:8080/"
        },
        "id": "VPvJibW7Gqrb",
        "outputId": "60b2a16f-2345-464b-91f5-2342a19e4d5a"
      },
      "execution_count": 260,
      "outputs": [
        {
          "output_type": "stream",
          "name": "stdout",
          "text": [
            "Accuracy = 0.6520556768168319\n",
            "Precision = 0.39079946404644933\n",
            "Recall = 0.6010440994642121\n",
            "F1 = 0.4736386272599329\n"
          ]
        }
      ]
    },
    {
      "cell_type": "code",
      "source": [],
      "metadata": {
        "id": "-ejwSd_VNCvI"
      },
      "execution_count": null,
      "outputs": []
    }
  ]
}