{
  "nbformat": 4,
  "nbformat_minor": 0,
  "metadata": {
    "colab": {
      "provenance": [],
      "collapsed_sections": [
        "D2aESJBPoR4y",
        "eAD3-X-3oWlL",
        "cyuZ5PtxS6v_",
        "0J-vKy2jhKD-"
      ],
      "authorship_tag": "ABX9TyMgJZPGnVE4W6x6E80Yucj6",
      "include_colab_link": true
    },
    "kernelspec": {
      "name": "python3",
      "display_name": "Python 3"
    },
    "language_info": {
      "name": "python"
    },
    "widgets": {
      "application/vnd.jupyter.widget-state+json": {
        "4a43145d3d68477d92e506af57231253": {
          "model_module": "@jupyter-widgets/controls",
          "model_name": "HBoxModel",
          "model_module_version": "1.5.0",
          "state": {
            "_dom_classes": [],
            "_model_module": "@jupyter-widgets/controls",
            "_model_module_version": "1.5.0",
            "_model_name": "HBoxModel",
            "_view_count": null,
            "_view_module": "@jupyter-widgets/controls",
            "_view_module_version": "1.5.0",
            "_view_name": "HBoxView",
            "box_style": "",
            "children": [
              "IPY_MODEL_9fcef158782746cc9fcfca78df026288",
              "IPY_MODEL_a2ea3f0fecb345feb71d25922fc79394",
              "IPY_MODEL_084627ae65bc479abd53cb58b13580e5"
            ],
            "layout": "IPY_MODEL_0207e953773a4ffab3da1cf245d8fd86"
          }
        },
        "9fcef158782746cc9fcfca78df026288": {
          "model_module": "@jupyter-widgets/controls",
          "model_name": "HTMLModel",
          "model_module_version": "1.5.0",
          "state": {
            "_dom_classes": [],
            "_model_module": "@jupyter-widgets/controls",
            "_model_module_version": "1.5.0",
            "_model_name": "HTMLModel",
            "_view_count": null,
            "_view_module": "@jupyter-widgets/controls",
            "_view_module_version": "1.5.0",
            "_view_name": "HTMLView",
            "description": "",
            "description_tooltip": null,
            "layout": "IPY_MODEL_2971018ec7aa4f6ea561d26b978dfb83",
            "placeholder": "​",
            "style": "IPY_MODEL_f3c640cacb174e26b11a5f39f5e932aa",
            "value": "generation_config.json: 100%"
          }
        },
        "a2ea3f0fecb345feb71d25922fc79394": {
          "model_module": "@jupyter-widgets/controls",
          "model_name": "FloatProgressModel",
          "model_module_version": "1.5.0",
          "state": {
            "_dom_classes": [],
            "_model_module": "@jupyter-widgets/controls",
            "_model_module_version": "1.5.0",
            "_model_name": "FloatProgressModel",
            "_view_count": null,
            "_view_module": "@jupyter-widgets/controls",
            "_view_module_version": "1.5.0",
            "_view_name": "ProgressView",
            "bar_style": "success",
            "description": "",
            "description_tooltip": null,
            "layout": "IPY_MODEL_630870603d6b4495b155f3be38ad9adc",
            "max": 142,
            "min": 0,
            "orientation": "horizontal",
            "style": "IPY_MODEL_4b500b61e3dc43e8bf6ed1f9088a2bf9",
            "value": 142
          }
        },
        "084627ae65bc479abd53cb58b13580e5": {
          "model_module": "@jupyter-widgets/controls",
          "model_name": "HTMLModel",
          "model_module_version": "1.5.0",
          "state": {
            "_dom_classes": [],
            "_model_module": "@jupyter-widgets/controls",
            "_model_module_version": "1.5.0",
            "_model_name": "HTMLModel",
            "_view_count": null,
            "_view_module": "@jupyter-widgets/controls",
            "_view_module_version": "1.5.0",
            "_view_name": "HTMLView",
            "description": "",
            "description_tooltip": null,
            "layout": "IPY_MODEL_59095acfd653414a90b7f3d713568a59",
            "placeholder": "​",
            "style": "IPY_MODEL_ce5a15eadcb44858a159455204691837",
            "value": " 142/142 [00:00&lt;00:00, 1.09kB/s]"
          }
        },
        "0207e953773a4ffab3da1cf245d8fd86": {
          "model_module": "@jupyter-widgets/base",
          "model_name": "LayoutModel",
          "model_module_version": "1.2.0",
          "state": {
            "_model_module": "@jupyter-widgets/base",
            "_model_module_version": "1.2.0",
            "_model_name": "LayoutModel",
            "_view_count": null,
            "_view_module": "@jupyter-widgets/base",
            "_view_module_version": "1.2.0",
            "_view_name": "LayoutView",
            "align_content": null,
            "align_items": null,
            "align_self": null,
            "border": null,
            "bottom": null,
            "display": null,
            "flex": null,
            "flex_flow": null,
            "grid_area": null,
            "grid_auto_columns": null,
            "grid_auto_flow": null,
            "grid_auto_rows": null,
            "grid_column": null,
            "grid_gap": null,
            "grid_row": null,
            "grid_template_areas": null,
            "grid_template_columns": null,
            "grid_template_rows": null,
            "height": null,
            "justify_content": null,
            "justify_items": null,
            "left": null,
            "margin": null,
            "max_height": null,
            "max_width": null,
            "min_height": null,
            "min_width": null,
            "object_fit": null,
            "object_position": null,
            "order": null,
            "overflow": null,
            "overflow_x": null,
            "overflow_y": null,
            "padding": null,
            "right": null,
            "top": null,
            "visibility": null,
            "width": null
          }
        },
        "2971018ec7aa4f6ea561d26b978dfb83": {
          "model_module": "@jupyter-widgets/base",
          "model_name": "LayoutModel",
          "model_module_version": "1.2.0",
          "state": {
            "_model_module": "@jupyter-widgets/base",
            "_model_module_version": "1.2.0",
            "_model_name": "LayoutModel",
            "_view_count": null,
            "_view_module": "@jupyter-widgets/base",
            "_view_module_version": "1.2.0",
            "_view_name": "LayoutView",
            "align_content": null,
            "align_items": null,
            "align_self": null,
            "border": null,
            "bottom": null,
            "display": null,
            "flex": null,
            "flex_flow": null,
            "grid_area": null,
            "grid_auto_columns": null,
            "grid_auto_flow": null,
            "grid_auto_rows": null,
            "grid_column": null,
            "grid_gap": null,
            "grid_row": null,
            "grid_template_areas": null,
            "grid_template_columns": null,
            "grid_template_rows": null,
            "height": null,
            "justify_content": null,
            "justify_items": null,
            "left": null,
            "margin": null,
            "max_height": null,
            "max_width": null,
            "min_height": null,
            "min_width": null,
            "object_fit": null,
            "object_position": null,
            "order": null,
            "overflow": null,
            "overflow_x": null,
            "overflow_y": null,
            "padding": null,
            "right": null,
            "top": null,
            "visibility": null,
            "width": null
          }
        },
        "f3c640cacb174e26b11a5f39f5e932aa": {
          "model_module": "@jupyter-widgets/controls",
          "model_name": "DescriptionStyleModel",
          "model_module_version": "1.5.0",
          "state": {
            "_model_module": "@jupyter-widgets/controls",
            "_model_module_version": "1.5.0",
            "_model_name": "DescriptionStyleModel",
            "_view_count": null,
            "_view_module": "@jupyter-widgets/base",
            "_view_module_version": "1.2.0",
            "_view_name": "StyleView",
            "description_width": ""
          }
        },
        "630870603d6b4495b155f3be38ad9adc": {
          "model_module": "@jupyter-widgets/base",
          "model_name": "LayoutModel",
          "model_module_version": "1.2.0",
          "state": {
            "_model_module": "@jupyter-widgets/base",
            "_model_module_version": "1.2.0",
            "_model_name": "LayoutModel",
            "_view_count": null,
            "_view_module": "@jupyter-widgets/base",
            "_view_module_version": "1.2.0",
            "_view_name": "LayoutView",
            "align_content": null,
            "align_items": null,
            "align_self": null,
            "border": null,
            "bottom": null,
            "display": null,
            "flex": null,
            "flex_flow": null,
            "grid_area": null,
            "grid_auto_columns": null,
            "grid_auto_flow": null,
            "grid_auto_rows": null,
            "grid_column": null,
            "grid_gap": null,
            "grid_row": null,
            "grid_template_areas": null,
            "grid_template_columns": null,
            "grid_template_rows": null,
            "height": null,
            "justify_content": null,
            "justify_items": null,
            "left": null,
            "margin": null,
            "max_height": null,
            "max_width": null,
            "min_height": null,
            "min_width": null,
            "object_fit": null,
            "object_position": null,
            "order": null,
            "overflow": null,
            "overflow_x": null,
            "overflow_y": null,
            "padding": null,
            "right": null,
            "top": null,
            "visibility": null,
            "width": null
          }
        },
        "4b500b61e3dc43e8bf6ed1f9088a2bf9": {
          "model_module": "@jupyter-widgets/controls",
          "model_name": "ProgressStyleModel",
          "model_module_version": "1.5.0",
          "state": {
            "_model_module": "@jupyter-widgets/controls",
            "_model_module_version": "1.5.0",
            "_model_name": "ProgressStyleModel",
            "_view_count": null,
            "_view_module": "@jupyter-widgets/base",
            "_view_module_version": "1.2.0",
            "_view_name": "StyleView",
            "bar_color": null,
            "description_width": ""
          }
        },
        "59095acfd653414a90b7f3d713568a59": {
          "model_module": "@jupyter-widgets/base",
          "model_name": "LayoutModel",
          "model_module_version": "1.2.0",
          "state": {
            "_model_module": "@jupyter-widgets/base",
            "_model_module_version": "1.2.0",
            "_model_name": "LayoutModel",
            "_view_count": null,
            "_view_module": "@jupyter-widgets/base",
            "_view_module_version": "1.2.0",
            "_view_name": "LayoutView",
            "align_content": null,
            "align_items": null,
            "align_self": null,
            "border": null,
            "bottom": null,
            "display": null,
            "flex": null,
            "flex_flow": null,
            "grid_area": null,
            "grid_auto_columns": null,
            "grid_auto_flow": null,
            "grid_auto_rows": null,
            "grid_column": null,
            "grid_gap": null,
            "grid_row": null,
            "grid_template_areas": null,
            "grid_template_columns": null,
            "grid_template_rows": null,
            "height": null,
            "justify_content": null,
            "justify_items": null,
            "left": null,
            "margin": null,
            "max_height": null,
            "max_width": null,
            "min_height": null,
            "min_width": null,
            "object_fit": null,
            "object_position": null,
            "order": null,
            "overflow": null,
            "overflow_x": null,
            "overflow_y": null,
            "padding": null,
            "right": null,
            "top": null,
            "visibility": null,
            "width": null
          }
        },
        "ce5a15eadcb44858a159455204691837": {
          "model_module": "@jupyter-widgets/controls",
          "model_name": "DescriptionStyleModel",
          "model_module_version": "1.5.0",
          "state": {
            "_model_module": "@jupyter-widgets/controls",
            "_model_module_version": "1.5.0",
            "_model_name": "DescriptionStyleModel",
            "_view_count": null,
            "_view_module": "@jupyter-widgets/base",
            "_view_module_version": "1.2.0",
            "_view_name": "StyleView",
            "description_width": ""
          }
        }
      }
    }
  },
  "cells": [
    {
      "cell_type": "markdown",
      "metadata": {
        "id": "view-in-github",
        "colab_type": "text"
      },
      "source": [
        "<a href=\"https://colab.research.google.com/github/Oleksij-gh/infotech-task/blob/main/infotech_test_task.ipynb\" target=\"_parent\"><img src=\"https://colab.research.google.com/assets/colab-badge.svg\" alt=\"Open In Colab\"/></a>"
      ]
    },
    {
      "cell_type": "markdown",
      "source": [
        "to do:\n",
        "\n",
        "исправить баг с y_val_"
      ],
      "metadata": {
        "id": "9_AU8TZ6cJG3"
      }
    },
    {
      "cell_type": "markdown",
      "source": [
        "Идеи:\n",
        "1. Обучить две разные модели\n",
        "\n",
        "* На время взлёта\n",
        "* На врема посадки\n",
        "\n",
        "2. Обучить модель на общее время задержки рейса"
      ],
      "metadata": {
        "id": "xLctdHbpzeaA"
      }
    },
    {
      "cell_type": "markdown",
      "source": [
        "# 1. Libs"
      ],
      "metadata": {
        "id": "D2aESJBPoR4y"
      }
    },
    {
      "cell_type": "code",
      "execution_count": 1,
      "metadata": {
        "id": "t8K6IZDcKEyl"
      },
      "outputs": [],
      "source": [
        "import copy\n",
        "import pandas as pd\n",
        "import numpy as np\n",
        "from tqdm import tqdm\n",
        "from matplotlib import pyplot as plt\n",
        "from sklearn.model_selection import train_test_split, cross_val_score\n",
        "from sklearn.metrics import mean_squared_error as MSE\n",
        "from sklearn.metrics import mean_absolute_error as MAE"
      ]
    },
    {
      "cell_type": "markdown",
      "source": [
        "# 2. Loading Data"
      ],
      "metadata": {
        "id": "eAD3-X-3oWlL"
      }
    },
    {
      "cell_type": "code",
      "source": [
        "!gdown 1FYaj-YQn7WADkCflz8-4Q89G9Aj8XxOi"
      ],
      "metadata": {
        "colab": {
          "base_uri": "https://localhost:8080/"
        },
        "id": "beYiDgqDg_fE",
        "outputId": "ac87d18a-4b0d-4516-c615-365bb246423a"
      },
      "execution_count": 2,
      "outputs": [
        {
          "output_type": "stream",
          "name": "stdout",
          "text": [
            "Downloading...\n",
            "From: https://drive.google.com/uc?id=1FYaj-YQn7WADkCflz8-4Q89G9Aj8XxOi\n",
            "To: /content/schedule_dataset.xlsx\n",
            "\r  0% 0.00/8.31M [00:00<?, ?B/s]\r100% 8.31M/8.31M [00:00<00:00, 131MB/s]\n"
          ]
        }
      ]
    },
    {
      "cell_type": "markdown",
      "source": [],
      "metadata": {
        "id": "o6uIrAGRoUpn"
      }
    },
    {
      "cell_type": "code",
      "source": [
        "df = pd.read_excel('/content/schedule_dataset.xlsx')"
      ],
      "metadata": {
        "id": "Tj88JREKLT0z"
      },
      "execution_count": 3,
      "outputs": []
    },
    {
      "cell_type": "code",
      "source": [
        "df.head()"
      ],
      "metadata": {
        "colab": {
          "base_uri": "https://localhost:8080/",
          "height": 365
        },
        "id": "SZCXf3YoLX6a",
        "outputId": "52772d8e-7d07-4e75-8ed0-167f6775ab2d"
      },
      "execution_count": 4,
      "outputs": [
        {
          "output_type": "execute_result",
          "data": {
            "text/plain": [
              "  Дата рейса  Рейс А/П отправл А/П прибыт  Номер ВС  \\\n",
              "0 2018-03-01     1         MOW        ARH         1   \n",
              "1 2018-03-01     2         MOW        EGO         2   \n",
              "2 2018-03-01     3         MOW        AKX         3   \n",
              "3 2018-03-01     4         LED        MOW         4   \n",
              "4 2018-03-01     5         MOW        KRR         5   \n",
              "\n",
              "  Время отправления по расписанию Время отправления фактическое  \\\n",
              "0             2018-03-01 00:05:00           2018-02-28 23:48:00   \n",
              "1             2018-03-01 00:05:00           2018-03-01 00:00:00   \n",
              "2             2018-03-01 00:15:00           2018-03-01 00:14:00   \n",
              "3             2018-03-01 00:20:00           2018-03-01 00:11:00   \n",
              "4             2018-03-01 00:25:00           2018-03-01 00:21:00   \n",
              "\n",
              "  Время прибытия по расписанию Время прибытия фактическое  \n",
              "0          2018-03-01 02:00:00        2018-03-01 01:48:00  \n",
              "1          2018-03-01 01:30:00        2018-03-01 01:55:00  \n",
              "2          2018-03-01 02:40:00        2018-03-01 02:32:00  \n",
              "3          2018-03-01 01:35:00        2018-03-01 01:39:00  \n",
              "4          2018-03-01 02:40:00        2018-03-01 02:41:00  "
            ],
            "text/html": [
              "\n",
              "  <div id=\"df-d4e7f553-55c5-47e6-97dd-4ea4bf7d9877\" class=\"colab-df-container\">\n",
              "    <div>\n",
              "<style scoped>\n",
              "    .dataframe tbody tr th:only-of-type {\n",
              "        vertical-align: middle;\n",
              "    }\n",
              "\n",
              "    .dataframe tbody tr th {\n",
              "        vertical-align: top;\n",
              "    }\n",
              "\n",
              "    .dataframe thead th {\n",
              "        text-align: right;\n",
              "    }\n",
              "</style>\n",
              "<table border=\"1\" class=\"dataframe\">\n",
              "  <thead>\n",
              "    <tr style=\"text-align: right;\">\n",
              "      <th></th>\n",
              "      <th>Дата рейса</th>\n",
              "      <th>Рейс</th>\n",
              "      <th>А/П отправл</th>\n",
              "      <th>А/П прибыт</th>\n",
              "      <th>Номер ВС</th>\n",
              "      <th>Время отправления по расписанию</th>\n",
              "      <th>Время отправления фактическое</th>\n",
              "      <th>Время прибытия по расписанию</th>\n",
              "      <th>Время прибытия фактическое</th>\n",
              "    </tr>\n",
              "  </thead>\n",
              "  <tbody>\n",
              "    <tr>\n",
              "      <th>0</th>\n",
              "      <td>2018-03-01</td>\n",
              "      <td>1</td>\n",
              "      <td>MOW</td>\n",
              "      <td>ARH</td>\n",
              "      <td>1</td>\n",
              "      <td>2018-03-01 00:05:00</td>\n",
              "      <td>2018-02-28 23:48:00</td>\n",
              "      <td>2018-03-01 02:00:00</td>\n",
              "      <td>2018-03-01 01:48:00</td>\n",
              "    </tr>\n",
              "    <tr>\n",
              "      <th>1</th>\n",
              "      <td>2018-03-01</td>\n",
              "      <td>2</td>\n",
              "      <td>MOW</td>\n",
              "      <td>EGO</td>\n",
              "      <td>2</td>\n",
              "      <td>2018-03-01 00:05:00</td>\n",
              "      <td>2018-03-01 00:00:00</td>\n",
              "      <td>2018-03-01 01:30:00</td>\n",
              "      <td>2018-03-01 01:55:00</td>\n",
              "    </tr>\n",
              "    <tr>\n",
              "      <th>2</th>\n",
              "      <td>2018-03-01</td>\n",
              "      <td>3</td>\n",
              "      <td>MOW</td>\n",
              "      <td>AKX</td>\n",
              "      <td>3</td>\n",
              "      <td>2018-03-01 00:15:00</td>\n",
              "      <td>2018-03-01 00:14:00</td>\n",
              "      <td>2018-03-01 02:40:00</td>\n",
              "      <td>2018-03-01 02:32:00</td>\n",
              "    </tr>\n",
              "    <tr>\n",
              "      <th>3</th>\n",
              "      <td>2018-03-01</td>\n",
              "      <td>4</td>\n",
              "      <td>LED</td>\n",
              "      <td>MOW</td>\n",
              "      <td>4</td>\n",
              "      <td>2018-03-01 00:20:00</td>\n",
              "      <td>2018-03-01 00:11:00</td>\n",
              "      <td>2018-03-01 01:35:00</td>\n",
              "      <td>2018-03-01 01:39:00</td>\n",
              "    </tr>\n",
              "    <tr>\n",
              "      <th>4</th>\n",
              "      <td>2018-03-01</td>\n",
              "      <td>5</td>\n",
              "      <td>MOW</td>\n",
              "      <td>KRR</td>\n",
              "      <td>5</td>\n",
              "      <td>2018-03-01 00:25:00</td>\n",
              "      <td>2018-03-01 00:21:00</td>\n",
              "      <td>2018-03-01 02:40:00</td>\n",
              "      <td>2018-03-01 02:41:00</td>\n",
              "    </tr>\n",
              "  </tbody>\n",
              "</table>\n",
              "</div>\n",
              "    <div class=\"colab-df-buttons\">\n",
              "\n",
              "  <div class=\"colab-df-container\">\n",
              "    <button class=\"colab-df-convert\" onclick=\"convertToInteractive('df-d4e7f553-55c5-47e6-97dd-4ea4bf7d9877')\"\n",
              "            title=\"Convert this dataframe to an interactive table.\"\n",
              "            style=\"display:none;\">\n",
              "\n",
              "  <svg xmlns=\"http://www.w3.org/2000/svg\" height=\"24px\" viewBox=\"0 -960 960 960\">\n",
              "    <path d=\"M120-120v-720h720v720H120Zm60-500h600v-160H180v160Zm220 220h160v-160H400v160Zm0 220h160v-160H400v160ZM180-400h160v-160H180v160Zm440 0h160v-160H620v160ZM180-180h160v-160H180v160Zm440 0h160v-160H620v160Z\"/>\n",
              "  </svg>\n",
              "    </button>\n",
              "\n",
              "  <style>\n",
              "    .colab-df-container {\n",
              "      display:flex;\n",
              "      gap: 12px;\n",
              "    }\n",
              "\n",
              "    .colab-df-convert {\n",
              "      background-color: #E8F0FE;\n",
              "      border: none;\n",
              "      border-radius: 50%;\n",
              "      cursor: pointer;\n",
              "      display: none;\n",
              "      fill: #1967D2;\n",
              "      height: 32px;\n",
              "      padding: 0 0 0 0;\n",
              "      width: 32px;\n",
              "    }\n",
              "\n",
              "    .colab-df-convert:hover {\n",
              "      background-color: #E2EBFA;\n",
              "      box-shadow: 0px 1px 2px rgba(60, 64, 67, 0.3), 0px 1px 3px 1px rgba(60, 64, 67, 0.15);\n",
              "      fill: #174EA6;\n",
              "    }\n",
              "\n",
              "    .colab-df-buttons div {\n",
              "      margin-bottom: 4px;\n",
              "    }\n",
              "\n",
              "    [theme=dark] .colab-df-convert {\n",
              "      background-color: #3B4455;\n",
              "      fill: #D2E3FC;\n",
              "    }\n",
              "\n",
              "    [theme=dark] .colab-df-convert:hover {\n",
              "      background-color: #434B5C;\n",
              "      box-shadow: 0px 1px 3px 1px rgba(0, 0, 0, 0.15);\n",
              "      filter: drop-shadow(0px 1px 2px rgba(0, 0, 0, 0.3));\n",
              "      fill: #FFFFFF;\n",
              "    }\n",
              "  </style>\n",
              "\n",
              "    <script>\n",
              "      const buttonEl =\n",
              "        document.querySelector('#df-d4e7f553-55c5-47e6-97dd-4ea4bf7d9877 button.colab-df-convert');\n",
              "      buttonEl.style.display =\n",
              "        google.colab.kernel.accessAllowed ? 'block' : 'none';\n",
              "\n",
              "      async function convertToInteractive(key) {\n",
              "        const element = document.querySelector('#df-d4e7f553-55c5-47e6-97dd-4ea4bf7d9877');\n",
              "        const dataTable =\n",
              "          await google.colab.kernel.invokeFunction('convertToInteractive',\n",
              "                                                    [key], {});\n",
              "        if (!dataTable) return;\n",
              "\n",
              "        const docLinkHtml = 'Like what you see? Visit the ' +\n",
              "          '<a target=\"_blank\" href=https://colab.research.google.com/notebooks/data_table.ipynb>data table notebook</a>'\n",
              "          + ' to learn more about interactive tables.';\n",
              "        element.innerHTML = '';\n",
              "        dataTable['output_type'] = 'display_data';\n",
              "        await google.colab.output.renderOutput(dataTable, element);\n",
              "        const docLink = document.createElement('div');\n",
              "        docLink.innerHTML = docLinkHtml;\n",
              "        element.appendChild(docLink);\n",
              "      }\n",
              "    </script>\n",
              "  </div>\n",
              "\n",
              "\n",
              "<div id=\"df-c9ba6aaa-0224-4a20-bbc6-2afc8fd65689\">\n",
              "  <button class=\"colab-df-quickchart\" onclick=\"quickchart('df-c9ba6aaa-0224-4a20-bbc6-2afc8fd65689')\"\n",
              "            title=\"Suggest charts\"\n",
              "            style=\"display:none;\">\n",
              "\n",
              "<svg xmlns=\"http://www.w3.org/2000/svg\" height=\"24px\"viewBox=\"0 0 24 24\"\n",
              "     width=\"24px\">\n",
              "    <g>\n",
              "        <path d=\"M19 3H5c-1.1 0-2 .9-2 2v14c0 1.1.9 2 2 2h14c1.1 0 2-.9 2-2V5c0-1.1-.9-2-2-2zM9 17H7v-7h2v7zm4 0h-2V7h2v10zm4 0h-2v-4h2v4z\"/>\n",
              "    </g>\n",
              "</svg>\n",
              "  </button>\n",
              "\n",
              "<style>\n",
              "  .colab-df-quickchart {\n",
              "      --bg-color: #E8F0FE;\n",
              "      --fill-color: #1967D2;\n",
              "      --hover-bg-color: #E2EBFA;\n",
              "      --hover-fill-color: #174EA6;\n",
              "      --disabled-fill-color: #AAA;\n",
              "      --disabled-bg-color: #DDD;\n",
              "  }\n",
              "\n",
              "  [theme=dark] .colab-df-quickchart {\n",
              "      --bg-color: #3B4455;\n",
              "      --fill-color: #D2E3FC;\n",
              "      --hover-bg-color: #434B5C;\n",
              "      --hover-fill-color: #FFFFFF;\n",
              "      --disabled-bg-color: #3B4455;\n",
              "      --disabled-fill-color: #666;\n",
              "  }\n",
              "\n",
              "  .colab-df-quickchart {\n",
              "    background-color: var(--bg-color);\n",
              "    border: none;\n",
              "    border-radius: 50%;\n",
              "    cursor: pointer;\n",
              "    display: none;\n",
              "    fill: var(--fill-color);\n",
              "    height: 32px;\n",
              "    padding: 0;\n",
              "    width: 32px;\n",
              "  }\n",
              "\n",
              "  .colab-df-quickchart:hover {\n",
              "    background-color: var(--hover-bg-color);\n",
              "    box-shadow: 0 1px 2px rgba(60, 64, 67, 0.3), 0 1px 3px 1px rgba(60, 64, 67, 0.15);\n",
              "    fill: var(--button-hover-fill-color);\n",
              "  }\n",
              "\n",
              "  .colab-df-quickchart-complete:disabled,\n",
              "  .colab-df-quickchart-complete:disabled:hover {\n",
              "    background-color: var(--disabled-bg-color);\n",
              "    fill: var(--disabled-fill-color);\n",
              "    box-shadow: none;\n",
              "  }\n",
              "\n",
              "  .colab-df-spinner {\n",
              "    border: 2px solid var(--fill-color);\n",
              "    border-color: transparent;\n",
              "    border-bottom-color: var(--fill-color);\n",
              "    animation:\n",
              "      spin 1s steps(1) infinite;\n",
              "  }\n",
              "\n",
              "  @keyframes spin {\n",
              "    0% {\n",
              "      border-color: transparent;\n",
              "      border-bottom-color: var(--fill-color);\n",
              "      border-left-color: var(--fill-color);\n",
              "    }\n",
              "    20% {\n",
              "      border-color: transparent;\n",
              "      border-left-color: var(--fill-color);\n",
              "      border-top-color: var(--fill-color);\n",
              "    }\n",
              "    30% {\n",
              "      border-color: transparent;\n",
              "      border-left-color: var(--fill-color);\n",
              "      border-top-color: var(--fill-color);\n",
              "      border-right-color: var(--fill-color);\n",
              "    }\n",
              "    40% {\n",
              "      border-color: transparent;\n",
              "      border-right-color: var(--fill-color);\n",
              "      border-top-color: var(--fill-color);\n",
              "    }\n",
              "    60% {\n",
              "      border-color: transparent;\n",
              "      border-right-color: var(--fill-color);\n",
              "    }\n",
              "    80% {\n",
              "      border-color: transparent;\n",
              "      border-right-color: var(--fill-color);\n",
              "      border-bottom-color: var(--fill-color);\n",
              "    }\n",
              "    90% {\n",
              "      border-color: transparent;\n",
              "      border-bottom-color: var(--fill-color);\n",
              "    }\n",
              "  }\n",
              "</style>\n",
              "\n",
              "  <script>\n",
              "    async function quickchart(key) {\n",
              "      const quickchartButtonEl =\n",
              "        document.querySelector('#' + key + ' button');\n",
              "      quickchartButtonEl.disabled = true;  // To prevent multiple clicks.\n",
              "      quickchartButtonEl.classList.add('colab-df-spinner');\n",
              "      try {\n",
              "        const charts = await google.colab.kernel.invokeFunction(\n",
              "            'suggestCharts', [key], {});\n",
              "      } catch (error) {\n",
              "        console.error('Error during call to suggestCharts:', error);\n",
              "      }\n",
              "      quickchartButtonEl.classList.remove('colab-df-spinner');\n",
              "      quickchartButtonEl.classList.add('colab-df-quickchart-complete');\n",
              "    }\n",
              "    (() => {\n",
              "      let quickchartButtonEl =\n",
              "        document.querySelector('#df-c9ba6aaa-0224-4a20-bbc6-2afc8fd65689 button');\n",
              "      quickchartButtonEl.style.display =\n",
              "        google.colab.kernel.accessAllowed ? 'block' : 'none';\n",
              "    })();\n",
              "  </script>\n",
              "</div>\n",
              "    </div>\n",
              "  </div>\n"
            ],
            "application/vnd.google.colaboratory.intrinsic+json": {
              "type": "dataframe",
              "variable_name": "df"
            }
          },
          "metadata": {},
          "execution_count": 4
        }
      ]
    },
    {
      "cell_type": "markdown",
      "source": [
        "# 3. Data preprocessing"
      ],
      "metadata": {
        "id": "Bl477j8yof5u"
      }
    },
    {
      "cell_type": "code",
      "source": [
        "df.columns"
      ],
      "metadata": {
        "colab": {
          "base_uri": "https://localhost:8080/"
        },
        "id": "oDi44_AajeoQ",
        "outputId": "259182c3-bdf5-40ac-835f-65c1bbbbacd6"
      },
      "execution_count": 5,
      "outputs": [
        {
          "output_type": "execute_result",
          "data": {
            "text/plain": [
              "Index(['Дата рейса', 'Рейс', 'А/П отправл', 'А/П прибыт', 'Номер ВС',\n",
              "       'Время отправления по расписанию', 'Время отправления фактическое',\n",
              "       'Время прибытия по расписанию', 'Время прибытия фактическое'],\n",
              "      dtype='object')"
            ]
          },
          "metadata": {},
          "execution_count": 5
        }
      ]
    },
    {
      "cell_type": "markdown",
      "source": [
        "Переименуем столбцы"
      ],
      "metadata": {
        "id": "8husnLhumVZz"
      }
    },
    {
      "cell_type": "code",
      "source": [
        "df  = df.rename(columns={'Дата рейса': 'flight_date',\n",
        "                   'Рейс': 'flight',\n",
        "                   'А/П отправл': 'airport_out',\n",
        "                   'А/П прибыт': 'airport_in',\n",
        "                   'Номер ВС': 'air_number',\n",
        "                   'Время отправления по расписанию': 'scheduled_time_out',\n",
        "                   'Время отправления фактическое': 'actual_time_out',\n",
        "                   'Время прибытия по расписанию': 'scheduled_time_in',\n",
        "                   'Время прибытия фактическое': 'actual_time_in'})"
      ],
      "metadata": {
        "id": "gMxGzkLpiwkC"
      },
      "execution_count": 6,
      "outputs": []
    },
    {
      "cell_type": "code",
      "source": [
        "df.head()"
      ],
      "metadata": {
        "colab": {
          "base_uri": "https://localhost:8080/",
          "height": 206
        },
        "id": "0Kp07Hfala1L",
        "outputId": "5530c0a4-9401-4c8c-a904-efb4d595c7cd"
      },
      "execution_count": 7,
      "outputs": [
        {
          "output_type": "execute_result",
          "data": {
            "text/plain": [
              "  flight_date  flight airport_out airport_in  air_number  scheduled_time_out  \\\n",
              "0  2018-03-01       1         MOW        ARH           1 2018-03-01 00:05:00   \n",
              "1  2018-03-01       2         MOW        EGO           2 2018-03-01 00:05:00   \n",
              "2  2018-03-01       3         MOW        AKX           3 2018-03-01 00:15:00   \n",
              "3  2018-03-01       4         LED        MOW           4 2018-03-01 00:20:00   \n",
              "4  2018-03-01       5         MOW        KRR           5 2018-03-01 00:25:00   \n",
              "\n",
              "      actual_time_out   scheduled_time_in      actual_time_in  \n",
              "0 2018-02-28 23:48:00 2018-03-01 02:00:00 2018-03-01 01:48:00  \n",
              "1 2018-03-01 00:00:00 2018-03-01 01:30:00 2018-03-01 01:55:00  \n",
              "2 2018-03-01 00:14:00 2018-03-01 02:40:00 2018-03-01 02:32:00  \n",
              "3 2018-03-01 00:11:00 2018-03-01 01:35:00 2018-03-01 01:39:00  \n",
              "4 2018-03-01 00:21:00 2018-03-01 02:40:00 2018-03-01 02:41:00  "
            ],
            "text/html": [
              "\n",
              "  <div id=\"df-72a5271c-baae-4aa3-8614-3475aa130613\" class=\"colab-df-container\">\n",
              "    <div>\n",
              "<style scoped>\n",
              "    .dataframe tbody tr th:only-of-type {\n",
              "        vertical-align: middle;\n",
              "    }\n",
              "\n",
              "    .dataframe tbody tr th {\n",
              "        vertical-align: top;\n",
              "    }\n",
              "\n",
              "    .dataframe thead th {\n",
              "        text-align: right;\n",
              "    }\n",
              "</style>\n",
              "<table border=\"1\" class=\"dataframe\">\n",
              "  <thead>\n",
              "    <tr style=\"text-align: right;\">\n",
              "      <th></th>\n",
              "      <th>flight_date</th>\n",
              "      <th>flight</th>\n",
              "      <th>airport_out</th>\n",
              "      <th>airport_in</th>\n",
              "      <th>air_number</th>\n",
              "      <th>scheduled_time_out</th>\n",
              "      <th>actual_time_out</th>\n",
              "      <th>scheduled_time_in</th>\n",
              "      <th>actual_time_in</th>\n",
              "    </tr>\n",
              "  </thead>\n",
              "  <tbody>\n",
              "    <tr>\n",
              "      <th>0</th>\n",
              "      <td>2018-03-01</td>\n",
              "      <td>1</td>\n",
              "      <td>MOW</td>\n",
              "      <td>ARH</td>\n",
              "      <td>1</td>\n",
              "      <td>2018-03-01 00:05:00</td>\n",
              "      <td>2018-02-28 23:48:00</td>\n",
              "      <td>2018-03-01 02:00:00</td>\n",
              "      <td>2018-03-01 01:48:00</td>\n",
              "    </tr>\n",
              "    <tr>\n",
              "      <th>1</th>\n",
              "      <td>2018-03-01</td>\n",
              "      <td>2</td>\n",
              "      <td>MOW</td>\n",
              "      <td>EGO</td>\n",
              "      <td>2</td>\n",
              "      <td>2018-03-01 00:05:00</td>\n",
              "      <td>2018-03-01 00:00:00</td>\n",
              "      <td>2018-03-01 01:30:00</td>\n",
              "      <td>2018-03-01 01:55:00</td>\n",
              "    </tr>\n",
              "    <tr>\n",
              "      <th>2</th>\n",
              "      <td>2018-03-01</td>\n",
              "      <td>3</td>\n",
              "      <td>MOW</td>\n",
              "      <td>AKX</td>\n",
              "      <td>3</td>\n",
              "      <td>2018-03-01 00:15:00</td>\n",
              "      <td>2018-03-01 00:14:00</td>\n",
              "      <td>2018-03-01 02:40:00</td>\n",
              "      <td>2018-03-01 02:32:00</td>\n",
              "    </tr>\n",
              "    <tr>\n",
              "      <th>3</th>\n",
              "      <td>2018-03-01</td>\n",
              "      <td>4</td>\n",
              "      <td>LED</td>\n",
              "      <td>MOW</td>\n",
              "      <td>4</td>\n",
              "      <td>2018-03-01 00:20:00</td>\n",
              "      <td>2018-03-01 00:11:00</td>\n",
              "      <td>2018-03-01 01:35:00</td>\n",
              "      <td>2018-03-01 01:39:00</td>\n",
              "    </tr>\n",
              "    <tr>\n",
              "      <th>4</th>\n",
              "      <td>2018-03-01</td>\n",
              "      <td>5</td>\n",
              "      <td>MOW</td>\n",
              "      <td>KRR</td>\n",
              "      <td>5</td>\n",
              "      <td>2018-03-01 00:25:00</td>\n",
              "      <td>2018-03-01 00:21:00</td>\n",
              "      <td>2018-03-01 02:40:00</td>\n",
              "      <td>2018-03-01 02:41:00</td>\n",
              "    </tr>\n",
              "  </tbody>\n",
              "</table>\n",
              "</div>\n",
              "    <div class=\"colab-df-buttons\">\n",
              "\n",
              "  <div class=\"colab-df-container\">\n",
              "    <button class=\"colab-df-convert\" onclick=\"convertToInteractive('df-72a5271c-baae-4aa3-8614-3475aa130613')\"\n",
              "            title=\"Convert this dataframe to an interactive table.\"\n",
              "            style=\"display:none;\">\n",
              "\n",
              "  <svg xmlns=\"http://www.w3.org/2000/svg\" height=\"24px\" viewBox=\"0 -960 960 960\">\n",
              "    <path d=\"M120-120v-720h720v720H120Zm60-500h600v-160H180v160Zm220 220h160v-160H400v160Zm0 220h160v-160H400v160ZM180-400h160v-160H180v160Zm440 0h160v-160H620v160ZM180-180h160v-160H180v160Zm440 0h160v-160H620v160Z\"/>\n",
              "  </svg>\n",
              "    </button>\n",
              "\n",
              "  <style>\n",
              "    .colab-df-container {\n",
              "      display:flex;\n",
              "      gap: 12px;\n",
              "    }\n",
              "\n",
              "    .colab-df-convert {\n",
              "      background-color: #E8F0FE;\n",
              "      border: none;\n",
              "      border-radius: 50%;\n",
              "      cursor: pointer;\n",
              "      display: none;\n",
              "      fill: #1967D2;\n",
              "      height: 32px;\n",
              "      padding: 0 0 0 0;\n",
              "      width: 32px;\n",
              "    }\n",
              "\n",
              "    .colab-df-convert:hover {\n",
              "      background-color: #E2EBFA;\n",
              "      box-shadow: 0px 1px 2px rgba(60, 64, 67, 0.3), 0px 1px 3px 1px rgba(60, 64, 67, 0.15);\n",
              "      fill: #174EA6;\n",
              "    }\n",
              "\n",
              "    .colab-df-buttons div {\n",
              "      margin-bottom: 4px;\n",
              "    }\n",
              "\n",
              "    [theme=dark] .colab-df-convert {\n",
              "      background-color: #3B4455;\n",
              "      fill: #D2E3FC;\n",
              "    }\n",
              "\n",
              "    [theme=dark] .colab-df-convert:hover {\n",
              "      background-color: #434B5C;\n",
              "      box-shadow: 0px 1px 3px 1px rgba(0, 0, 0, 0.15);\n",
              "      filter: drop-shadow(0px 1px 2px rgba(0, 0, 0, 0.3));\n",
              "      fill: #FFFFFF;\n",
              "    }\n",
              "  </style>\n",
              "\n",
              "    <script>\n",
              "      const buttonEl =\n",
              "        document.querySelector('#df-72a5271c-baae-4aa3-8614-3475aa130613 button.colab-df-convert');\n",
              "      buttonEl.style.display =\n",
              "        google.colab.kernel.accessAllowed ? 'block' : 'none';\n",
              "\n",
              "      async function convertToInteractive(key) {\n",
              "        const element = document.querySelector('#df-72a5271c-baae-4aa3-8614-3475aa130613');\n",
              "        const dataTable =\n",
              "          await google.colab.kernel.invokeFunction('convertToInteractive',\n",
              "                                                    [key], {});\n",
              "        if (!dataTable) return;\n",
              "\n",
              "        const docLinkHtml = 'Like what you see? Visit the ' +\n",
              "          '<a target=\"_blank\" href=https://colab.research.google.com/notebooks/data_table.ipynb>data table notebook</a>'\n",
              "          + ' to learn more about interactive tables.';\n",
              "        element.innerHTML = '';\n",
              "        dataTable['output_type'] = 'display_data';\n",
              "        await google.colab.output.renderOutput(dataTable, element);\n",
              "        const docLink = document.createElement('div');\n",
              "        docLink.innerHTML = docLinkHtml;\n",
              "        element.appendChild(docLink);\n",
              "      }\n",
              "    </script>\n",
              "  </div>\n",
              "\n",
              "\n",
              "<div id=\"df-66df0241-b8ba-411f-a112-cc45674e419e\">\n",
              "  <button class=\"colab-df-quickchart\" onclick=\"quickchart('df-66df0241-b8ba-411f-a112-cc45674e419e')\"\n",
              "            title=\"Suggest charts\"\n",
              "            style=\"display:none;\">\n",
              "\n",
              "<svg xmlns=\"http://www.w3.org/2000/svg\" height=\"24px\"viewBox=\"0 0 24 24\"\n",
              "     width=\"24px\">\n",
              "    <g>\n",
              "        <path d=\"M19 3H5c-1.1 0-2 .9-2 2v14c0 1.1.9 2 2 2h14c1.1 0 2-.9 2-2V5c0-1.1-.9-2-2-2zM9 17H7v-7h2v7zm4 0h-2V7h2v10zm4 0h-2v-4h2v4z\"/>\n",
              "    </g>\n",
              "</svg>\n",
              "  </button>\n",
              "\n",
              "<style>\n",
              "  .colab-df-quickchart {\n",
              "      --bg-color: #E8F0FE;\n",
              "      --fill-color: #1967D2;\n",
              "      --hover-bg-color: #E2EBFA;\n",
              "      --hover-fill-color: #174EA6;\n",
              "      --disabled-fill-color: #AAA;\n",
              "      --disabled-bg-color: #DDD;\n",
              "  }\n",
              "\n",
              "  [theme=dark] .colab-df-quickchart {\n",
              "      --bg-color: #3B4455;\n",
              "      --fill-color: #D2E3FC;\n",
              "      --hover-bg-color: #434B5C;\n",
              "      --hover-fill-color: #FFFFFF;\n",
              "      --disabled-bg-color: #3B4455;\n",
              "      --disabled-fill-color: #666;\n",
              "  }\n",
              "\n",
              "  .colab-df-quickchart {\n",
              "    background-color: var(--bg-color);\n",
              "    border: none;\n",
              "    border-radius: 50%;\n",
              "    cursor: pointer;\n",
              "    display: none;\n",
              "    fill: var(--fill-color);\n",
              "    height: 32px;\n",
              "    padding: 0;\n",
              "    width: 32px;\n",
              "  }\n",
              "\n",
              "  .colab-df-quickchart:hover {\n",
              "    background-color: var(--hover-bg-color);\n",
              "    box-shadow: 0 1px 2px rgba(60, 64, 67, 0.3), 0 1px 3px 1px rgba(60, 64, 67, 0.15);\n",
              "    fill: var(--button-hover-fill-color);\n",
              "  }\n",
              "\n",
              "  .colab-df-quickchart-complete:disabled,\n",
              "  .colab-df-quickchart-complete:disabled:hover {\n",
              "    background-color: var(--disabled-bg-color);\n",
              "    fill: var(--disabled-fill-color);\n",
              "    box-shadow: none;\n",
              "  }\n",
              "\n",
              "  .colab-df-spinner {\n",
              "    border: 2px solid var(--fill-color);\n",
              "    border-color: transparent;\n",
              "    border-bottom-color: var(--fill-color);\n",
              "    animation:\n",
              "      spin 1s steps(1) infinite;\n",
              "  }\n",
              "\n",
              "  @keyframes spin {\n",
              "    0% {\n",
              "      border-color: transparent;\n",
              "      border-bottom-color: var(--fill-color);\n",
              "      border-left-color: var(--fill-color);\n",
              "    }\n",
              "    20% {\n",
              "      border-color: transparent;\n",
              "      border-left-color: var(--fill-color);\n",
              "      border-top-color: var(--fill-color);\n",
              "    }\n",
              "    30% {\n",
              "      border-color: transparent;\n",
              "      border-left-color: var(--fill-color);\n",
              "      border-top-color: var(--fill-color);\n",
              "      border-right-color: var(--fill-color);\n",
              "    }\n",
              "    40% {\n",
              "      border-color: transparent;\n",
              "      border-right-color: var(--fill-color);\n",
              "      border-top-color: var(--fill-color);\n",
              "    }\n",
              "    60% {\n",
              "      border-color: transparent;\n",
              "      border-right-color: var(--fill-color);\n",
              "    }\n",
              "    80% {\n",
              "      border-color: transparent;\n",
              "      border-right-color: var(--fill-color);\n",
              "      border-bottom-color: var(--fill-color);\n",
              "    }\n",
              "    90% {\n",
              "      border-color: transparent;\n",
              "      border-bottom-color: var(--fill-color);\n",
              "    }\n",
              "  }\n",
              "</style>\n",
              "\n",
              "  <script>\n",
              "    async function quickchart(key) {\n",
              "      const quickchartButtonEl =\n",
              "        document.querySelector('#' + key + ' button');\n",
              "      quickchartButtonEl.disabled = true;  // To prevent multiple clicks.\n",
              "      quickchartButtonEl.classList.add('colab-df-spinner');\n",
              "      try {\n",
              "        const charts = await google.colab.kernel.invokeFunction(\n",
              "            'suggestCharts', [key], {});\n",
              "      } catch (error) {\n",
              "        console.error('Error during call to suggestCharts:', error);\n",
              "      }\n",
              "      quickchartButtonEl.classList.remove('colab-df-spinner');\n",
              "      quickchartButtonEl.classList.add('colab-df-quickchart-complete');\n",
              "    }\n",
              "    (() => {\n",
              "      let quickchartButtonEl =\n",
              "        document.querySelector('#df-66df0241-b8ba-411f-a112-cc45674e419e button');\n",
              "      quickchartButtonEl.style.display =\n",
              "        google.colab.kernel.accessAllowed ? 'block' : 'none';\n",
              "    })();\n",
              "  </script>\n",
              "</div>\n",
              "    </div>\n",
              "  </div>\n"
            ],
            "application/vnd.google.colaboratory.intrinsic+json": {
              "type": "dataframe",
              "variable_name": "df"
            }
          },
          "metadata": {},
          "execution_count": 7
        }
      ]
    },
    {
      "cell_type": "markdown",
      "source": [
        "Проверка на пустые строки"
      ],
      "metadata": {
        "id": "3wzirGinmSKg"
      }
    },
    {
      "cell_type": "code",
      "source": [
        "df.isna().values.any()"
      ],
      "metadata": {
        "colab": {
          "base_uri": "https://localhost:8080/"
        },
        "id": "f7sCSGHLmEXu",
        "outputId": "87601647-2ff8-4b3e-aa52-937b72a41179"
      },
      "execution_count": 8,
      "outputs": [
        {
          "output_type": "execute_result",
          "data": {
            "text/plain": [
              "False"
            ]
          },
          "metadata": {},
          "execution_count": 8
        }
      ]
    },
    {
      "cell_type": "markdown",
      "source": [
        "Рассчитаем задержку взлёта и посадки, а также ожидаемое и фактическое время полёта"
      ],
      "metadata": {
        "id": "4U3KIItTn_pk"
      }
    },
    {
      "cell_type": "code",
      "source": [
        "df['scheduled_time_sec'] = df.apply(lambda x: (x['scheduled_time_in'] - x['scheduled_time_out']).total_seconds(), axis=1)\n",
        "#df['scheduled_time_sec'] = df.apply(lambda x: x['scheduled_time'].total_seconds(), axis=1)\n",
        "df['actual_time_sec'] = df.apply(lambda x: (x['actual_time_in'] - x['actual_time_out']).total_seconds(), axis=1)\n",
        "#df['actual_time_sec'] = df.apply(lambda x: x['actual_time'].total_seconds(), axis=1)\n",
        "df['delay_out_sec'] = df.apply(lambda x: (x['actual_time_out'] - x['scheduled_time_out']).total_seconds(), axis=1)\n",
        "df['delay_in_sec'] = df.apply(lambda x: (x['actual_time_in'] - x['scheduled_time_in'] ).total_seconds() , axis=1)\n",
        "\n",
        "\n"
      ],
      "metadata": {
        "id": "mt2YEoYOmqwR"
      },
      "execution_count": 9,
      "outputs": []
    },
    {
      "cell_type": "markdown",
      "source": [
        "Извлечем день и месяц полёта в отдельные признаки"
      ],
      "metadata": {
        "id": "rizNmf4S--1r"
      }
    },
    {
      "cell_type": "code",
      "source": [
        "df['flight_month'] = df.apply(lambda x: x['flight_date'].month, axis=1)\n",
        "df['flight_day'] = df.apply(lambda x: x['flight_date'].day, axis=1)\n",
        "df['day_of_the_week'] = df.apply(lambda x: x['flight_date'].day_name(), axis=1)"
      ],
      "metadata": {
        "id": "QkWjmhRt_Dct"
      },
      "execution_count": 10,
      "outputs": []
    },
    {
      "cell_type": "markdown",
      "source": [
        "Извлечем время взлёта\\посадки в отдельный категориальный признак"
      ],
      "metadata": {
        "id": "3kHkhwmX0Xq5"
      }
    },
    {
      "cell_type": "code",
      "source": [
        "df['time_part_out'] = df.apply(lambda x: (x['scheduled_time_out'].hour) // 3, axis=1)\n",
        "df['time_part_in'] = df.apply(lambda x: (x['scheduled_time_in'].hour) // 3, axis=1)"
      ],
      "metadata": {
        "id": "zt1ym1Qr0lVn"
      },
      "execution_count": 11,
      "outputs": []
    },
    {
      "cell_type": "code",
      "source": [
        "df.info()"
      ],
      "metadata": {
        "colab": {
          "base_uri": "https://localhost:8080/"
        },
        "id": "9AOmDUETwq0N",
        "outputId": "e3bcb550-d57c-4ce1-b73a-2d8fb974181e"
      },
      "execution_count": 12,
      "outputs": [
        {
          "output_type": "stream",
          "name": "stdout",
          "text": [
            "<class 'pandas.core.frame.DataFrame'>\n",
            "RangeIndex: 139732 entries, 0 to 139731\n",
            "Data columns (total 18 columns):\n",
            " #   Column              Non-Null Count   Dtype         \n",
            "---  ------              --------------   -----         \n",
            " 0   flight_date         139732 non-null  datetime64[ns]\n",
            " 1   flight              139732 non-null  int64         \n",
            " 2   airport_out         139732 non-null  object        \n",
            " 3   airport_in          139732 non-null  object        \n",
            " 4   air_number          139732 non-null  int64         \n",
            " 5   scheduled_time_out  139732 non-null  datetime64[ns]\n",
            " 6   actual_time_out     139732 non-null  datetime64[ns]\n",
            " 7   scheduled_time_in   139732 non-null  datetime64[ns]\n",
            " 8   actual_time_in      139732 non-null  datetime64[ns]\n",
            " 9   scheduled_time_sec  139732 non-null  float64       \n",
            " 10  actual_time_sec     139732 non-null  float64       \n",
            " 11  delay_out_sec       139732 non-null  float64       \n",
            " 12  delay_in_sec        139732 non-null  float64       \n",
            " 13  flight_month        139732 non-null  int64         \n",
            " 14  flight_day          139732 non-null  int64         \n",
            " 15  day_of_the_week     139732 non-null  object        \n",
            " 16  time_part_out       139732 non-null  int64         \n",
            " 17  time_part_in        139732 non-null  int64         \n",
            "dtypes: datetime64[ns](5), float64(4), int64(6), object(3)\n",
            "memory usage: 19.2+ MB\n"
          ]
        }
      ]
    },
    {
      "cell_type": "markdown",
      "source": [
        "Преобразование номера ВС к типу object, т.к. это категориальный признак и в дальнейшем будет преобразован с помощью endcoder"
      ],
      "metadata": {
        "id": "V4O4kMNoYOBa"
      }
    },
    {
      "cell_type": "code",
      "source": [
        "df['air_number'] = df['air_number'].astype(object)\n",
        "df['time_part_out'] = df['time_part_out'].astype(object)\n",
        "df['time_part_in'] = df['time_part_in'].astype(object)"
      ],
      "metadata": {
        "id": "XOzoaLygYNPj"
      },
      "execution_count": 13,
      "outputs": []
    },
    {
      "cell_type": "code",
      "source": [
        "df.head()"
      ],
      "metadata": {
        "colab": {
          "base_uri": "https://localhost:8080/",
          "height": 313
        },
        "id": "d36BvEqBnlGu",
        "outputId": "1be8ae4e-4ba9-4e4e-8bc4-e9376345ac4f"
      },
      "execution_count": 14,
      "outputs": [
        {
          "output_type": "execute_result",
          "data": {
            "text/plain": [
              "  flight_date  flight airport_out airport_in air_number  scheduled_time_out  \\\n",
              "0  2018-03-01       1         MOW        ARH          1 2018-03-01 00:05:00   \n",
              "1  2018-03-01       2         MOW        EGO          2 2018-03-01 00:05:00   \n",
              "2  2018-03-01       3         MOW        AKX          3 2018-03-01 00:15:00   \n",
              "3  2018-03-01       4         LED        MOW          4 2018-03-01 00:20:00   \n",
              "4  2018-03-01       5         MOW        KRR          5 2018-03-01 00:25:00   \n",
              "\n",
              "      actual_time_out   scheduled_time_in      actual_time_in  \\\n",
              "0 2018-02-28 23:48:00 2018-03-01 02:00:00 2018-03-01 01:48:00   \n",
              "1 2018-03-01 00:00:00 2018-03-01 01:30:00 2018-03-01 01:55:00   \n",
              "2 2018-03-01 00:14:00 2018-03-01 02:40:00 2018-03-01 02:32:00   \n",
              "3 2018-03-01 00:11:00 2018-03-01 01:35:00 2018-03-01 01:39:00   \n",
              "4 2018-03-01 00:21:00 2018-03-01 02:40:00 2018-03-01 02:41:00   \n",
              "\n",
              "   scheduled_time_sec  actual_time_sec  delay_out_sec  delay_in_sec  \\\n",
              "0              6900.0           7200.0        -1020.0        -720.0   \n",
              "1              5100.0           6900.0         -300.0        1500.0   \n",
              "2              8700.0           8280.0          -60.0        -480.0   \n",
              "3              4500.0           5280.0         -540.0         240.0   \n",
              "4              8100.0           8400.0         -240.0          60.0   \n",
              "\n",
              "   flight_month  flight_day day_of_the_week time_part_out time_part_in  \n",
              "0             3           1        Thursday             0            0  \n",
              "1             3           1        Thursday             0            0  \n",
              "2             3           1        Thursday             0            0  \n",
              "3             3           1        Thursday             0            0  \n",
              "4             3           1        Thursday             0            0  "
            ],
            "text/html": [
              "\n",
              "  <div id=\"df-ff3de5ed-1c9e-4af2-ac80-650b5165d952\" class=\"colab-df-container\">\n",
              "    <div>\n",
              "<style scoped>\n",
              "    .dataframe tbody tr th:only-of-type {\n",
              "        vertical-align: middle;\n",
              "    }\n",
              "\n",
              "    .dataframe tbody tr th {\n",
              "        vertical-align: top;\n",
              "    }\n",
              "\n",
              "    .dataframe thead th {\n",
              "        text-align: right;\n",
              "    }\n",
              "</style>\n",
              "<table border=\"1\" class=\"dataframe\">\n",
              "  <thead>\n",
              "    <tr style=\"text-align: right;\">\n",
              "      <th></th>\n",
              "      <th>flight_date</th>\n",
              "      <th>flight</th>\n",
              "      <th>airport_out</th>\n",
              "      <th>airport_in</th>\n",
              "      <th>air_number</th>\n",
              "      <th>scheduled_time_out</th>\n",
              "      <th>actual_time_out</th>\n",
              "      <th>scheduled_time_in</th>\n",
              "      <th>actual_time_in</th>\n",
              "      <th>scheduled_time_sec</th>\n",
              "      <th>actual_time_sec</th>\n",
              "      <th>delay_out_sec</th>\n",
              "      <th>delay_in_sec</th>\n",
              "      <th>flight_month</th>\n",
              "      <th>flight_day</th>\n",
              "      <th>day_of_the_week</th>\n",
              "      <th>time_part_out</th>\n",
              "      <th>time_part_in</th>\n",
              "    </tr>\n",
              "  </thead>\n",
              "  <tbody>\n",
              "    <tr>\n",
              "      <th>0</th>\n",
              "      <td>2018-03-01</td>\n",
              "      <td>1</td>\n",
              "      <td>MOW</td>\n",
              "      <td>ARH</td>\n",
              "      <td>1</td>\n",
              "      <td>2018-03-01 00:05:00</td>\n",
              "      <td>2018-02-28 23:48:00</td>\n",
              "      <td>2018-03-01 02:00:00</td>\n",
              "      <td>2018-03-01 01:48:00</td>\n",
              "      <td>6900.0</td>\n",
              "      <td>7200.0</td>\n",
              "      <td>-1020.0</td>\n",
              "      <td>-720.0</td>\n",
              "      <td>3</td>\n",
              "      <td>1</td>\n",
              "      <td>Thursday</td>\n",
              "      <td>0</td>\n",
              "      <td>0</td>\n",
              "    </tr>\n",
              "    <tr>\n",
              "      <th>1</th>\n",
              "      <td>2018-03-01</td>\n",
              "      <td>2</td>\n",
              "      <td>MOW</td>\n",
              "      <td>EGO</td>\n",
              "      <td>2</td>\n",
              "      <td>2018-03-01 00:05:00</td>\n",
              "      <td>2018-03-01 00:00:00</td>\n",
              "      <td>2018-03-01 01:30:00</td>\n",
              "      <td>2018-03-01 01:55:00</td>\n",
              "      <td>5100.0</td>\n",
              "      <td>6900.0</td>\n",
              "      <td>-300.0</td>\n",
              "      <td>1500.0</td>\n",
              "      <td>3</td>\n",
              "      <td>1</td>\n",
              "      <td>Thursday</td>\n",
              "      <td>0</td>\n",
              "      <td>0</td>\n",
              "    </tr>\n",
              "    <tr>\n",
              "      <th>2</th>\n",
              "      <td>2018-03-01</td>\n",
              "      <td>3</td>\n",
              "      <td>MOW</td>\n",
              "      <td>AKX</td>\n",
              "      <td>3</td>\n",
              "      <td>2018-03-01 00:15:00</td>\n",
              "      <td>2018-03-01 00:14:00</td>\n",
              "      <td>2018-03-01 02:40:00</td>\n",
              "      <td>2018-03-01 02:32:00</td>\n",
              "      <td>8700.0</td>\n",
              "      <td>8280.0</td>\n",
              "      <td>-60.0</td>\n",
              "      <td>-480.0</td>\n",
              "      <td>3</td>\n",
              "      <td>1</td>\n",
              "      <td>Thursday</td>\n",
              "      <td>0</td>\n",
              "      <td>0</td>\n",
              "    </tr>\n",
              "    <tr>\n",
              "      <th>3</th>\n",
              "      <td>2018-03-01</td>\n",
              "      <td>4</td>\n",
              "      <td>LED</td>\n",
              "      <td>MOW</td>\n",
              "      <td>4</td>\n",
              "      <td>2018-03-01 00:20:00</td>\n",
              "      <td>2018-03-01 00:11:00</td>\n",
              "      <td>2018-03-01 01:35:00</td>\n",
              "      <td>2018-03-01 01:39:00</td>\n",
              "      <td>4500.0</td>\n",
              "      <td>5280.0</td>\n",
              "      <td>-540.0</td>\n",
              "      <td>240.0</td>\n",
              "      <td>3</td>\n",
              "      <td>1</td>\n",
              "      <td>Thursday</td>\n",
              "      <td>0</td>\n",
              "      <td>0</td>\n",
              "    </tr>\n",
              "    <tr>\n",
              "      <th>4</th>\n",
              "      <td>2018-03-01</td>\n",
              "      <td>5</td>\n",
              "      <td>MOW</td>\n",
              "      <td>KRR</td>\n",
              "      <td>5</td>\n",
              "      <td>2018-03-01 00:25:00</td>\n",
              "      <td>2018-03-01 00:21:00</td>\n",
              "      <td>2018-03-01 02:40:00</td>\n",
              "      <td>2018-03-01 02:41:00</td>\n",
              "      <td>8100.0</td>\n",
              "      <td>8400.0</td>\n",
              "      <td>-240.0</td>\n",
              "      <td>60.0</td>\n",
              "      <td>3</td>\n",
              "      <td>1</td>\n",
              "      <td>Thursday</td>\n",
              "      <td>0</td>\n",
              "      <td>0</td>\n",
              "    </tr>\n",
              "  </tbody>\n",
              "</table>\n",
              "</div>\n",
              "    <div class=\"colab-df-buttons\">\n",
              "\n",
              "  <div class=\"colab-df-container\">\n",
              "    <button class=\"colab-df-convert\" onclick=\"convertToInteractive('df-ff3de5ed-1c9e-4af2-ac80-650b5165d952')\"\n",
              "            title=\"Convert this dataframe to an interactive table.\"\n",
              "            style=\"display:none;\">\n",
              "\n",
              "  <svg xmlns=\"http://www.w3.org/2000/svg\" height=\"24px\" viewBox=\"0 -960 960 960\">\n",
              "    <path d=\"M120-120v-720h720v720H120Zm60-500h600v-160H180v160Zm220 220h160v-160H400v160Zm0 220h160v-160H400v160ZM180-400h160v-160H180v160Zm440 0h160v-160H620v160ZM180-180h160v-160H180v160Zm440 0h160v-160H620v160Z\"/>\n",
              "  </svg>\n",
              "    </button>\n",
              "\n",
              "  <style>\n",
              "    .colab-df-container {\n",
              "      display:flex;\n",
              "      gap: 12px;\n",
              "    }\n",
              "\n",
              "    .colab-df-convert {\n",
              "      background-color: #E8F0FE;\n",
              "      border: none;\n",
              "      border-radius: 50%;\n",
              "      cursor: pointer;\n",
              "      display: none;\n",
              "      fill: #1967D2;\n",
              "      height: 32px;\n",
              "      padding: 0 0 0 0;\n",
              "      width: 32px;\n",
              "    }\n",
              "\n",
              "    .colab-df-convert:hover {\n",
              "      background-color: #E2EBFA;\n",
              "      box-shadow: 0px 1px 2px rgba(60, 64, 67, 0.3), 0px 1px 3px 1px rgba(60, 64, 67, 0.15);\n",
              "      fill: #174EA6;\n",
              "    }\n",
              "\n",
              "    .colab-df-buttons div {\n",
              "      margin-bottom: 4px;\n",
              "    }\n",
              "\n",
              "    [theme=dark] .colab-df-convert {\n",
              "      background-color: #3B4455;\n",
              "      fill: #D2E3FC;\n",
              "    }\n",
              "\n",
              "    [theme=dark] .colab-df-convert:hover {\n",
              "      background-color: #434B5C;\n",
              "      box-shadow: 0px 1px 3px 1px rgba(0, 0, 0, 0.15);\n",
              "      filter: drop-shadow(0px 1px 2px rgba(0, 0, 0, 0.3));\n",
              "      fill: #FFFFFF;\n",
              "    }\n",
              "  </style>\n",
              "\n",
              "    <script>\n",
              "      const buttonEl =\n",
              "        document.querySelector('#df-ff3de5ed-1c9e-4af2-ac80-650b5165d952 button.colab-df-convert');\n",
              "      buttonEl.style.display =\n",
              "        google.colab.kernel.accessAllowed ? 'block' : 'none';\n",
              "\n",
              "      async function convertToInteractive(key) {\n",
              "        const element = document.querySelector('#df-ff3de5ed-1c9e-4af2-ac80-650b5165d952');\n",
              "        const dataTable =\n",
              "          await google.colab.kernel.invokeFunction('convertToInteractive',\n",
              "                                                    [key], {});\n",
              "        if (!dataTable) return;\n",
              "\n",
              "        const docLinkHtml = 'Like what you see? Visit the ' +\n",
              "          '<a target=\"_blank\" href=https://colab.research.google.com/notebooks/data_table.ipynb>data table notebook</a>'\n",
              "          + ' to learn more about interactive tables.';\n",
              "        element.innerHTML = '';\n",
              "        dataTable['output_type'] = 'display_data';\n",
              "        await google.colab.output.renderOutput(dataTable, element);\n",
              "        const docLink = document.createElement('div');\n",
              "        docLink.innerHTML = docLinkHtml;\n",
              "        element.appendChild(docLink);\n",
              "      }\n",
              "    </script>\n",
              "  </div>\n",
              "\n",
              "\n",
              "<div id=\"df-0db9ef84-0111-4962-a310-675e8db63c95\">\n",
              "  <button class=\"colab-df-quickchart\" onclick=\"quickchart('df-0db9ef84-0111-4962-a310-675e8db63c95')\"\n",
              "            title=\"Suggest charts\"\n",
              "            style=\"display:none;\">\n",
              "\n",
              "<svg xmlns=\"http://www.w3.org/2000/svg\" height=\"24px\"viewBox=\"0 0 24 24\"\n",
              "     width=\"24px\">\n",
              "    <g>\n",
              "        <path d=\"M19 3H5c-1.1 0-2 .9-2 2v14c0 1.1.9 2 2 2h14c1.1 0 2-.9 2-2V5c0-1.1-.9-2-2-2zM9 17H7v-7h2v7zm4 0h-2V7h2v10zm4 0h-2v-4h2v4z\"/>\n",
              "    </g>\n",
              "</svg>\n",
              "  </button>\n",
              "\n",
              "<style>\n",
              "  .colab-df-quickchart {\n",
              "      --bg-color: #E8F0FE;\n",
              "      --fill-color: #1967D2;\n",
              "      --hover-bg-color: #E2EBFA;\n",
              "      --hover-fill-color: #174EA6;\n",
              "      --disabled-fill-color: #AAA;\n",
              "      --disabled-bg-color: #DDD;\n",
              "  }\n",
              "\n",
              "  [theme=dark] .colab-df-quickchart {\n",
              "      --bg-color: #3B4455;\n",
              "      --fill-color: #D2E3FC;\n",
              "      --hover-bg-color: #434B5C;\n",
              "      --hover-fill-color: #FFFFFF;\n",
              "      --disabled-bg-color: #3B4455;\n",
              "      --disabled-fill-color: #666;\n",
              "  }\n",
              "\n",
              "  .colab-df-quickchart {\n",
              "    background-color: var(--bg-color);\n",
              "    border: none;\n",
              "    border-radius: 50%;\n",
              "    cursor: pointer;\n",
              "    display: none;\n",
              "    fill: var(--fill-color);\n",
              "    height: 32px;\n",
              "    padding: 0;\n",
              "    width: 32px;\n",
              "  }\n",
              "\n",
              "  .colab-df-quickchart:hover {\n",
              "    background-color: var(--hover-bg-color);\n",
              "    box-shadow: 0 1px 2px rgba(60, 64, 67, 0.3), 0 1px 3px 1px rgba(60, 64, 67, 0.15);\n",
              "    fill: var(--button-hover-fill-color);\n",
              "  }\n",
              "\n",
              "  .colab-df-quickchart-complete:disabled,\n",
              "  .colab-df-quickchart-complete:disabled:hover {\n",
              "    background-color: var(--disabled-bg-color);\n",
              "    fill: var(--disabled-fill-color);\n",
              "    box-shadow: none;\n",
              "  }\n",
              "\n",
              "  .colab-df-spinner {\n",
              "    border: 2px solid var(--fill-color);\n",
              "    border-color: transparent;\n",
              "    border-bottom-color: var(--fill-color);\n",
              "    animation:\n",
              "      spin 1s steps(1) infinite;\n",
              "  }\n",
              "\n",
              "  @keyframes spin {\n",
              "    0% {\n",
              "      border-color: transparent;\n",
              "      border-bottom-color: var(--fill-color);\n",
              "      border-left-color: var(--fill-color);\n",
              "    }\n",
              "    20% {\n",
              "      border-color: transparent;\n",
              "      border-left-color: var(--fill-color);\n",
              "      border-top-color: var(--fill-color);\n",
              "    }\n",
              "    30% {\n",
              "      border-color: transparent;\n",
              "      border-left-color: var(--fill-color);\n",
              "      border-top-color: var(--fill-color);\n",
              "      border-right-color: var(--fill-color);\n",
              "    }\n",
              "    40% {\n",
              "      border-color: transparent;\n",
              "      border-right-color: var(--fill-color);\n",
              "      border-top-color: var(--fill-color);\n",
              "    }\n",
              "    60% {\n",
              "      border-color: transparent;\n",
              "      border-right-color: var(--fill-color);\n",
              "    }\n",
              "    80% {\n",
              "      border-color: transparent;\n",
              "      border-right-color: var(--fill-color);\n",
              "      border-bottom-color: var(--fill-color);\n",
              "    }\n",
              "    90% {\n",
              "      border-color: transparent;\n",
              "      border-bottom-color: var(--fill-color);\n",
              "    }\n",
              "  }\n",
              "</style>\n",
              "\n",
              "  <script>\n",
              "    async function quickchart(key) {\n",
              "      const quickchartButtonEl =\n",
              "        document.querySelector('#' + key + ' button');\n",
              "      quickchartButtonEl.disabled = true;  // To prevent multiple clicks.\n",
              "      quickchartButtonEl.classList.add('colab-df-spinner');\n",
              "      try {\n",
              "        const charts = await google.colab.kernel.invokeFunction(\n",
              "            'suggestCharts', [key], {});\n",
              "      } catch (error) {\n",
              "        console.error('Error during call to suggestCharts:', error);\n",
              "      }\n",
              "      quickchartButtonEl.classList.remove('colab-df-spinner');\n",
              "      quickchartButtonEl.classList.add('colab-df-quickchart-complete');\n",
              "    }\n",
              "    (() => {\n",
              "      let quickchartButtonEl =\n",
              "        document.querySelector('#df-0db9ef84-0111-4962-a310-675e8db63c95 button');\n",
              "      quickchartButtonEl.style.display =\n",
              "        google.colab.kernel.accessAllowed ? 'block' : 'none';\n",
              "    })();\n",
              "  </script>\n",
              "</div>\n",
              "    </div>\n",
              "  </div>\n"
            ],
            "application/vnd.google.colaboratory.intrinsic+json": {
              "type": "dataframe",
              "variable_name": "df"
            }
          },
          "metadata": {},
          "execution_count": 14
        }
      ]
    },
    {
      "cell_type": "code",
      "source": [
        "boxplot = df.boxplot(column=['delay_out_sec'])"
      ],
      "metadata": {
        "colab": {
          "base_uri": "https://localhost:8080/",
          "height": 430
        },
        "id": "qoXCH4ZOS-4l",
        "outputId": "86585dc1-39c2-4b1e-c815-c7d2b915dcb2"
      },
      "execution_count": 15,
      "outputs": [
        {
          "output_type": "display_data",
          "data": {
            "text/plain": [
              "<Figure size 640x480 with 1 Axes>"
            ],
            "image/png": "[encoded data removed]"
          },
          "metadata": {}
        }
      ]
    },
    {
      "cell_type": "code",
      "source": [
        "Q1 =  df['delay_out_sec'].quantile(0.25)\n",
        "Q3 = df['delay_out_sec'].quantile(0.75)\n",
        "IQR = Q3 - Q1\n",
        "df_out = df[(df['delay_out_sec'] > (Q1-1.5*IQR)) & (df['delay_out_sec'] < (Q3+1.5*IQR))]"
      ],
      "metadata": {
        "id": "KWWHZpioXEfo"
      },
      "execution_count": 16,
      "outputs": []
    },
    {
      "cell_type": "code",
      "source": [
        "boxplot = df_out.boxplot(column=['delay_out_sec'])"
      ],
      "metadata": {
        "colab": {
          "base_uri": "https://localhost:8080/",
          "height": 430
        },
        "id": "sfV91DK3YuCI",
        "outputId": "3e905241-fb07-4042-d842-9bf0f60f605d"
      },
      "execution_count": 17,
      "outputs": [
        {
          "output_type": "display_data",
          "data": {
            "text/plain": [
              "<Figure size 640x480 with 1 Axes>"
            ],
            "image/png": "[encoded data removed]"
          },
          "metadata": {}
        }
      ]
    },
    {
      "cell_type": "code",
      "source": [
        "boxplot = df.boxplot(column=['delay_in_sec'])"
      ],
      "metadata": {
        "colab": {
          "base_uri": "https://localhost:8080/",
          "height": 433
        },
        "id": "itRsdVvNTaid",
        "outputId": "a02ae294-adf2-4c9b-a0b4-2a1b8e36ee4c"
      },
      "execution_count": 18,
      "outputs": [
        {
          "output_type": "display_data",
          "data": {
            "text/plain": [
              "<Figure size 640x480 with 1 Axes>"
            ],
            "image/png": "[encoded data removed]"
          },
          "metadata": {}
        }
      ]
    },
    {
      "cell_type": "code",
      "source": [
        "Q1 =  df['delay_in_sec'].quantile(0.25)\n",
        "Q3 = df['delay_in_sec'].quantile(0.75)\n",
        "IQR = Q3 - Q1\n",
        "df_in = df[(df['delay_in_sec'] > (Q1-1.5*IQR)) & (df['delay_in_sec'] < (Q3+1.5*IQR))]"
      ],
      "metadata": {
        "id": "B84zHlSxXqbb"
      },
      "execution_count": 19,
      "outputs": []
    },
    {
      "cell_type": "code",
      "source": [
        "boxplot = df_in.boxplot(column=['delay_in_sec'])"
      ],
      "metadata": {
        "colab": {
          "base_uri": "https://localhost:8080/",
          "height": 430
        },
        "id": "fKpWprwiYw5F",
        "outputId": "3c86daf4-0bb1-4980-a069-1be168164d46"
      },
      "execution_count": 20,
      "outputs": [
        {
          "output_type": "display_data",
          "data": {
            "text/plain": [
              "<Figure size 640x480 with 1 Axes>"
            ],
            "image/png": "[encoded data removed]"
          },
          "metadata": {}
        }
      ]
    },
    {
      "cell_type": "markdown",
      "source": [
        "# Формирование датасета"
      ],
      "metadata": {
        "id": "cyuZ5PtxS6v_"
      }
    },
    {
      "cell_type": "code",
      "source": [
        "!pip install category_encoders --quiet"
      ],
      "metadata": {
        "colab": {
          "base_uri": "https://localhost:8080/"
        },
        "id": "T226LPO9uBV5",
        "outputId": "313be961-8e8f-4f73-8351-9274fc315316"
      },
      "execution_count": 21,
      "outputs": [
        {
          "output_type": "stream",
          "name": "stdout",
          "text": [
            "\u001b[?25l     \u001b[90m━━━━━━━━━━━━━━━━━━━━━━━━━━━━━━━━━━━━━━━━\u001b[0m \u001b[32m0.0/81.9 kB\u001b[0m \u001b[31m?\u001b[0m eta \u001b[36m-:--:--\u001b[0m\r\u001b[2K     \u001b[91m━━━━━━━━━━━━━━━\u001b[0m\u001b[90m╺\u001b[0m\u001b[90m━━━━━━━━━━━━━━━━━━━━━━━━\u001b[0m \u001b[32m30.7/81.9 kB\u001b[0m \u001b[31m1.3 MB/s\u001b[0m eta \u001b[36m0:00:01\u001b[0m\r\u001b[2K     \u001b[90m━━━━━━━━━━━━━━━━━━━━━━━━━━━━━━━━━━━━━━━━\u001b[0m \u001b[32m81.9/81.9 kB\u001b[0m \u001b[31m1.2 MB/s\u001b[0m eta \u001b[36m0:00:00\u001b[0m\n",
            "\u001b[?25h"
          ]
        }
      ]
    },
    {
      "cell_type": "markdown",
      "source": [
        "Кодируем категориальные признаки, выбран CatBoost Encoder, основываясь на сравнении в [бенчмарках](https://www.kaggle.com/code/subinium/11-categorical-encoders-and-benchmark)"
      ],
      "metadata": {
        "id": "8PTInoZCut4j"
      }
    },
    {
      "cell_type": "code",
      "source": [
        "from category_encoders.cat_boost import CatBoostEncoder"
      ],
      "metadata": {
        "id": "9O_8IB-Dp1B0"
      },
      "execution_count": 22,
      "outputs": []
    },
    {
      "cell_type": "code",
      "source": [
        "CBencoder = CatBoostEncoder()\n",
        "cbe_out = CBencoder.fit_transform(df_out[['airport_out', 'airport_in', 'air_number', 'day_of_the_week', 'time_part_out']], df_out['delay_out_sec'])\n",
        "cbe_in = CBencoder.fit_transform(df_in[['airport_out', 'airport_in', 'air_number', 'day_of_the_week', 'time_part_in']], df_in['delay_in_sec'])"
      ],
      "metadata": {
        "id": "rfKLz9CwuNuO"
      },
      "execution_count": 23,
      "outputs": []
    },
    {
      "cell_type": "code",
      "source": [
        "data_out = pd.concat([cbe_out, df_out[['flight_month', 'flight_day', 'flight']]], axis=1)\n",
        "data_in = pd.concat([cbe_in, df_in[['flight_month', 'flight_day', 'flight']]], axis=1)"
      ],
      "metadata": {
        "id": "4FRtsCC1Cjka"
      },
      "execution_count": 24,
      "outputs": []
    },
    {
      "cell_type": "markdown",
      "source": [
        "Для delay_out_sec"
      ],
      "metadata": {
        "id": "HOYw681bFVTP"
      }
    },
    {
      "cell_type": "code",
      "source": [
        "X_train_out, X_test_out, y_train_out, y_test_out = train_test_split(data_out, df_out['delay_out_sec'], test_size=0.2, random_state=1)\n",
        "\n",
        "X_train_out, X_val_out, y_train_out, y_val_out = train_test_split(X_train_out, y_train_out, test_size=0.25, random_state=1) # 0.25 x 0.8 = 0.2"
      ],
      "metadata": {
        "id": "F_SOTpKaFETW"
      },
      "execution_count": 25,
      "outputs": []
    },
    {
      "cell_type": "markdown",
      "source": [
        "Для delay_in_sec"
      ],
      "metadata": {
        "id": "fXkVXAQrFXna"
      }
    },
    {
      "cell_type": "code",
      "source": [
        "X_train_in, X_test_in, y_train_in, y_test_in = train_test_split(data_in, df_in['delay_in_sec'], test_size=0.2, random_state=1)\n",
        "\n",
        "X_train_in, X_val_in, y_train_in, y_val_in = train_test_split(X_train_in, y_train_in, test_size=0.25, random_state=1) # 0.25 x 0.8 = 0.2"
      ],
      "metadata": {
        "id": "zrvXMRxpFZgj"
      },
      "execution_count": 26,
      "outputs": []
    },
    {
      "cell_type": "markdown",
      "source": [
        "# 4. Models"
      ],
      "metadata": {
        "id": "apukolnuEDcL"
      }
    },
    {
      "cell_type": "markdown",
      "source": [
        "## 4.1 CatBoost regressor"
      ],
      "metadata": {
        "id": "BaimqdLbELY0"
      }
    },
    {
      "cell_type": "code",
      "source": [
        "!pip install catboost --quiet"
      ],
      "metadata": {
        "colab": {
          "base_uri": "https://localhost:8080/"
        },
        "id": "gFHE7cQrEwsA",
        "outputId": "027358dd-fdc6-4f44-d338-0d0e25ba6900"
      },
      "execution_count": 27,
      "outputs": [
        {
          "output_type": "stream",
          "name": "stdout",
          "text": [
            "\u001b[2K     \u001b[90m━━━━━━━━━━━━━━━━━━━━━━━━━━━━━━━━━━━━━━━━\u001b[0m \u001b[32m98.2/98.2 MB\u001b[0m \u001b[31m9.1 MB/s\u001b[0m eta \u001b[36m0:00:00\u001b[0m\n",
            "\u001b[?25h"
          ]
        }
      ]
    },
    {
      "cell_type": "code",
      "source": [
        "from catboost import CatBoostRegressor\n",
        "CBRmodel = CatBoostRegressor(\n",
        "                          verbose=5000,\n",
        "                          task_type='GPU',\n",
        "                          loss_function='RMSE',\n",
        "                          iterations = 20000,\n",
        "                          depth = 12,\n",
        "                          random_state=42,\n",
        "                          l2_leaf_reg=1,\n",
        "                          learning_rate=0.03\n",
        " )\n",
        "\n",
        "CBRmodel.fit(X_train_out, y_train_out)\n",
        "#params = {'l2_leaf_reg':[1,4,8],\n",
        "#          'learning_rate': [0.03,0.5,0.1],\n",
        "#          'depth':[6,8,10]\n",
        "#         }\n",
        "#grid_search_res = CBRmodel.grid_search(params, X_train_out, y_train_out, train_size=0.8)"
      ],
      "metadata": {
        "colab": {
          "base_uri": "https://localhost:8080/"
        },
        "id": "_slpVSKkv_2v",
        "outputId": "d629d773-6e2f-4c7b-99b2-83823c54758b"
      },
      "execution_count": 28,
      "outputs": [
        {
          "output_type": "stream",
          "name": "stdout",
          "text": [
            "0:\tlearn: 329.3896762\ttotal: 127ms\tremaining: 42m 12s\n",
            "5000:\tlearn: 152.1740832\ttotal: 1m 46s\tremaining: 5m 20s\n",
            "10000:\tlearn: 98.1105201\ttotal: 3m 26s\tremaining: 3m 26s\n",
            "15000:\tlearn: 67.4654094\ttotal: 4m 55s\tremaining: 1m 38s\n",
            "19999:\tlearn: 48.2017708\ttotal: 6m 26s\tremaining: 0us\n"
          ]
        },
        {
          "output_type": "execute_result",
          "data": {
            "text/plain": [
              "<catboost.core.CatBoostRegressor at 0x78da71b80b80>"
            ]
          },
          "metadata": {},
          "execution_count": 28
        }
      ]
    },
    {
      "cell_type": "code",
      "source": [
        "error = -cross_val_score(\n",
        "                      CBRmodel,\n",
        "                      X_val_out,\n",
        "                      y_val_out,\n",
        "                      cv=2,\n",
        "                      scoring=\"neg_mean_squared_error\").mean()\n",
        "# print(R2CV)\n",
        "print(np.sqrt(error))"
      ],
      "metadata": {
        "colab": {
          "base_uri": "https://localhost:8080/"
        },
        "id": "NlC7WTqxn6nU",
        "outputId": "4b39116f-edbc-4373-e9fb-6713199963b6"
      },
      "execution_count": 29,
      "outputs": [
        {
          "output_type": "stream",
          "name": "stdout",
          "text": [
            "0:\tlearn: 331.5026784\ttotal: 318ms\tremaining: 1h 46m 8s\n",
            "5000:\tlearn: 252.8099692\ttotal: 3m 49s\tremaining: 11m 28s\n",
            "10000:\tlearn: 245.1637587\ttotal: 5m 40s\tremaining: 5m 40s\n",
            "15000:\tlearn: 240.9936435\ttotal: 7m 23s\tremaining: 2m 27s\n",
            "19999:\tlearn: 236.9379181\ttotal: 9m 5s\tremaining: 0us\n",
            "0:\tlearn: 332.4795434\ttotal: 181ms\tremaining: 1h 19s\n",
            "5000:\tlearn: 253.0413530\ttotal: 3m 51s\tremaining: 11m 33s\n",
            "10000:\tlearn: 244.0482044\ttotal: 6m 16s\tremaining: 6m 16s\n",
            "15000:\tlearn: 237.7269460\ttotal: 8m 44s\tremaining: 2m 54s\n",
            "19999:\tlearn: 233.2379168\ttotal: 11m 20s\tremaining: 0us\n",
            "307.74635094248174\n"
          ]
        }
      ]
    },
    {
      "cell_type": "code",
      "source": [
        "# Predict the model\n",
        "pred = CBRmodel.predict(X_val_out)\n",
        "\n",
        "# RMSE, MAE Computation\n",
        "rmse = np.sqrt(MSE(pred, y_val_out))\n",
        "mae = MAE(pred, y_val_out)\n",
        "print(f'RMSE: {rmse}, MAE: {mae}')"
      ],
      "metadata": {
        "colab": {
          "base_uri": "https://localhost:8080/"
        },
        "id": "_Qy51Jv_IoNW",
        "outputId": "3a53d77d-ed28-4709-9e0d-f517f40c0105"
      },
      "execution_count": 30,
      "outputs": [
        {
          "output_type": "stream",
          "name": "stdout",
          "text": [
            "RMSE: 322.1024404592049, MAE: 251.8020708027445\n"
          ]
        }
      ]
    },
    {
      "cell_type": "code",
      "source": [
        "i = 8\n",
        "t = np.arange(0., 50., 1)\n",
        "plt.plot(t, pred[50 * i:50 * (i + 1)], color='red')\n",
        "plt.plot(t, y_val_out[50 * i:50 * (i + 1)], color='blue')\n",
        "plt.show()"
      ],
      "metadata": {
        "colab": {
          "base_uri": "https://localhost:8080/",
          "height": 430
        },
        "id": "KBPgjxOW52Qb",
        "outputId": "6028466e-6cca-4017-84c7-b9aafcfa196d"
      },
      "execution_count": 36,
      "outputs": [
        {
          "output_type": "display_data",
          "data": {
            "text/plain": [
              "<Figure size 640x480 with 1 Axes>"
            ],
            "image/png": "[encoded data removed]"
          },
          "metadata": {}
        }
      ]
    },
    {
      "cell_type": "markdown",
      "source": [
        "## 4.2 XGBoost"
      ],
      "metadata": {
        "id": "G_vEfhJCi6Sl"
      }
    },
    {
      "cell_type": "code",
      "source": [
        "import xgboost as xg"
      ],
      "metadata": {
        "id": "H_BYBq2ljACP"
      },
      "execution_count": 46,
      "outputs": []
    },
    {
      "cell_type": "code",
      "source": [
        "xgb_r = xg.XGBRegressor(n_estimators = 500, seed = 42)\n",
        "\n",
        "# Fitting the model\n",
        "xgb_r.fit(X_train_out, y_train_out)\n",
        "\n",
        "# Predict the model\n",
        "pred = xgb_r.predict(X_val_out)\n",
        "\n",
        "# RMSE, MAE Computation\n",
        "rmse = np.sqrt(MSE(pred, y_val_out))\n",
        "mae = MAE(pred, y_val_out)\n",
        "print(f'RMSE: {rmse}, MAE: {mae}')"
      ],
      "metadata": {
        "colab": {
          "base_uri": "https://localhost:8080/"
        },
        "id": "CddjQ9H-jBN5",
        "outputId": "ae2c38b2-f598-4d05-fc5f-be9ca80fba54"
      },
      "execution_count": 47,
      "outputs": [
        {
          "output_type": "stream",
          "name": "stdout",
          "text": [
            "RMSE: 303.27985640199694, MAE: 236.0430454931629\n"
          ]
        }
      ]
    },
    {
      "cell_type": "code",
      "source": [
        "t = np.arange(0., 50., 1)\n",
        "plt.plot(t, pred[:50], color='red')\n",
        "plt.plot(t, y_val_out[:50], color='blue')\n",
        "plt.show()"
      ],
      "metadata": {
        "colab": {
          "base_uri": "https://localhost:8080/",
          "height": 430
        },
        "id": "x5egNx-25x8z",
        "outputId": "27198214-8373-4975-c136-57c99552ca29"
      },
      "execution_count": 48,
      "outputs": [
        {
          "output_type": "display_data",
          "data": {
            "text/plain": [
              "<Figure size 640x480 with 1 Axes>"
            ],
            "image/png": "[encoded data removed]"
          },
          "metadata": {}
        }
      ]
    },
    {
      "cell_type": "markdown",
      "source": [
        "## 4.3 PyTorch"
      ],
      "metadata": {
        "id": "_yv4yL3kNArf"
      }
    },
    {
      "cell_type": "code",
      "source": [
        "import torch\n",
        "device = \"cuda\" if torch.cuda.is_available() else \"cpu\"\n",
        "print(f\"Using {device} device\")"
      ],
      "metadata": {
        "colab": {
          "base_uri": "https://localhost:8080/"
        },
        "id": "zFlIj5NibCId",
        "outputId": "15b45543-789c-4efc-ea61-b95606fa25f7"
      },
      "execution_count": 49,
      "outputs": [
        {
          "output_type": "stream",
          "name": "stdout",
          "text": [
            "Using cpu device\n"
          ]
        }
      ]
    },
    {
      "cell_type": "markdown",
      "source": [
        "### Out"
      ],
      "metadata": {
        "id": "W4FGyjksiv1Q"
      }
    },
    {
      "cell_type": "code",
      "source": [
        "X_train = torch.tensor(X_train_out.values, dtype=torch.float32)\n",
        "y_train = torch.tensor(y_train_out.values, dtype=torch.float32).reshape(-1, 1)\n",
        "X_test = torch.tensor(X_test_out.values, dtype=torch.float32)\n",
        "y_test = torch.tensor(y_test_out.values, dtype=torch.float32).reshape(-1, 1)\n",
        "X_val = torch.tensor(X_val_out.values, dtype=torch.float32)\n",
        "y_val = torch.tensor(y_val_out.values, dtype=torch.float32).reshape(-1, 1)"
      ],
      "metadata": {
        "id": "ujyso7_UOw3v"
      },
      "execution_count": 50,
      "outputs": []
    },
    {
      "cell_type": "markdown",
      "source": [
        "### In"
      ],
      "metadata": {
        "id": "aoVCo4ugixu5"
      }
    },
    {
      "cell_type": "code",
      "source": [
        "X_train = torch.tensor(X_train_in.values, dtype=torch.float32)\n",
        "y_train = torch.tensor(y_train_in.values, dtype=torch.float32).reshape(-1, 1)\n",
        "X_test = torch.tensor(X_test_in.values, dtype=torch.float32)\n",
        "y_test = torch.tensor(y_test_in.values, dtype=torch.float32).reshape(-1, 1)\n",
        "X_val = torch.tensor(X_val_in.values, dtype=torch.float32)\n",
        "y_val = torch.tensor(y_val_in.values, dtype=torch.float32).reshape(-1, 1)"
      ],
      "metadata": {
        "id": "xkhKX_YWi0UP"
      },
      "execution_count": 121,
      "outputs": []
    },
    {
      "cell_type": "markdown",
      "source": [
        "### NN"
      ],
      "metadata": {
        "id": "eDfBeBUwi4TC"
      }
    },
    {
      "cell_type": "code",
      "source": [
        "import torch.nn as nn\n",
        "import torch.nn.functional as F\n",
        "\n",
        "\n",
        "class RegModel(nn.Module):\n",
        "\n",
        "    def __init__(self):\n",
        "        super(RegModel, self).__init__()\n",
        "\n",
        "        self.fc1 = nn.Linear(8, 32)\n",
        "        self.fc2 = nn.Linear(32, 64)\n",
        "        self.fc3 = nn.Linear(64, 128)\n",
        "        self.fc4 = nn.Linear(128, 64)\n",
        "        self.dropout = nn.Dropout(p=0.2)\n",
        "        self.fc5 = nn.Linear(64, 32)\n",
        "        self.fc6 = nn.Linear(32, 1)\n",
        "\n",
        "    def forward(self, x):\n",
        "        x = F.relu(self.fc1(x))\n",
        "        x = F.relu(self.fc2(x))\n",
        "        x = F.relu(self.fc3(x))\n",
        "        x = F.relu(self.fc4(x))\n",
        "        x = F.relu(self.dropout(x))\n",
        "        x = F.relu(self.fc5(x))\n",
        "\n",
        "        return self.fc6(x)\n"
      ],
      "metadata": {
        "id": "EdiXVMbn_Kob"
      },
      "execution_count": 122,
      "outputs": []
    },
    {
      "cell_type": "code",
      "source": [
        "learning_rate = 1e-3\n",
        "\n",
        "model = RegModel()\n",
        "optimizer = torch.optim.Adam(model.parameters(), lr=learning_rate)\n",
        "#criterion = nn.MSELoss()\n",
        "criterion = nn.L1Loss()\n",
        "#critrion = nn.NLLLoss()\n",
        "\n",
        "# training parameters\n",
        "n_epochs = 2   # number of epochs to run\n",
        "batch_size = 32  # size of each batch\n",
        "batch_start = torch.arange(0, len(X_train), batch_size)\n",
        "\n",
        "# Hold the best model\n",
        "best_rmse = np.inf   # init to infinity\n",
        "best_weights = None\n",
        "history = []\n"
      ],
      "metadata": {
        "id": "2PXu8Q__dgqP"
      },
      "execution_count": 125,
      "outputs": []
    },
    {
      "cell_type": "code",
      "source": [
        "# training loop\n",
        "for epoch in range(n_epochs):\n",
        "    model.train()\n",
        "    with tqdm(batch_start, unit=\"batch\", mininterval=0, disable=False) as bar:\n",
        "        bar.set_description(f\"Epoch {epoch}\")\n",
        "        for start in bar:\n",
        "            # take a batch\n",
        "            X_batch = X_train[start:start+batch_size]\n",
        "            y_batch = y_train[start:start+batch_size]\n",
        "            # forward pass\n",
        "            y_pred = model(X_batch)\n",
        "            #loss = torch.sqrt(criterion(y_pred, y_batch))\n",
        "            loss = criterion(y_pred, y_batch)\n",
        "            # backward pass\n",
        "            optimizer.zero_grad()\n",
        "            loss.backward()\n",
        "            # update weights\n",
        "            optimizer.step()\n",
        "            # print progress\n",
        "            bar.set_postfix(rmse=float(loss))\n",
        "    # evaluate accuracy at end of each epoch\n",
        "    model.eval()\n",
        "    y_pred = model(X_test)\n",
        "    #rmse = torch.sqrt(criterion(y_pred, y_test))\n",
        "    rmse = criterion(y_pred, y_test)\n",
        "    rmse = float(rmse)\n",
        "    history.append(rmse)\n",
        "    if rmse < best_rmse:\n",
        "        best_mse = rmse\n",
        "        best_weights = copy.deepcopy(model.state_dict())"
      ],
      "metadata": {
        "colab": {
          "base_uri": "https://localhost:8080/"
        },
        "id": "r_px6jpEdaLB",
        "outputId": "527e53cb-d73e-42f5-9562-b29c30ac2a9a"
      },
      "execution_count": 126,
      "outputs": [
        {
          "output_type": "stream",
          "name": "stderr",
          "text": [
            "Epoch 0: 100%|██████████| 2458/2458 [00:22<00:00, 108.07batch/s, rmse=424]\n",
            "Epoch 1: 100%|██████████| 2458/2458 [00:23<00:00, 104.70batch/s, rmse=433]\n"
          ]
        }
      ]
    },
    {
      "cell_type": "code",
      "source": [
        "plt.plot(history)\n",
        "plt.show()"
      ],
      "metadata": {
        "colab": {
          "base_uri": "https://localhost:8080/",
          "height": 430
        },
        "id": "-82cjmiwfUmt",
        "outputId": "532784e2-b075-484c-88fe-e27c9fd178fd"
      },
      "execution_count": 127,
      "outputs": [
        {
          "output_type": "display_data",
          "data": {
            "text/plain": [
              "<Figure size 640x480 with 1 Axes>"
            ],
            "image/png": "[encoded data removed]"
          },
          "metadata": {}
        }
      ]
    },
    {
      "cell_type": "code",
      "source": [
        "# Predict the model\n",
        "pred = model(X_val)\n",
        "pred = pred.detach().numpy()\n",
        "# RMSE, MAE Computation\n",
        "rmse = np.sqrt(MSE(pred, y_val_in))\n",
        "mae = MAE(pred, y_val_in)\n",
        "print(f'RMSE: {rmse}, MAE: {mae}')"
      ],
      "metadata": {
        "colab": {
          "base_uri": "https://localhost:8080/"
        },
        "id": "3xZNMtzUUdGc",
        "outputId": "6185c34c-d0ee-4b3c-e439-e6504a28ea26"
      },
      "execution_count": 129,
      "outputs": [
        {
          "output_type": "stream",
          "name": "stdout",
          "text": [
            "RMSE: 635.847185691736, MAE: 498.03850822484736\n"
          ]
        }
      ]
    },
    {
      "cell_type": "code",
      "source": [
        "pred[:10]"
      ],
      "metadata": {
        "colab": {
          "base_uri": "https://localhost:8080/"
        },
        "id": "PzqrEeBWcfHN",
        "outputId": "8d20c4d9-fce9-419a-8bff-7786cdad1012"
      },
      "execution_count": 93,
      "outputs": [
        {
          "output_type": "execute_result",
          "data": {
            "text/plain": [
              "array([[-545.81165],\n",
              "       [-477.7596 ],\n",
              "       [-582.84485],\n",
              "       [-471.63745],\n",
              "       [-539.1696 ],\n",
              "       [-456.46582],\n",
              "       [-483.2956 ],\n",
              "       [-558.457  ],\n",
              "       [-246.85762],\n",
              "       [-526.47876]], dtype=float32)"
            ]
          },
          "metadata": {},
          "execution_count": 93
        }
      ]
    },
    {
      "cell_type": "code",
      "source": [
        "y_val_out[:10]"
      ],
      "metadata": {
        "colab": {
          "base_uri": "https://localhost:8080/"
        },
        "id": "8q4L7EKeQeAE",
        "outputId": "f9fc6730-4beb-4de3-c1e6-d8556f96a457"
      },
      "execution_count": 94,
      "outputs": [
        {
          "output_type": "execute_result",
          "data": {
            "text/plain": [
              "113571    -180.0\n",
              "20711     -480.0\n",
              "47436     -240.0\n",
              "39595     -840.0\n",
              "47984     -780.0\n",
              "126468    -540.0\n",
              "61614     -900.0\n",
              "27601    -1020.0\n",
              "76306      -60.0\n",
              "50916     -780.0\n",
              "Name: delay_out_sec, dtype: float64"
            ]
          },
          "metadata": {},
          "execution_count": 94
        }
      ]
    },
    {
      "cell_type": "code",
      "source": [
        "t = np.arange(0., 50., 1)\n",
        "plt.plot(t, pred[50:100], color='red')\n",
        "plt.plot(t, y_val_in[50:100], color='blue')\n",
        "plt.show()"
      ],
      "metadata": {
        "colab": {
          "base_uri": "https://localhost:8080/",
          "height": 430
        },
        "id": "FQ-Mzr6IP-Lu",
        "outputId": "b15c2203-6233-42f1-9ddd-e17d48feca71"
      },
      "execution_count": 130,
      "outputs": [
        {
          "output_type": "display_data",
          "data": {
            "text/plain": [
              "<Figure size 640x480 with 1 Axes>"
            ],
            "image/png": "[encoded data removed]"
          },
          "metadata": {}
        }
      ]
    },
    {
      "cell_type": "markdown",
      "source": [
        "# Chronos Time-series AMAZON"
      ],
      "metadata": {
        "id": "0J-vKy2jhKD-"
      }
    },
    {
      "cell_type": "code",
      "source": [
        "!pip install git+https://github.com/amazon-science/chronos-forecasting.git --quiet"
      ],
      "metadata": {
        "id": "-t7UNmSjivG3"
      },
      "execution_count": null,
      "outputs": []
    },
    {
      "cell_type": "code",
      "source": [
        "import matplotlib.pyplot as plt\n",
        "import numpy as np\n",
        "import pandas as pd\n",
        "import torch\n",
        "from chronos import ChronosPipeline\n",
        "\n",
        "pipeline = ChronosPipeline.from_pretrained(\n",
        "  \"amazon/chronos-t5-tiny\",\n",
        "  #device_map=\"cuda\",\n",
        "  torch_dtype=torch.bfloat16,\n",
        ")\n",
        "\n",
        "df = pd.read_csv(\"https://raw.githubusercontent.com/AileenNielsen/TimeSeriesAnalysisWithPython/master/data/AirPassengers.csv\")\n",
        "\n",
        "# context must be either a 1D tensor, a list of 1D tensors,\n",
        "# or a left-padded 2D tensor with batch as the first dimension\n",
        "context = torch.tensor(df[\"#Passengers\"])\n",
        "prediction_length = 12\n",
        "forecast = pipeline.predict(context, prediction_length)  # shape [num_series, num_samples, prediction_length]\n",
        "\n",
        "# visualize the forecast\n",
        "forecast_index = range(len(df), len(df) + prediction_length)\n",
        "low, median, high = np.quantile(forecast[0].numpy(), [0.1, 0.5, 0.9], axis=0)\n",
        "\n",
        "plt.figure(figsize=(8, 4))\n",
        "plt.plot(df[\"#Passengers\"], color=\"royalblue\", label=\"historical data\")\n",
        "plt.plot(forecast_index, median, color=\"tomato\", label=\"median forecast\")\n",
        "plt.fill_between(forecast_index, low, high, color=\"tomato\", alpha=0.3, label=\"80% prediction interval\")\n",
        "plt.legend()\n",
        "plt.grid()\n",
        "plt.show()"
      ],
      "metadata": {
        "id": "LVMe9o3BMIzR",
        "colab": {
          "base_uri": "https://localhost:8080/",
          "height": 400,
          "referenced_widgets": [
            "4a43145d3d68477d92e506af57231253",
            "9fcef158782746cc9fcfca78df026288",
            "a2ea3f0fecb345feb71d25922fc79394",
            "084627ae65bc479abd53cb58b13580e5",
            "0207e953773a4ffab3da1cf245d8fd86",
            "2971018ec7aa4f6ea561d26b978dfb83",
            "f3c640cacb174e26b11a5f39f5e932aa",
            "630870603d6b4495b155f3be38ad9adc",
            "4b500b61e3dc43e8bf6ed1f9088a2bf9",
            "59095acfd653414a90b7f3d713568a59",
            "ce5a15eadcb44858a159455204691837"
          ]
        },
        "outputId": "d9a0c426-c56e-4a13-fdc0-7557eebe4a28"
      },
      "execution_count": 3,
      "outputs": [
        {
          "output_type": "display_data",
          "data": {
            "text/plain": [
              "generation_config.json:   0%|          | 0.00/142 [00:00<?, ?B/s]"
            ],
            "application/vnd.jupyter.widget-view+json": {
              "version_major": 2,
              "version_minor": 0,
              "model_id": "4a43145d3d68477d92e506af57231253"
            }
          },
          "metadata": {}
        },
        {
          "output_type": "display_data",
          "data": {
            "text/plain": [
              "<Figure size 800x400 with 1 Axes>"
            ],
            "image/png": "[encoded data removed]"
          },
          "metadata": {}
        }
      ]
    },
    {
      "cell_type": "code",
      "source": [
        "df.head()"
      ],
      "metadata": {
        "colab": {
          "base_uri": "https://localhost:8080/",
          "height": 206
        },
        "id": "1hC7JC4BRbei",
        "outputId": "36eda382-43de-4575-e362-9a30a7ca89f9"
      },
      "execution_count": 4,
      "outputs": [
        {
          "output_type": "execute_result",
          "data": {
            "text/plain": [
              "     Month  #Passengers\n",
              "0  1949-01          112\n",
              "1  1949-02          118\n",
              "2  1949-03          132\n",
              "3  1949-04          129\n",
              "4  1949-05          121"
            ],
            "text/html": [
              "\n",
              "  <div id=\"df-65d65e53-5291-4877-8174-63dabc384e2a\" class=\"colab-df-container\">\n",
              "    <div>\n",
              "<style scoped>\n",
              "    .dataframe tbody tr th:only-of-type {\n",
              "        vertical-align: middle;\n",
              "    }\n",
              "\n",
              "    .dataframe tbody tr th {\n",
              "        vertical-align: top;\n",
              "    }\n",
              "\n",
              "    .dataframe thead th {\n",
              "        text-align: right;\n",
              "    }\n",
              "</style>\n",
              "<table border=\"1\" class=\"dataframe\">\n",
              "  <thead>\n",
              "    <tr style=\"text-align: right;\">\n",
              "      <th></th>\n",
              "      <th>Month</th>\n",
              "      <th>#Passengers</th>\n",
              "    </tr>\n",
              "  </thead>\n",
              "  <tbody>\n",
              "    <tr>\n",
              "      <th>0</th>\n",
              "      <td>1949-01</td>\n",
              "      <td>112</td>\n",
              "    </tr>\n",
              "    <tr>\n",
              "      <th>1</th>\n",
              "      <td>1949-02</td>\n",
              "      <td>118</td>\n",
              "    </tr>\n",
              "    <tr>\n",
              "      <th>2</th>\n",
              "      <td>1949-03</td>\n",
              "      <td>132</td>\n",
              "    </tr>\n",
              "    <tr>\n",
              "      <th>3</th>\n",
              "      <td>1949-04</td>\n",
              "      <td>129</td>\n",
              "    </tr>\n",
              "    <tr>\n",
              "      <th>4</th>\n",
              "      <td>1949-05</td>\n",
              "      <td>121</td>\n",
              "    </tr>\n",
              "  </tbody>\n",
              "</table>\n",
              "</div>\n",
              "    <div class=\"colab-df-buttons\">\n",
              "\n",
              "  <div class=\"colab-df-container\">\n",
              "    <button class=\"colab-df-convert\" onclick=\"convertToInteractive('df-65d65e53-5291-4877-8174-63dabc384e2a')\"\n",
              "            title=\"Convert this dataframe to an interactive table.\"\n",
              "            style=\"display:none;\">\n",
              "\n",
              "  <svg xmlns=\"http://www.w3.org/2000/svg\" height=\"24px\" viewBox=\"0 -960 960 960\">\n",
              "    <path d=\"M120-120v-720h720v720H120Zm60-500h600v-160H180v160Zm220 220h160v-160H400v160Zm0 220h160v-160H400v160ZM180-400h160v-160H180v160Zm440 0h160v-160H620v160ZM180-180h160v-160H180v160Zm440 0h160v-160H620v160Z\"/>\n",
              "  </svg>\n",
              "    </button>\n",
              "\n",
              "  <style>\n",
              "    .colab-df-container {\n",
              "      display:flex;\n",
              "      gap: 12px;\n",
              "    }\n",
              "\n",
              "    .colab-df-convert {\n",
              "      background-color: #E8F0FE;\n",
              "      border: none;\n",
              "      border-radius: 50%;\n",
              "      cursor: pointer;\n",
              "      display: none;\n",
              "      fill: #1967D2;\n",
              "      height: 32px;\n",
              "      padding: 0 0 0 0;\n",
              "      width: 32px;\n",
              "    }\n",
              "\n",
              "    .colab-df-convert:hover {\n",
              "      background-color: #E2EBFA;\n",
              "      box-shadow: 0px 1px 2px rgba(60, 64, 67, 0.3), 0px 1px 3px 1px rgba(60, 64, 67, 0.15);\n",
              "      fill: #174EA6;\n",
              "    }\n",
              "\n",
              "    .colab-df-buttons div {\n",
              "      margin-bottom: 4px;\n",
              "    }\n",
              "\n",
              "    [theme=dark] .colab-df-convert {\n",
              "      background-color: #3B4455;\n",
              "      fill: #D2E3FC;\n",
              "    }\n",
              "\n",
              "    [theme=dark] .colab-df-convert:hover {\n",
              "      background-color: #434B5C;\n",
              "      box-shadow: 0px 1px 3px 1px rgba(0, 0, 0, 0.15);\n",
              "      filter: drop-shadow(0px 1px 2px rgba(0, 0, 0, 0.3));\n",
              "      fill: #FFFFFF;\n",
              "    }\n",
              "  </style>\n",
              "\n",
              "    <script>\n",
              "      const buttonEl =\n",
              "        document.querySelector('#df-65d65e53-5291-4877-8174-63dabc384e2a button.colab-df-convert');\n",
              "      buttonEl.style.display =\n",
              "        google.colab.kernel.accessAllowed ? 'block' : 'none';\n",
              "\n",
              "      async function convertToInteractive(key) {\n",
              "        const element = document.querySelector('#df-65d65e53-5291-4877-8174-63dabc384e2a');\n",
              "        const dataTable =\n",
              "          await google.colab.kernel.invokeFunction('convertToInteractive',\n",
              "                                                    [key], {});\n",
              "        if (!dataTable) return;\n",
              "\n",
              "        const docLinkHtml = 'Like what you see? Visit the ' +\n",
              "          '<a target=\"_blank\" href=https://colab.research.google.com/notebooks/data_table.ipynb>data table notebook</a>'\n",
              "          + ' to learn more about interactive tables.';\n",
              "        element.innerHTML = '';\n",
              "        dataTable['output_type'] = 'display_data';\n",
              "        await google.colab.output.renderOutput(dataTable, element);\n",
              "        const docLink = document.createElement('div');\n",
              "        docLink.innerHTML = docLinkHtml;\n",
              "        element.appendChild(docLink);\n",
              "      }\n",
              "    </script>\n",
              "  </div>\n",
              "\n",
              "\n",
              "<div id=\"df-b8b09af9-02a9-4f85-9bea-9c1b8409d792\">\n",
              "  <button class=\"colab-df-quickchart\" onclick=\"quickchart('df-b8b09af9-02a9-4f85-9bea-9c1b8409d792')\"\n",
              "            title=\"Suggest charts\"\n",
              "            style=\"display:none;\">\n",
              "\n",
              "<svg xmlns=\"http://www.w3.org/2000/svg\" height=\"24px\"viewBox=\"0 0 24 24\"\n",
              "     width=\"24px\">\n",
              "    <g>\n",
              "        <path d=\"M19 3H5c-1.1 0-2 .9-2 2v14c0 1.1.9 2 2 2h14c1.1 0 2-.9 2-2V5c0-1.1-.9-2-2-2zM9 17H7v-7h2v7zm4 0h-2V7h2v10zm4 0h-2v-4h2v4z\"/>\n",
              "    </g>\n",
              "</svg>\n",
              "  </button>\n",
              "\n",
              "<style>\n",
              "  .colab-df-quickchart {\n",
              "      --bg-color: #E8F0FE;\n",
              "      --fill-color: #1967D2;\n",
              "      --hover-bg-color: #E2EBFA;\n",
              "      --hover-fill-color: #174EA6;\n",
              "      --disabled-fill-color: #AAA;\n",
              "      --disabled-bg-color: #DDD;\n",
              "  }\n",
              "\n",
              "  [theme=dark] .colab-df-quickchart {\n",
              "      --bg-color: #3B4455;\n",
              "      --fill-color: #D2E3FC;\n",
              "      --hover-bg-color: #434B5C;\n",
              "      --hover-fill-color: #FFFFFF;\n",
              "      --disabled-bg-color: #3B4455;\n",
              "      --disabled-fill-color: #666;\n",
              "  }\n",
              "\n",
              "  .colab-df-quickchart {\n",
              "    background-color: var(--bg-color);\n",
              "    border: none;\n",
              "    border-radius: 50%;\n",
              "    cursor: pointer;\n",
              "    display: none;\n",
              "    fill: var(--fill-color);\n",
              "    height: 32px;\n",
              "    padding: 0;\n",
              "    width: 32px;\n",
              "  }\n",
              "\n",
              "  .colab-df-quickchart:hover {\n",
              "    background-color: var(--hover-bg-color);\n",
              "    box-shadow: 0 1px 2px rgba(60, 64, 67, 0.3), 0 1px 3px 1px rgba(60, 64, 67, 0.15);\n",
              "    fill: var(--button-hover-fill-color);\n",
              "  }\n",
              "\n",
              "  .colab-df-quickchart-complete:disabled,\n",
              "  .colab-df-quickchart-complete:disabled:hover {\n",
              "    background-color: var(--disabled-bg-color);\n",
              "    fill: var(--disabled-fill-color);\n",
              "    box-shadow: none;\n",
              "  }\n",
              "\n",
              "  .colab-df-spinner {\n",
              "    border: 2px solid var(--fill-color);\n",
              "    border-color: transparent;\n",
              "    border-bottom-color: var(--fill-color);\n",
              "    animation:\n",
              "      spin 1s steps(1) infinite;\n",
              "  }\n",
              "\n",
              "  @keyframes spin {\n",
              "    0% {\n",
              "      border-color: transparent;\n",
              "      border-bottom-color: var(--fill-color);\n",
              "      border-left-color: var(--fill-color);\n",
              "    }\n",
              "    20% {\n",
              "      border-color: transparent;\n",
              "      border-left-color: var(--fill-color);\n",
              "      border-top-color: var(--fill-color);\n",
              "    }\n",
              "    30% {\n",
              "      border-color: transparent;\n",
              "      border-left-color: var(--fill-color);\n",
              "      border-top-color: var(--fill-color);\n",
              "      border-right-color: var(--fill-color);\n",
              "    }\n",
              "    40% {\n",
              "      border-color: transparent;\n",
              "      border-right-color: var(--fill-color);\n",
              "      border-top-color: var(--fill-color);\n",
              "    }\n",
              "    60% {\n",
              "      border-color: transparent;\n",
              "      border-right-color: var(--fill-color);\n",
              "    }\n",
              "    80% {\n",
              "      border-color: transparent;\n",
              "      border-right-color: var(--fill-color);\n",
              "      border-bottom-color: var(--fill-color);\n",
              "    }\n",
              "    90% {\n",
              "      border-color: transparent;\n",
              "      border-bottom-color: var(--fill-color);\n",
              "    }\n",
              "  }\n",
              "</style>\n",
              "\n",
              "  <script>\n",
              "    async function quickchart(key) {\n",
              "      const quickchartButtonEl =\n",
              "        document.querySelector('#' + key + ' button');\n",
              "      quickchartButtonEl.disabled = true;  // To prevent multiple clicks.\n",
              "      quickchartButtonEl.classList.add('colab-df-spinner');\n",
              "      try {\n",
              "        const charts = await google.colab.kernel.invokeFunction(\n",
              "            'suggestCharts', [key], {});\n",
              "      } catch (error) {\n",
              "        console.error('Error during call to suggestCharts:', error);\n",
              "      }\n",
              "      quickchartButtonEl.classList.remove('colab-df-spinner');\n",
              "      quickchartButtonEl.classList.add('colab-df-quickchart-complete');\n",
              "    }\n",
              "    (() => {\n",
              "      let quickchartButtonEl =\n",
              "        document.querySelector('#df-b8b09af9-02a9-4f85-9bea-9c1b8409d792 button');\n",
              "      quickchartButtonEl.style.display =\n",
              "        google.colab.kernel.accessAllowed ? 'block' : 'none';\n",
              "    })();\n",
              "  </script>\n",
              "</div>\n",
              "    </div>\n",
              "  </div>\n"
            ],
            "application/vnd.google.colaboratory.intrinsic+json": {
              "type": "dataframe",
              "variable_name": "df",
              "summary": "{\n  \"name\": \"df\",\n  \"rows\": 144,\n  \"fields\": [\n    {\n      \"column\": \"Month\",\n      \"properties\": {\n        \"dtype\": \"object\",\n        \"num_unique_values\": 144,\n        \"samples\": [\n          \"1958-10\",\n          \"1950-08\",\n          \"1955-11\"\n        ],\n        \"semantic_type\": \"\",\n        \"description\": \"\"\n      }\n    },\n    {\n      \"column\": \"#Passengers\",\n      \"properties\": {\n        \"dtype\": \"number\",\n        \"std\": 119,\n        \"min\": 104,\n        \"max\": 622,\n        \"num_unique_values\": 118,\n        \"samples\": [\n          293,\n          340,\n          121\n        ],\n        \"semantic_type\": \"\",\n        \"description\": \"\"\n      }\n    }\n  ]\n}"
            }
          },
          "metadata": {},
          "execution_count": 4
        }
      ]
    },
    {
      "cell_type": "code",
      "source": [],
      "metadata": {
        "id": "USBBckiqdfql"
      },
      "execution_count": null,
      "outputs": []
    }
  ]
}