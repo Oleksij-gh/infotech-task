{
  "nbformat": 4,
  "nbformat_minor": 0,
  "metadata": {
    "colab": {
      "provenance": [],
      "collapsed_sections": [
        "D2aESJBPoR4y",
        "eAD3-X-3oWlL",
        "7j0wU282mo3X",
        "XGC_BPkYmqS_",
        "zwcg4a2enQUh",
        "AkPKSwM_0CJY",
        "6m2gIVL40E5z",
        "x7rRbjXv0HlH"
      ],
      "mount_file_id": "15PwHoaUeQRve647nNDUX0XpuG8KxJVJ2",
      "authorship_tag": "ABX9TyNWmC5XyHf+9Wb1Zzm/tKHK",
      "include_colab_link": true
    },
    "kernelspec": {
      "name": "python3",
      "display_name": "Python 3"
    },
    "language_info": {
      "name": "python"
    }
  },
  "cells": [
    {
      "cell_type": "markdown",
      "metadata": {
        "id": "view-in-github",
        "colab_type": "text"
      },
      "source": [
        "<a href=\"https://colab.research.google.com/github/Oleksij-gh/infotech-task/blob/main/infotech_test_task.ipynb\" target=\"_parent\"><img src=\"https://colab.research.google.com/assets/colab-badge.svg\" alt=\"Open In Colab\"/></a>"
      ]
    },
    {
      "cell_type": "markdown",
      "source": [
        "# 1. Libs"
      ],
      "metadata": {
        "id": "D2aESJBPoR4y"
      }
    },
    {
      "cell_type": "code",
      "execution_count": 1,
      "metadata": {
        "id": "t8K6IZDcKEyl"
      },
      "outputs": [],
      "source": [
        "import copy\n",
        "import pandas as pd\n",
        "import numpy as np\n",
        "from tqdm import tqdm\n",
        "from matplotlib import pyplot as plt"
      ]
    },
    {
      "cell_type": "markdown",
      "source": [
        "# 2. Loading Data"
      ],
      "metadata": {
        "id": "eAD3-X-3oWlL"
      }
    },
    {
      "cell_type": "code",
      "source": [
        "!gdown #link to data"
      ],
      "metadata": {
        "colab": {
          "base_uri": "https://localhost:8080/"
        },
        "id": "beYiDgqDg_fE",
        "outputId": "93986198-180e-428b-8574-7876c39b672b"
      },
      "execution_count": 2,
      "outputs": [
        {
          "output_type": "stream",
          "name": "stdout",
          "text": [
            "Downloading...\n",
            "From: https://drive.google.com/uc?id=1FYaj-YQn7WADkCflz8-4Q89G9Aj8XxOi\n",
            "To: /content/schedule_dataset.xlsx\n",
            "\r  0% 0.00/8.31M [00:00<?, ?B/s]\r 63% 5.24M/8.31M [00:00<00:00, 49.0MB/s]\r100% 8.31M/8.31M [00:00<00:00, 64.7MB/s]\n"
          ]
        }
      ]
    },
    {
      "cell_type": "markdown",
      "source": [],
      "metadata": {
        "id": "o6uIrAGRoUpn"
      }
    },
    {
      "cell_type": "code",
      "source": [
        "df_origin = pd.read_excel('/content/schedule_dataset.xlsx')"
      ],
      "metadata": {
        "id": "Tj88JREKLT0z"
      },
      "execution_count": 3,
      "outputs": []
    },
    {
      "cell_type": "code",
      "source": [
        "df_origin.head()"
      ],
      "metadata": {
        "colab": {
          "base_uri": "https://localhost:8080/",
          "height": 206
        },
        "id": "SZCXf3YoLX6a",
        "outputId": "18e8c296-f2ba-43ae-96b7-c0a452ae8e40"
      },
      "execution_count": 4,
      "outputs": [
        {
          "output_type": "execute_result",
          "data": {
            "text/plain": [
              "  Дата рейса  Рейс А/П отправл А/П прибыт  Номер ВС  \\\n",
              "0 2018-03-01     1         MOW        ARH         1   \n",
              "1 2018-03-01     2         MOW        EGO         2   \n",
              "2 2018-03-01     3         MOW        AKX         3   \n",
              "3 2018-03-01     4         LED        MOW         4   \n",
              "4 2018-03-01     5         MOW        KRR         5   \n",
              "\n",
              "  Время отправления по расписанию Время отправления фактическое  \\\n",
              "0             2018-03-01 00:05:00           2018-02-28 23:48:00   \n",
              "1             2018-03-01 00:05:00           2018-03-01 00:00:00   \n",
              "2             2018-03-01 00:15:00           2018-03-01 00:14:00   \n",
              "3             2018-03-01 00:20:00           2018-03-01 00:11:00   \n",
              "4             2018-03-01 00:25:00           2018-03-01 00:21:00   \n",
              "\n",
              "  Время прибытия по расписанию Время прибытия фактическое  \n",
              "0          2018-03-01 02:00:00        2018-03-01 01:48:00  \n",
              "1          2018-03-01 01:30:00        2018-03-01 01:55:00  \n",
              "2          2018-03-01 02:40:00        2018-03-01 02:32:00  \n",
              "3          2018-03-01 01:35:00        2018-03-01 01:39:00  \n",
              "4          2018-03-01 02:40:00        2018-03-01 02:41:00  "
            ],
            "text/html": [
              "\n",
              "  <div id=\"df-0da37370-2611-47fd-b34c-ded6bf5973c8\" class=\"colab-df-container\">\n",
              "    <div>\n",
              "<style scoped>\n",
              "    .dataframe tbody tr th:only-of-type {\n",
              "        vertical-align: middle;\n",
              "    }\n",
              "\n",
              "    .dataframe tbody tr th {\n",
              "        vertical-align: top;\n",
              "    }\n",
              "\n",
              "    .dataframe thead th {\n",
              "        text-align: right;\n",
              "    }\n",
              "</style>\n",
              "<table border=\"1\" class=\"dataframe\">\n",
              "  <thead>\n",
              "    <tr style=\"text-align: right;\">\n",
              "      <th></th>\n",
              "      <th>Дата рейса</th>\n",
              "      <th>Рейс</th>\n",
              "      <th>А/П отправл</th>\n",
              "      <th>А/П прибыт</th>\n",
              "      <th>Номер ВС</th>\n",
              "      <th>Время отправления по расписанию</th>\n",
              "      <th>Время отправления фактическое</th>\n",
              "      <th>Время прибытия по расписанию</th>\n",
              "      <th>Время прибытия фактическое</th>\n",
              "    </tr>\n",
              "  </thead>\n",
              "  <tbody>\n",
              "    <tr>\n",
              "      <th>0</th>\n",
              "      <td>2018-03-01</td>\n",
              "      <td>1</td>\n",
              "      <td>MOW</td>\n",
              "      <td>ARH</td>\n",
              "      <td>1</td>\n",
              "      <td>2018-03-01 00:05:00</td>\n",
              "      <td>2018-02-28 23:48:00</td>\n",
              "      <td>2018-03-01 02:00:00</td>\n",
              "      <td>2018-03-01 01:48:00</td>\n",
              "    </tr>\n",
              "    <tr>\n",
              "      <th>1</th>\n",
              "      <td>2018-03-01</td>\n",
              "      <td>2</td>\n",
              "      <td>MOW</td>\n",
              "      <td>EGO</td>\n",
              "      <td>2</td>\n",
              "      <td>2018-03-01 00:05:00</td>\n",
              "      <td>2018-03-01 00:00:00</td>\n",
              "      <td>2018-03-01 01:30:00</td>\n",
              "      <td>2018-03-01 01:55:00</td>\n",
              "    </tr>\n",
              "    <tr>\n",
              "      <th>2</th>\n",
              "      <td>2018-03-01</td>\n",
              "      <td>3</td>\n",
              "      <td>MOW</td>\n",
              "      <td>AKX</td>\n",
              "      <td>3</td>\n",
              "      <td>2018-03-01 00:15:00</td>\n",
              "      <td>2018-03-01 00:14:00</td>\n",
              "      <td>2018-03-01 02:40:00</td>\n",
              "      <td>2018-03-01 02:32:00</td>\n",
              "    </tr>\n",
              "    <tr>\n",
              "      <th>3</th>\n",
              "      <td>2018-03-01</td>\n",
              "      <td>4</td>\n",
              "      <td>LED</td>\n",
              "      <td>MOW</td>\n",
              "      <td>4</td>\n",
              "      <td>2018-03-01 00:20:00</td>\n",
              "      <td>2018-03-01 00:11:00</td>\n",
              "      <td>2018-03-01 01:35:00</td>\n",
              "      <td>2018-03-01 01:39:00</td>\n",
              "    </tr>\n",
              "    <tr>\n",
              "      <th>4</th>\n",
              "      <td>2018-03-01</td>\n",
              "      <td>5</td>\n",
              "      <td>MOW</td>\n",
              "      <td>KRR</td>\n",
              "      <td>5</td>\n",
              "      <td>2018-03-01 00:25:00</td>\n",
              "      <td>2018-03-01 00:21:00</td>\n",
              "      <td>2018-03-01 02:40:00</td>\n",
              "      <td>2018-03-01 02:41:00</td>\n",
              "    </tr>\n",
              "  </tbody>\n",
              "</table>\n",
              "</div>\n",
              "    <div class=\"colab-df-buttons\">\n",
              "\n",
              "  <div class=\"colab-df-container\">\n",
              "    <button class=\"colab-df-convert\" onclick=\"convertToInteractive('df-0da37370-2611-47fd-b34c-ded6bf5973c8')\"\n",
              "            title=\"Convert this dataframe to an interactive table.\"\n",
              "            style=\"display:none;\">\n",
              "\n",
              "  <svg xmlns=\"http://www.w3.org/2000/svg\" height=\"24px\" viewBox=\"0 -960 960 960\">\n",
              "    <path d=\"M120-120v-720h720v720H120Zm60-500h600v-160H180v160Zm220 220h160v-160H400v160Zm0 220h160v-160H400v160ZM180-400h160v-160H180v160Zm440 0h160v-160H620v160ZM180-180h160v-160H180v160Zm440 0h160v-160H620v160Z\"/>\n",
              "  </svg>\n",
              "    </button>\n",
              "\n",
              "  <style>\n",
              "    .colab-df-container {\n",
              "      display:flex;\n",
              "      gap: 12px;\n",
              "    }\n",
              "\n",
              "    .colab-df-convert {\n",
              "      background-color: #E8F0FE;\n",
              "      border: none;\n",
              "      border-radius: 50%;\n",
              "      cursor: pointer;\n",
              "      display: none;\n",
              "      fill: #1967D2;\n",
              "      height: 32px;\n",
              "      padding: 0 0 0 0;\n",
              "      width: 32px;\n",
              "    }\n",
              "\n",
              "    .colab-df-convert:hover {\n",
              "      background-color: #E2EBFA;\n",
              "      box-shadow: 0px 1px 2px rgba(60, 64, 67, 0.3), 0px 1px 3px 1px rgba(60, 64, 67, 0.15);\n",
              "      fill: #174EA6;\n",
              "    }\n",
              "\n",
              "    .colab-df-buttons div {\n",
              "      margin-bottom: 4px;\n",
              "    }\n",
              "\n",
              "    [theme=dark] .colab-df-convert {\n",
              "      background-color: #3B4455;\n",
              "      fill: #D2E3FC;\n",
              "    }\n",
              "\n",
              "    [theme=dark] .colab-df-convert:hover {\n",
              "      background-color: #434B5C;\n",
              "      box-shadow: 0px 1px 3px 1px rgba(0, 0, 0, 0.15);\n",
              "      filter: drop-shadow(0px 1px 2px rgba(0, 0, 0, 0.3));\n",
              "      fill: #FFFFFF;\n",
              "    }\n",
              "  </style>\n",
              "\n",
              "    <script>\n",
              "      const buttonEl =\n",
              "        document.querySelector('#df-0da37370-2611-47fd-b34c-ded6bf5973c8 button.colab-df-convert');\n",
              "      buttonEl.style.display =\n",
              "        google.colab.kernel.accessAllowed ? 'block' : 'none';\n",
              "\n",
              "      async function convertToInteractive(key) {\n",
              "        const element = document.querySelector('#df-0da37370-2611-47fd-b34c-ded6bf5973c8');\n",
              "        const dataTable =\n",
              "          await google.colab.kernel.invokeFunction('convertToInteractive',\n",
              "                                                    [key], {});\n",
              "        if (!dataTable) return;\n",
              "\n",
              "        const docLinkHtml = 'Like what you see? Visit the ' +\n",
              "          '<a target=\"_blank\" href=https://colab.research.google.com/notebooks/data_table.ipynb>data table notebook</a>'\n",
              "          + ' to learn more about interactive tables.';\n",
              "        element.innerHTML = '';\n",
              "        dataTable['output_type'] = 'display_data';\n",
              "        await google.colab.output.renderOutput(dataTable, element);\n",
              "        const docLink = document.createElement('div');\n",
              "        docLink.innerHTML = docLinkHtml;\n",
              "        element.appendChild(docLink);\n",
              "      }\n",
              "    </script>\n",
              "  </div>\n",
              "\n",
              "\n",
              "<div id=\"df-df20b053-6cb8-48ff-b2ae-75b25ba95dfd\">\n",
              "  <button class=\"colab-df-quickchart\" onclick=\"quickchart('df-df20b053-6cb8-48ff-b2ae-75b25ba95dfd')\"\n",
              "            title=\"Suggest charts\"\n",
              "            style=\"display:none;\">\n",
              "\n",
              "<svg xmlns=\"http://www.w3.org/2000/svg\" height=\"24px\"viewBox=\"0 0 24 24\"\n",
              "     width=\"24px\">\n",
              "    <g>\n",
              "        <path d=\"M19 3H5c-1.1 0-2 .9-2 2v14c0 1.1.9 2 2 2h14c1.1 0 2-.9 2-2V5c0-1.1-.9-2-2-2zM9 17H7v-7h2v7zm4 0h-2V7h2v10zm4 0h-2v-4h2v4z\"/>\n",
              "    </g>\n",
              "</svg>\n",
              "  </button>\n",
              "\n",
              "<style>\n",
              "  .colab-df-quickchart {\n",
              "      --bg-color: #E8F0FE;\n",
              "      --fill-color: #1967D2;\n",
              "      --hover-bg-color: #E2EBFA;\n",
              "      --hover-fill-color: #174EA6;\n",
              "      --disabled-fill-color: #AAA;\n",
              "      --disabled-bg-color: #DDD;\n",
              "  }\n",
              "\n",
              "  [theme=dark] .colab-df-quickchart {\n",
              "      --bg-color: #3B4455;\n",
              "      --fill-color: #D2E3FC;\n",
              "      --hover-bg-color: #434B5C;\n",
              "      --hover-fill-color: #FFFFFF;\n",
              "      --disabled-bg-color: #3B4455;\n",
              "      --disabled-fill-color: #666;\n",
              "  }\n",
              "\n",
              "  .colab-df-quickchart {\n",
              "    background-color: var(--bg-color);\n",
              "    border: none;\n",
              "    border-radius: 50%;\n",
              "    cursor: pointer;\n",
              "    display: none;\n",
              "    fill: var(--fill-color);\n",
              "    height: 32px;\n",
              "    padding: 0;\n",
              "    width: 32px;\n",
              "  }\n",
              "\n",
              "  .colab-df-quickchart:hover {\n",
              "    background-color: var(--hover-bg-color);\n",
              "    box-shadow: 0 1px 2px rgba(60, 64, 67, 0.3), 0 1px 3px 1px rgba(60, 64, 67, 0.15);\n",
              "    fill: var(--button-hover-fill-color);\n",
              "  }\n",
              "\n",
              "  .colab-df-quickchart-complete:disabled,\n",
              "  .colab-df-quickchart-complete:disabled:hover {\n",
              "    background-color: var(--disabled-bg-color);\n",
              "    fill: var(--disabled-fill-color);\n",
              "    box-shadow: none;\n",
              "  }\n",
              "\n",
              "  .colab-df-spinner {\n",
              "    border: 2px solid var(--fill-color);\n",
              "    border-color: transparent;\n",
              "    border-bottom-color: var(--fill-color);\n",
              "    animation:\n",
              "      spin 1s steps(1) infinite;\n",
              "  }\n",
              "\n",
              "  @keyframes spin {\n",
              "    0% {\n",
              "      border-color: transparent;\n",
              "      border-bottom-color: var(--fill-color);\n",
              "      border-left-color: var(--fill-color);\n",
              "    }\n",
              "    20% {\n",
              "      border-color: transparent;\n",
              "      border-left-color: var(--fill-color);\n",
              "      border-top-color: var(--fill-color);\n",
              "    }\n",
              "    30% {\n",
              "      border-color: transparent;\n",
              "      border-left-color: var(--fill-color);\n",
              "      border-top-color: var(--fill-color);\n",
              "      border-right-color: var(--fill-color);\n",
              "    }\n",
              "    40% {\n",
              "      border-color: transparent;\n",
              "      border-right-color: var(--fill-color);\n",
              "      border-top-color: var(--fill-color);\n",
              "    }\n",
              "    60% {\n",
              "      border-color: transparent;\n",
              "      border-right-color: var(--fill-color);\n",
              "    }\n",
              "    80% {\n",
              "      border-color: transparent;\n",
              "      border-right-color: var(--fill-color);\n",
              "      border-bottom-color: var(--fill-color);\n",
              "    }\n",
              "    90% {\n",
              "      border-color: transparent;\n",
              "      border-bottom-color: var(--fill-color);\n",
              "    }\n",
              "  }\n",
              "</style>\n",
              "\n",
              "  <script>\n",
              "    async function quickchart(key) {\n",
              "      const quickchartButtonEl =\n",
              "        document.querySelector('#' + key + ' button');\n",
              "      quickchartButtonEl.disabled = true;  // To prevent multiple clicks.\n",
              "      quickchartButtonEl.classList.add('colab-df-spinner');\n",
              "      try {\n",
              "        const charts = await google.colab.kernel.invokeFunction(\n",
              "            'suggestCharts', [key], {});\n",
              "      } catch (error) {\n",
              "        console.error('Error during call to suggestCharts:', error);\n",
              "      }\n",
              "      quickchartButtonEl.classList.remove('colab-df-spinner');\n",
              "      quickchartButtonEl.classList.add('colab-df-quickchart-complete');\n",
              "    }\n",
              "    (() => {\n",
              "      let quickchartButtonEl =\n",
              "        document.querySelector('#df-df20b053-6cb8-48ff-b2ae-75b25ba95dfd button');\n",
              "      quickchartButtonEl.style.display =\n",
              "        google.colab.kernel.accessAllowed ? 'block' : 'none';\n",
              "    })();\n",
              "  </script>\n",
              "</div>\n",
              "    </div>\n",
              "  </div>\n"
            ],
            "application/vnd.google.colaboratory.intrinsic+json": {
              "type": "dataframe",
              "variable_name": "df_origin"
            }
          },
          "metadata": {},
          "execution_count": 4
        }
      ]
    },
    {
      "cell_type": "markdown",
      "source": [
        "После считывания датасета столбцы с временем неправильно преобразовались"
      ],
      "metadata": {
        "id": "VmZaASWHx5QD"
      }
    },
    {
      "cell_type": "markdown",
      "source": [
        "# Визуальный анализ"
      ],
      "metadata": {
        "id": "AjIFpp_0oigA"
      }
    },
    {
      "cell_type": "code",
      "source": [
        "df = df_origin.copy()"
      ],
      "metadata": {
        "id": "8EQw0AzZudzT"
      },
      "execution_count": 5,
      "outputs": []
    },
    {
      "cell_type": "code",
      "source": [
        "from matplotlib import pyplot as plt\n",
        "import seaborn as sns"
      ],
      "metadata": {
        "id": "8WhSt69dUEOS"
      },
      "execution_count": 6,
      "outputs": []
    },
    {
      "cell_type": "markdown",
      "source": [
        "Переименование столбцов"
      ],
      "metadata": {
        "id": "Bcbu2cwgorFE"
      }
    },
    {
      "cell_type": "code",
      "source": [
        "df  = df.rename(columns={'Дата рейса': 'flight_date',\n",
        "                   'Рейс': 'flight',\n",
        "                   'А/П отправл': 'airport_out',\n",
        "                   'А/П прибыт': 'airport_in',\n",
        "                   'Номер ВС': 'air_number',\n",
        "                   'Время отправления по расписанию': 'scheduled_time_out',\n",
        "                   'Время отправления фактическое': 'actual_time_out',\n",
        "                   'Время прибытия по расписанию': 'scheduled_time_in',\n",
        "                   'Время прибытия фактическое': 'actual_time_in'})"
      ],
      "metadata": {
        "id": "pSYuRoA5okYT"
      },
      "execution_count": 7,
      "outputs": []
    },
    {
      "cell_type": "code",
      "source": [
        "df.head()"
      ],
      "metadata": {
        "colab": {
          "base_uri": "https://localhost:8080/",
          "height": 206
        },
        "id": "suq8hXHu2JSg",
        "outputId": "9442fc0e-95e6-4d0a-a373-824a5ccfe8bd"
      },
      "execution_count": 8,
      "outputs": [
        {
          "output_type": "execute_result",
          "data": {
            "text/plain": [
              "  flight_date  flight airport_out airport_in  air_number  scheduled_time_out  \\\n",
              "0  2018-03-01       1         MOW        ARH           1 2018-03-01 00:05:00   \n",
              "1  2018-03-01       2         MOW        EGO           2 2018-03-01 00:05:00   \n",
              "2  2018-03-01       3         MOW        AKX           3 2018-03-01 00:15:00   \n",
              "3  2018-03-01       4         LED        MOW           4 2018-03-01 00:20:00   \n",
              "4  2018-03-01       5         MOW        KRR           5 2018-03-01 00:25:00   \n",
              "\n",
              "      actual_time_out   scheduled_time_in      actual_time_in  \n",
              "0 2018-02-28 23:48:00 2018-03-01 02:00:00 2018-03-01 01:48:00  \n",
              "1 2018-03-01 00:00:00 2018-03-01 01:30:00 2018-03-01 01:55:00  \n",
              "2 2018-03-01 00:14:00 2018-03-01 02:40:00 2018-03-01 02:32:00  \n",
              "3 2018-03-01 00:11:00 2018-03-01 01:35:00 2018-03-01 01:39:00  \n",
              "4 2018-03-01 00:21:00 2018-03-01 02:40:00 2018-03-01 02:41:00  "
            ],
            "text/html": [
              "\n",
              "  <div id=\"df-29595b36-f643-435a-a881-5edc98f37567\" class=\"colab-df-container\">\n",
              "    <div>\n",
              "<style scoped>\n",
              "    .dataframe tbody tr th:only-of-type {\n",
              "        vertical-align: middle;\n",
              "    }\n",
              "\n",
              "    .dataframe tbody tr th {\n",
              "        vertical-align: top;\n",
              "    }\n",
              "\n",
              "    .dataframe thead th {\n",
              "        text-align: right;\n",
              "    }\n",
              "</style>\n",
              "<table border=\"1\" class=\"dataframe\">\n",
              "  <thead>\n",
              "    <tr style=\"text-align: right;\">\n",
              "      <th></th>\n",
              "      <th>flight_date</th>\n",
              "      <th>flight</th>\n",
              "      <th>airport_out</th>\n",
              "      <th>airport_in</th>\n",
              "      <th>air_number</th>\n",
              "      <th>scheduled_time_out</th>\n",
              "      <th>actual_time_out</th>\n",
              "      <th>scheduled_time_in</th>\n",
              "      <th>actual_time_in</th>\n",
              "    </tr>\n",
              "  </thead>\n",
              "  <tbody>\n",
              "    <tr>\n",
              "      <th>0</th>\n",
              "      <td>2018-03-01</td>\n",
              "      <td>1</td>\n",
              "      <td>MOW</td>\n",
              "      <td>ARH</td>\n",
              "      <td>1</td>\n",
              "      <td>2018-03-01 00:05:00</td>\n",
              "      <td>2018-02-28 23:48:00</td>\n",
              "      <td>2018-03-01 02:00:00</td>\n",
              "      <td>2018-03-01 01:48:00</td>\n",
              "    </tr>\n",
              "    <tr>\n",
              "      <th>1</th>\n",
              "      <td>2018-03-01</td>\n",
              "      <td>2</td>\n",
              "      <td>MOW</td>\n",
              "      <td>EGO</td>\n",
              "      <td>2</td>\n",
              "      <td>2018-03-01 00:05:00</td>\n",
              "      <td>2018-03-01 00:00:00</td>\n",
              "      <td>2018-03-01 01:30:00</td>\n",
              "      <td>2018-03-01 01:55:00</td>\n",
              "    </tr>\n",
              "    <tr>\n",
              "      <th>2</th>\n",
              "      <td>2018-03-01</td>\n",
              "      <td>3</td>\n",
              "      <td>MOW</td>\n",
              "      <td>AKX</td>\n",
              "      <td>3</td>\n",
              "      <td>2018-03-01 00:15:00</td>\n",
              "      <td>2018-03-01 00:14:00</td>\n",
              "      <td>2018-03-01 02:40:00</td>\n",
              "      <td>2018-03-01 02:32:00</td>\n",
              "    </tr>\n",
              "    <tr>\n",
              "      <th>3</th>\n",
              "      <td>2018-03-01</td>\n",
              "      <td>4</td>\n",
              "      <td>LED</td>\n",
              "      <td>MOW</td>\n",
              "      <td>4</td>\n",
              "      <td>2018-03-01 00:20:00</td>\n",
              "      <td>2018-03-01 00:11:00</td>\n",
              "      <td>2018-03-01 01:35:00</td>\n",
              "      <td>2018-03-01 01:39:00</td>\n",
              "    </tr>\n",
              "    <tr>\n",
              "      <th>4</th>\n",
              "      <td>2018-03-01</td>\n",
              "      <td>5</td>\n",
              "      <td>MOW</td>\n",
              "      <td>KRR</td>\n",
              "      <td>5</td>\n",
              "      <td>2018-03-01 00:25:00</td>\n",
              "      <td>2018-03-01 00:21:00</td>\n",
              "      <td>2018-03-01 02:40:00</td>\n",
              "      <td>2018-03-01 02:41:00</td>\n",
              "    </tr>\n",
              "  </tbody>\n",
              "</table>\n",
              "</div>\n",
              "    <div class=\"colab-df-buttons\">\n",
              "\n",
              "  <div class=\"colab-df-container\">\n",
              "    <button class=\"colab-df-convert\" onclick=\"convertToInteractive('df-29595b36-f643-435a-a881-5edc98f37567')\"\n",
              "            title=\"Convert this dataframe to an interactive table.\"\n",
              "            style=\"display:none;\">\n",
              "\n",
              "  <svg xmlns=\"http://www.w3.org/2000/svg\" height=\"24px\" viewBox=\"0 -960 960 960\">\n",
              "    <path d=\"M120-120v-720h720v720H120Zm60-500h600v-160H180v160Zm220 220h160v-160H400v160Zm0 220h160v-160H400v160ZM180-400h160v-160H180v160Zm440 0h160v-160H620v160ZM180-180h160v-160H180v160Zm440 0h160v-160H620v160Z\"/>\n",
              "  </svg>\n",
              "    </button>\n",
              "\n",
              "  <style>\n",
              "    .colab-df-container {\n",
              "      display:flex;\n",
              "      gap: 12px;\n",
              "    }\n",
              "\n",
              "    .colab-df-convert {\n",
              "      background-color: #E8F0FE;\n",
              "      border: none;\n",
              "      border-radius: 50%;\n",
              "      cursor: pointer;\n",
              "      display: none;\n",
              "      fill: #1967D2;\n",
              "      height: 32px;\n",
              "      padding: 0 0 0 0;\n",
              "      width: 32px;\n",
              "    }\n",
              "\n",
              "    .colab-df-convert:hover {\n",
              "      background-color: #E2EBFA;\n",
              "      box-shadow: 0px 1px 2px rgba(60, 64, 67, 0.3), 0px 1px 3px 1px rgba(60, 64, 67, 0.15);\n",
              "      fill: #174EA6;\n",
              "    }\n",
              "\n",
              "    .colab-df-buttons div {\n",
              "      margin-bottom: 4px;\n",
              "    }\n",
              "\n",
              "    [theme=dark] .colab-df-convert {\n",
              "      background-color: #3B4455;\n",
              "      fill: #D2E3FC;\n",
              "    }\n",
              "\n",
              "    [theme=dark] .colab-df-convert:hover {\n",
              "      background-color: #434B5C;\n",
              "      box-shadow: 0px 1px 3px 1px rgba(0, 0, 0, 0.15);\n",
              "      filter: drop-shadow(0px 1px 2px rgba(0, 0, 0, 0.3));\n",
              "      fill: #FFFFFF;\n",
              "    }\n",
              "  </style>\n",
              "\n",
              "    <script>\n",
              "      const buttonEl =\n",
              "        document.querySelector('#df-29595b36-f643-435a-a881-5edc98f37567 button.colab-df-convert');\n",
              "      buttonEl.style.display =\n",
              "        google.colab.kernel.accessAllowed ? 'block' : 'none';\n",
              "\n",
              "      async function convertToInteractive(key) {\n",
              "        const element = document.querySelector('#df-29595b36-f643-435a-a881-5edc98f37567');\n",
              "        const dataTable =\n",
              "          await google.colab.kernel.invokeFunction('convertToInteractive',\n",
              "                                                    [key], {});\n",
              "        if (!dataTable) return;\n",
              "\n",
              "        const docLinkHtml = 'Like what you see? Visit the ' +\n",
              "          '<a target=\"_blank\" href=https://colab.research.google.com/notebooks/data_table.ipynb>data table notebook</a>'\n",
              "          + ' to learn more about interactive tables.';\n",
              "        element.innerHTML = '';\n",
              "        dataTable['output_type'] = 'display_data';\n",
              "        await google.colab.output.renderOutput(dataTable, element);\n",
              "        const docLink = document.createElement('div');\n",
              "        docLink.innerHTML = docLinkHtml;\n",
              "        element.appendChild(docLink);\n",
              "      }\n",
              "    </script>\n",
              "  </div>\n",
              "\n",
              "\n",
              "<div id=\"df-686cf071-a20d-4507-8873-e35da9ccd945\">\n",
              "  <button class=\"colab-df-quickchart\" onclick=\"quickchart('df-686cf071-a20d-4507-8873-e35da9ccd945')\"\n",
              "            title=\"Suggest charts\"\n",
              "            style=\"display:none;\">\n",
              "\n",
              "<svg xmlns=\"http://www.w3.org/2000/svg\" height=\"24px\"viewBox=\"0 0 24 24\"\n",
              "     width=\"24px\">\n",
              "    <g>\n",
              "        <path d=\"M19 3H5c-1.1 0-2 .9-2 2v14c0 1.1.9 2 2 2h14c1.1 0 2-.9 2-2V5c0-1.1-.9-2-2-2zM9 17H7v-7h2v7zm4 0h-2V7h2v10zm4 0h-2v-4h2v4z\"/>\n",
              "    </g>\n",
              "</svg>\n",
              "  </button>\n",
              "\n",
              "<style>\n",
              "  .colab-df-quickchart {\n",
              "      --bg-color: #E8F0FE;\n",
              "      --fill-color: #1967D2;\n",
              "      --hover-bg-color: #E2EBFA;\n",
              "      --hover-fill-color: #174EA6;\n",
              "      --disabled-fill-color: #AAA;\n",
              "      --disabled-bg-color: #DDD;\n",
              "  }\n",
              "\n",
              "  [theme=dark] .colab-df-quickchart {\n",
              "      --bg-color: #3B4455;\n",
              "      --fill-color: #D2E3FC;\n",
              "      --hover-bg-color: #434B5C;\n",
              "      --hover-fill-color: #FFFFFF;\n",
              "      --disabled-bg-color: #3B4455;\n",
              "      --disabled-fill-color: #666;\n",
              "  }\n",
              "\n",
              "  .colab-df-quickchart {\n",
              "    background-color: var(--bg-color);\n",
              "    border: none;\n",
              "    border-radius: 50%;\n",
              "    cursor: pointer;\n",
              "    display: none;\n",
              "    fill: var(--fill-color);\n",
              "    height: 32px;\n",
              "    padding: 0;\n",
              "    width: 32px;\n",
              "  }\n",
              "\n",
              "  .colab-df-quickchart:hover {\n",
              "    background-color: var(--hover-bg-color);\n",
              "    box-shadow: 0 1px 2px rgba(60, 64, 67, 0.3), 0 1px 3px 1px rgba(60, 64, 67, 0.15);\n",
              "    fill: var(--button-hover-fill-color);\n",
              "  }\n",
              "\n",
              "  .colab-df-quickchart-complete:disabled,\n",
              "  .colab-df-quickchart-complete:disabled:hover {\n",
              "    background-color: var(--disabled-bg-color);\n",
              "    fill: var(--disabled-fill-color);\n",
              "    box-shadow: none;\n",
              "  }\n",
              "\n",
              "  .colab-df-spinner {\n",
              "    border: 2px solid var(--fill-color);\n",
              "    border-color: transparent;\n",
              "    border-bottom-color: var(--fill-color);\n",
              "    animation:\n",
              "      spin 1s steps(1) infinite;\n",
              "  }\n",
              "\n",
              "  @keyframes spin {\n",
              "    0% {\n",
              "      border-color: transparent;\n",
              "      border-bottom-color: var(--fill-color);\n",
              "      border-left-color: var(--fill-color);\n",
              "    }\n",
              "    20% {\n",
              "      border-color: transparent;\n",
              "      border-left-color: var(--fill-color);\n",
              "      border-top-color: var(--fill-color);\n",
              "    }\n",
              "    30% {\n",
              "      border-color: transparent;\n",
              "      border-left-color: var(--fill-color);\n",
              "      border-top-color: var(--fill-color);\n",
              "      border-right-color: var(--fill-color);\n",
              "    }\n",
              "    40% {\n",
              "      border-color: transparent;\n",
              "      border-right-color: var(--fill-color);\n",
              "      border-top-color: var(--fill-color);\n",
              "    }\n",
              "    60% {\n",
              "      border-color: transparent;\n",
              "      border-right-color: var(--fill-color);\n",
              "    }\n",
              "    80% {\n",
              "      border-color: transparent;\n",
              "      border-right-color: var(--fill-color);\n",
              "      border-bottom-color: var(--fill-color);\n",
              "    }\n",
              "    90% {\n",
              "      border-color: transparent;\n",
              "      border-bottom-color: var(--fill-color);\n",
              "    }\n",
              "  }\n",
              "</style>\n",
              "\n",
              "  <script>\n",
              "    async function quickchart(key) {\n",
              "      const quickchartButtonEl =\n",
              "        document.querySelector('#' + key + ' button');\n",
              "      quickchartButtonEl.disabled = true;  // To prevent multiple clicks.\n",
              "      quickchartButtonEl.classList.add('colab-df-spinner');\n",
              "      try {\n",
              "        const charts = await google.colab.kernel.invokeFunction(\n",
              "            'suggestCharts', [key], {});\n",
              "      } catch (error) {\n",
              "        console.error('Error during call to suggestCharts:', error);\n",
              "      }\n",
              "      quickchartButtonEl.classList.remove('colab-df-spinner');\n",
              "      quickchartButtonEl.classList.add('colab-df-quickchart-complete');\n",
              "    }\n",
              "    (() => {\n",
              "      let quickchartButtonEl =\n",
              "        document.querySelector('#df-686cf071-a20d-4507-8873-e35da9ccd945 button');\n",
              "      quickchartButtonEl.style.display =\n",
              "        google.colab.kernel.accessAllowed ? 'block' : 'none';\n",
              "    })();\n",
              "  </script>\n",
              "</div>\n",
              "    </div>\n",
              "  </div>\n"
            ],
            "application/vnd.google.colaboratory.intrinsic+json": {
              "type": "dataframe",
              "variable_name": "df"
            }
          },
          "metadata": {},
          "execution_count": 8
        }
      ]
    },
    {
      "cell_type": "code",
      "source": [
        "df.head()"
      ],
      "metadata": {
        "colab": {
          "base_uri": "https://localhost:8080/",
          "height": 206
        },
        "id": "YnDFl9jmzyLu",
        "outputId": "bd5bd29a-6bae-4347-d619-3c23a5ffa860"
      },
      "execution_count": 9,
      "outputs": [
        {
          "output_type": "execute_result",
          "data": {
            "text/plain": [
              "  flight_date  flight airport_out airport_in  air_number  scheduled_time_out  \\\n",
              "0  2018-03-01       1         MOW        ARH           1 2018-03-01 00:05:00   \n",
              "1  2018-03-01       2         MOW        EGO           2 2018-03-01 00:05:00   \n",
              "2  2018-03-01       3         MOW        AKX           3 2018-03-01 00:15:00   \n",
              "3  2018-03-01       4         LED        MOW           4 2018-03-01 00:20:00   \n",
              "4  2018-03-01       5         MOW        KRR           5 2018-03-01 00:25:00   \n",
              "\n",
              "      actual_time_out   scheduled_time_in      actual_time_in  \n",
              "0 2018-02-28 23:48:00 2018-03-01 02:00:00 2018-03-01 01:48:00  \n",
              "1 2018-03-01 00:00:00 2018-03-01 01:30:00 2018-03-01 01:55:00  \n",
              "2 2018-03-01 00:14:00 2018-03-01 02:40:00 2018-03-01 02:32:00  \n",
              "3 2018-03-01 00:11:00 2018-03-01 01:35:00 2018-03-01 01:39:00  \n",
              "4 2018-03-01 00:21:00 2018-03-01 02:40:00 2018-03-01 02:41:00  "
            ],
            "text/html": [
              "\n",
              "  <div id=\"df-b2613e5a-4dfd-4912-82ce-fdfa6dd0fd5d\" class=\"colab-df-container\">\n",
              "    <div>\n",
              "<style scoped>\n",
              "    .dataframe tbody tr th:only-of-type {\n",
              "        vertical-align: middle;\n",
              "    }\n",
              "\n",
              "    .dataframe tbody tr th {\n",
              "        vertical-align: top;\n",
              "    }\n",
              "\n",
              "    .dataframe thead th {\n",
              "        text-align: right;\n",
              "    }\n",
              "</style>\n",
              "<table border=\"1\" class=\"dataframe\">\n",
              "  <thead>\n",
              "    <tr style=\"text-align: right;\">\n",
              "      <th></th>\n",
              "      <th>flight_date</th>\n",
              "      <th>flight</th>\n",
              "      <th>airport_out</th>\n",
              "      <th>airport_in</th>\n",
              "      <th>air_number</th>\n",
              "      <th>scheduled_time_out</th>\n",
              "      <th>actual_time_out</th>\n",
              "      <th>scheduled_time_in</th>\n",
              "      <th>actual_time_in</th>\n",
              "    </tr>\n",
              "  </thead>\n",
              "  <tbody>\n",
              "    <tr>\n",
              "      <th>0</th>\n",
              "      <td>2018-03-01</td>\n",
              "      <td>1</td>\n",
              "      <td>MOW</td>\n",
              "      <td>ARH</td>\n",
              "      <td>1</td>\n",
              "      <td>2018-03-01 00:05:00</td>\n",
              "      <td>2018-02-28 23:48:00</td>\n",
              "      <td>2018-03-01 02:00:00</td>\n",
              "      <td>2018-03-01 01:48:00</td>\n",
              "    </tr>\n",
              "    <tr>\n",
              "      <th>1</th>\n",
              "      <td>2018-03-01</td>\n",
              "      <td>2</td>\n",
              "      <td>MOW</td>\n",
              "      <td>EGO</td>\n",
              "      <td>2</td>\n",
              "      <td>2018-03-01 00:05:00</td>\n",
              "      <td>2018-03-01 00:00:00</td>\n",
              "      <td>2018-03-01 01:30:00</td>\n",
              "      <td>2018-03-01 01:55:00</td>\n",
              "    </tr>\n",
              "    <tr>\n",
              "      <th>2</th>\n",
              "      <td>2018-03-01</td>\n",
              "      <td>3</td>\n",
              "      <td>MOW</td>\n",
              "      <td>AKX</td>\n",
              "      <td>3</td>\n",
              "      <td>2018-03-01 00:15:00</td>\n",
              "      <td>2018-03-01 00:14:00</td>\n",
              "      <td>2018-03-01 02:40:00</td>\n",
              "      <td>2018-03-01 02:32:00</td>\n",
              "    </tr>\n",
              "    <tr>\n",
              "      <th>3</th>\n",
              "      <td>2018-03-01</td>\n",
              "      <td>4</td>\n",
              "      <td>LED</td>\n",
              "      <td>MOW</td>\n",
              "      <td>4</td>\n",
              "      <td>2018-03-01 00:20:00</td>\n",
              "      <td>2018-03-01 00:11:00</td>\n",
              "      <td>2018-03-01 01:35:00</td>\n",
              "      <td>2018-03-01 01:39:00</td>\n",
              "    </tr>\n",
              "    <tr>\n",
              "      <th>4</th>\n",
              "      <td>2018-03-01</td>\n",
              "      <td>5</td>\n",
              "      <td>MOW</td>\n",
              "      <td>KRR</td>\n",
              "      <td>5</td>\n",
              "      <td>2018-03-01 00:25:00</td>\n",
              "      <td>2018-03-01 00:21:00</td>\n",
              "      <td>2018-03-01 02:40:00</td>\n",
              "      <td>2018-03-01 02:41:00</td>\n",
              "    </tr>\n",
              "  </tbody>\n",
              "</table>\n",
              "</div>\n",
              "    <div class=\"colab-df-buttons\">\n",
              "\n",
              "  <div class=\"colab-df-container\">\n",
              "    <button class=\"colab-df-convert\" onclick=\"convertToInteractive('df-b2613e5a-4dfd-4912-82ce-fdfa6dd0fd5d')\"\n",
              "            title=\"Convert this dataframe to an interactive table.\"\n",
              "            style=\"display:none;\">\n",
              "\n",
              "  <svg xmlns=\"http://www.w3.org/2000/svg\" height=\"24px\" viewBox=\"0 -960 960 960\">\n",
              "    <path d=\"M120-120v-720h720v720H120Zm60-500h600v-160H180v160Zm220 220h160v-160H400v160Zm0 220h160v-160H400v160ZM180-400h160v-160H180v160Zm440 0h160v-160H620v160ZM180-180h160v-160H180v160Zm440 0h160v-160H620v160Z\"/>\n",
              "  </svg>\n",
              "    </button>\n",
              "\n",
              "  <style>\n",
              "    .colab-df-container {\n",
              "      display:flex;\n",
              "      gap: 12px;\n",
              "    }\n",
              "\n",
              "    .colab-df-convert {\n",
              "      background-color: #E8F0FE;\n",
              "      border: none;\n",
              "      border-radius: 50%;\n",
              "      cursor: pointer;\n",
              "      display: none;\n",
              "      fill: #1967D2;\n",
              "      height: 32px;\n",
              "      padding: 0 0 0 0;\n",
              "      width: 32px;\n",
              "    }\n",
              "\n",
              "    .colab-df-convert:hover {\n",
              "      background-color: #E2EBFA;\n",
              "      box-shadow: 0px 1px 2px rgba(60, 64, 67, 0.3), 0px 1px 3px 1px rgba(60, 64, 67, 0.15);\n",
              "      fill: #174EA6;\n",
              "    }\n",
              "\n",
              "    .colab-df-buttons div {\n",
              "      margin-bottom: 4px;\n",
              "    }\n",
              "\n",
              "    [theme=dark] .colab-df-convert {\n",
              "      background-color: #3B4455;\n",
              "      fill: #D2E3FC;\n",
              "    }\n",
              "\n",
              "    [theme=dark] .colab-df-convert:hover {\n",
              "      background-color: #434B5C;\n",
              "      box-shadow: 0px 1px 3px 1px rgba(0, 0, 0, 0.15);\n",
              "      filter: drop-shadow(0px 1px 2px rgba(0, 0, 0, 0.3));\n",
              "      fill: #FFFFFF;\n",
              "    }\n",
              "  </style>\n",
              "\n",
              "    <script>\n",
              "      const buttonEl =\n",
              "        document.querySelector('#df-b2613e5a-4dfd-4912-82ce-fdfa6dd0fd5d button.colab-df-convert');\n",
              "      buttonEl.style.display =\n",
              "        google.colab.kernel.accessAllowed ? 'block' : 'none';\n",
              "\n",
              "      async function convertToInteractive(key) {\n",
              "        const element = document.querySelector('#df-b2613e5a-4dfd-4912-82ce-fdfa6dd0fd5d');\n",
              "        const dataTable =\n",
              "          await google.colab.kernel.invokeFunction('convertToInteractive',\n",
              "                                                    [key], {});\n",
              "        if (!dataTable) return;\n",
              "\n",
              "        const docLinkHtml = 'Like what you see? Visit the ' +\n",
              "          '<a target=\"_blank\" href=https://colab.research.google.com/notebooks/data_table.ipynb>data table notebook</a>'\n",
              "          + ' to learn more about interactive tables.';\n",
              "        element.innerHTML = '';\n",
              "        dataTable['output_type'] = 'display_data';\n",
              "        await google.colab.output.renderOutput(dataTable, element);\n",
              "        const docLink = document.createElement('div');\n",
              "        docLink.innerHTML = docLinkHtml;\n",
              "        element.appendChild(docLink);\n",
              "      }\n",
              "    </script>\n",
              "  </div>\n",
              "\n",
              "\n",
              "<div id=\"df-e34e25bc-e9b7-43fa-87e8-fa90470d77dd\">\n",
              "  <button class=\"colab-df-quickchart\" onclick=\"quickchart('df-e34e25bc-e9b7-43fa-87e8-fa90470d77dd')\"\n",
              "            title=\"Suggest charts\"\n",
              "            style=\"display:none;\">\n",
              "\n",
              "<svg xmlns=\"http://www.w3.org/2000/svg\" height=\"24px\"viewBox=\"0 0 24 24\"\n",
              "     width=\"24px\">\n",
              "    <g>\n",
              "        <path d=\"M19 3H5c-1.1 0-2 .9-2 2v14c0 1.1.9 2 2 2h14c1.1 0 2-.9 2-2V5c0-1.1-.9-2-2-2zM9 17H7v-7h2v7zm4 0h-2V7h2v10zm4 0h-2v-4h2v4z\"/>\n",
              "    </g>\n",
              "</svg>\n",
              "  </button>\n",
              "\n",
              "<style>\n",
              "  .colab-df-quickchart {\n",
              "      --bg-color: #E8F0FE;\n",
              "      --fill-color: #1967D2;\n",
              "      --hover-bg-color: #E2EBFA;\n",
              "      --hover-fill-color: #174EA6;\n",
              "      --disabled-fill-color: #AAA;\n",
              "      --disabled-bg-color: #DDD;\n",
              "  }\n",
              "\n",
              "  [theme=dark] .colab-df-quickchart {\n",
              "      --bg-color: #3B4455;\n",
              "      --fill-color: #D2E3FC;\n",
              "      --hover-bg-color: #434B5C;\n",
              "      --hover-fill-color: #FFFFFF;\n",
              "      --disabled-bg-color: #3B4455;\n",
              "      --disabled-fill-color: #666;\n",
              "  }\n",
              "\n",
              "  .colab-df-quickchart {\n",
              "    background-color: var(--bg-color);\n",
              "    border: none;\n",
              "    border-radius: 50%;\n",
              "    cursor: pointer;\n",
              "    display: none;\n",
              "    fill: var(--fill-color);\n",
              "    height: 32px;\n",
              "    padding: 0;\n",
              "    width: 32px;\n",
              "  }\n",
              "\n",
              "  .colab-df-quickchart:hover {\n",
              "    background-color: var(--hover-bg-color);\n",
              "    box-shadow: 0 1px 2px rgba(60, 64, 67, 0.3), 0 1px 3px 1px rgba(60, 64, 67, 0.15);\n",
              "    fill: var(--button-hover-fill-color);\n",
              "  }\n",
              "\n",
              "  .colab-df-quickchart-complete:disabled,\n",
              "  .colab-df-quickchart-complete:disabled:hover {\n",
              "    background-color: var(--disabled-bg-color);\n",
              "    fill: var(--disabled-fill-color);\n",
              "    box-shadow: none;\n",
              "  }\n",
              "\n",
              "  .colab-df-spinner {\n",
              "    border: 2px solid var(--fill-color);\n",
              "    border-color: transparent;\n",
              "    border-bottom-color: var(--fill-color);\n",
              "    animation:\n",
              "      spin 1s steps(1) infinite;\n",
              "  }\n",
              "\n",
              "  @keyframes spin {\n",
              "    0% {\n",
              "      border-color: transparent;\n",
              "      border-bottom-color: var(--fill-color);\n",
              "      border-left-color: var(--fill-color);\n",
              "    }\n",
              "    20% {\n",
              "      border-color: transparent;\n",
              "      border-left-color: var(--fill-color);\n",
              "      border-top-color: var(--fill-color);\n",
              "    }\n",
              "    30% {\n",
              "      border-color: transparent;\n",
              "      border-left-color: var(--fill-color);\n",
              "      border-top-color: var(--fill-color);\n",
              "      border-right-color: var(--fill-color);\n",
              "    }\n",
              "    40% {\n",
              "      border-color: transparent;\n",
              "      border-right-color: var(--fill-color);\n",
              "      border-top-color: var(--fill-color);\n",
              "    }\n",
              "    60% {\n",
              "      border-color: transparent;\n",
              "      border-right-color: var(--fill-color);\n",
              "    }\n",
              "    80% {\n",
              "      border-color: transparent;\n",
              "      border-right-color: var(--fill-color);\n",
              "      border-bottom-color: var(--fill-color);\n",
              "    }\n",
              "    90% {\n",
              "      border-color: transparent;\n",
              "      border-bottom-color: var(--fill-color);\n",
              "    }\n",
              "  }\n",
              "</style>\n",
              "\n",
              "  <script>\n",
              "    async function quickchart(key) {\n",
              "      const quickchartButtonEl =\n",
              "        document.querySelector('#' + key + ' button');\n",
              "      quickchartButtonEl.disabled = true;  // To prevent multiple clicks.\n",
              "      quickchartButtonEl.classList.add('colab-df-spinner');\n",
              "      try {\n",
              "        const charts = await google.colab.kernel.invokeFunction(\n",
              "            'suggestCharts', [key], {});\n",
              "      } catch (error) {\n",
              "        console.error('Error during call to suggestCharts:', error);\n",
              "      }\n",
              "      quickchartButtonEl.classList.remove('colab-df-spinner');\n",
              "      quickchartButtonEl.classList.add('colab-df-quickchart-complete');\n",
              "    }\n",
              "    (() => {\n",
              "      let quickchartButtonEl =\n",
              "        document.querySelector('#df-e34e25bc-e9b7-43fa-87e8-fa90470d77dd button');\n",
              "      quickchartButtonEl.style.display =\n",
              "        google.colab.kernel.accessAllowed ? 'block' : 'none';\n",
              "    })();\n",
              "  </script>\n",
              "</div>\n",
              "    </div>\n",
              "  </div>\n"
            ],
            "application/vnd.google.colaboratory.intrinsic+json": {
              "type": "dataframe",
              "variable_name": "df"
            }
          },
          "metadata": {},
          "execution_count": 9
        }
      ]
    },
    {
      "cell_type": "markdown",
      "source": [
        "Извлечение дня и месяца полёта в отдельные признаки"
      ],
      "metadata": {
        "id": "XO_ROdm2oduH"
      }
    },
    {
      "cell_type": "code",
      "source": [
        "df['flight_month'] = df.apply(lambda x: x['flight_date'].month, axis=1)\n",
        "df['flight_day'] = df.apply(lambda x: x['flight_date'].day, axis=1)\n",
        "df['day_of_week'] = df.apply(lambda x: x['flight_date'].day_name(), axis=1)"
      ],
      "metadata": {
        "id": "fdAvrXkWopyE"
      },
      "execution_count": 10,
      "outputs": []
    },
    {
      "cell_type": "markdown",
      "source": [
        "Извлечение времени взлёта\\посадки в отдельный признак"
      ],
      "metadata": {
        "id": "u1ETlKIvox4K"
      }
    },
    {
      "cell_type": "code",
      "source": [
        "df['hour_out'] = df.apply(lambda x: (x['scheduled_time_out'].hour), axis=1)\n",
        "df['hour_in'] = df.apply(lambda x: (x['scheduled_time_in'].hour), axis=1)\n",
        "df['minute_out'] = df.apply(lambda x: (x['scheduled_time_out'].minute), axis=1)\n",
        "df['minute_in'] = df.apply(lambda x: (x['scheduled_time_in'].minute), axis=1)"
      ],
      "metadata": {
        "id": "7-9qLlURozSL"
      },
      "execution_count": 11,
      "outputs": []
    },
    {
      "cell_type": "markdown",
      "source": [
        "Получение таргетных переменных"
      ],
      "metadata": {
        "id": "W8Ce6qxuvD21"
      }
    },
    {
      "cell_type": "code",
      "source": [
        "def get_delay_class(scheduled_time, actual_time):\n",
        "    sec = (actual_time - scheduled_time).total_seconds()\n",
        "\n",
        "    if sec == 0:\n",
        "      return 'on_schedule'\n",
        "    elif sec > 0:\n",
        "      return 'delay'\n",
        "    else:\n",
        "      return 'hurry'\n",
        "\n",
        "df['target_in'] = df.apply(lambda x: get_delay_class(x['scheduled_time_in'], x['actual_time_in']), axis=1)\n",
        "df['target_in_sec'] = df.apply(lambda x: (x['actual_time_in'] - x['scheduled_time_in']).total_seconds(), axis=1)\n",
        "df['target_out'] = df.apply(lambda x: get_delay_class(x['scheduled_time_out'], x['actual_time_out']), axis=1)\n",
        "df['target_out_sec'] = df.apply(lambda x: (x['actual_time_out'] - x['scheduled_time_out']).total_seconds(), axis=1)"
      ],
      "metadata": {
        "id": "meDv-IYYpJHW"
      },
      "execution_count": 12,
      "outputs": []
    },
    {
      "cell_type": "code",
      "source": [
        "df.head()"
      ],
      "metadata": {
        "colab": {
          "base_uri": "https://localhost:8080/",
          "height": 313
        },
        "id": "_p55G7H8uFlK",
        "outputId": "be94d969-daab-405a-ea2b-aebed6b5a088"
      },
      "execution_count": 13,
      "outputs": [
        {
          "output_type": "execute_result",
          "data": {
            "text/plain": [
              "  flight_date  flight airport_out airport_in  air_number  scheduled_time_out  \\\n",
              "0  2018-03-01       1         MOW        ARH           1 2018-03-01 00:05:00   \n",
              "1  2018-03-01       2         MOW        EGO           2 2018-03-01 00:05:00   \n",
              "2  2018-03-01       3         MOW        AKX           3 2018-03-01 00:15:00   \n",
              "3  2018-03-01       4         LED        MOW           4 2018-03-01 00:20:00   \n",
              "4  2018-03-01       5         MOW        KRR           5 2018-03-01 00:25:00   \n",
              "\n",
              "      actual_time_out   scheduled_time_in      actual_time_in  flight_month  \\\n",
              "0 2018-02-28 23:48:00 2018-03-01 02:00:00 2018-03-01 01:48:00             3   \n",
              "1 2018-03-01 00:00:00 2018-03-01 01:30:00 2018-03-01 01:55:00             3   \n",
              "2 2018-03-01 00:14:00 2018-03-01 02:40:00 2018-03-01 02:32:00             3   \n",
              "3 2018-03-01 00:11:00 2018-03-01 01:35:00 2018-03-01 01:39:00             3   \n",
              "4 2018-03-01 00:21:00 2018-03-01 02:40:00 2018-03-01 02:41:00             3   \n",
              "\n",
              "   flight_day day_of_week  hour_out  hour_in  minute_out  minute_in target_in  \\\n",
              "0           1    Thursday         0        2           5          0     hurry   \n",
              "1           1    Thursday         0        1           5         30     delay   \n",
              "2           1    Thursday         0        2          15         40     hurry   \n",
              "3           1    Thursday         0        1          20         35     delay   \n",
              "4           1    Thursday         0        2          25         40     delay   \n",
              "\n",
              "   target_in_sec target_out  target_out_sec  \n",
              "0         -720.0      hurry         -1020.0  \n",
              "1         1500.0      hurry          -300.0  \n",
              "2         -480.0      hurry           -60.0  \n",
              "3          240.0      hurry          -540.0  \n",
              "4           60.0      hurry          -240.0  "
            ],
            "text/html": [
              "\n",
              "  <div id=\"df-1442b361-eb20-47cf-9aa8-e517a3a5967a\" class=\"colab-df-container\">\n",
              "    <div>\n",
              "<style scoped>\n",
              "    .dataframe tbody tr th:only-of-type {\n",
              "        vertical-align: middle;\n",
              "    }\n",
              "\n",
              "    .dataframe tbody tr th {\n",
              "        vertical-align: top;\n",
              "    }\n",
              "\n",
              "    .dataframe thead th {\n",
              "        text-align: right;\n",
              "    }\n",
              "</style>\n",
              "<table border=\"1\" class=\"dataframe\">\n",
              "  <thead>\n",
              "    <tr style=\"text-align: right;\">\n",
              "      <th></th>\n",
              "      <th>flight_date</th>\n",
              "      <th>flight</th>\n",
              "      <th>airport_out</th>\n",
              "      <th>airport_in</th>\n",
              "      <th>air_number</th>\n",
              "      <th>scheduled_time_out</th>\n",
              "      <th>actual_time_out</th>\n",
              "      <th>scheduled_time_in</th>\n",
              "      <th>actual_time_in</th>\n",
              "      <th>flight_month</th>\n",
              "      <th>flight_day</th>\n",
              "      <th>day_of_week</th>\n",
              "      <th>hour_out</th>\n",
              "      <th>hour_in</th>\n",
              "      <th>minute_out</th>\n",
              "      <th>minute_in</th>\n",
              "      <th>target_in</th>\n",
              "      <th>target_in_sec</th>\n",
              "      <th>target_out</th>\n",
              "      <th>target_out_sec</th>\n",
              "    </tr>\n",
              "  </thead>\n",
              "  <tbody>\n",
              "    <tr>\n",
              "      <th>0</th>\n",
              "      <td>2018-03-01</td>\n",
              "      <td>1</td>\n",
              "      <td>MOW</td>\n",
              "      <td>ARH</td>\n",
              "      <td>1</td>\n",
              "      <td>2018-03-01 00:05:00</td>\n",
              "      <td>2018-02-28 23:48:00</td>\n",
              "      <td>2018-03-01 02:00:00</td>\n",
              "      <td>2018-03-01 01:48:00</td>\n",
              "      <td>3</td>\n",
              "      <td>1</td>\n",
              "      <td>Thursday</td>\n",
              "      <td>0</td>\n",
              "      <td>2</td>\n",
              "      <td>5</td>\n",
              "      <td>0</td>\n",
              "      <td>hurry</td>\n",
              "      <td>-720.0</td>\n",
              "      <td>hurry</td>\n",
              "      <td>-1020.0</td>\n",
              "    </tr>\n",
              "    <tr>\n",
              "      <th>1</th>\n",
              "      <td>2018-03-01</td>\n",
              "      <td>2</td>\n",
              "      <td>MOW</td>\n",
              "      <td>EGO</td>\n",
              "      <td>2</td>\n",
              "      <td>2018-03-01 00:05:00</td>\n",
              "      <td>2018-03-01 00:00:00</td>\n",
              "      <td>2018-03-01 01:30:00</td>\n",
              "      <td>2018-03-01 01:55:00</td>\n",
              "      <td>3</td>\n",
              "      <td>1</td>\n",
              "      <td>Thursday</td>\n",
              "      <td>0</td>\n",
              "      <td>1</td>\n",
              "      <td>5</td>\n",
              "      <td>30</td>\n",
              "      <td>delay</td>\n",
              "      <td>1500.0</td>\n",
              "      <td>hurry</td>\n",
              "      <td>-300.0</td>\n",
              "    </tr>\n",
              "    <tr>\n",
              "      <th>2</th>\n",
              "      <td>2018-03-01</td>\n",
              "      <td>3</td>\n",
              "      <td>MOW</td>\n",
              "      <td>AKX</td>\n",
              "      <td>3</td>\n",
              "      <td>2018-03-01 00:15:00</td>\n",
              "      <td>2018-03-01 00:14:00</td>\n",
              "      <td>2018-03-01 02:40:00</td>\n",
              "      <td>2018-03-01 02:32:00</td>\n",
              "      <td>3</td>\n",
              "      <td>1</td>\n",
              "      <td>Thursday</td>\n",
              "      <td>0</td>\n",
              "      <td>2</td>\n",
              "      <td>15</td>\n",
              "      <td>40</td>\n",
              "      <td>hurry</td>\n",
              "      <td>-480.0</td>\n",
              "      <td>hurry</td>\n",
              "      <td>-60.0</td>\n",
              "    </tr>\n",
              "    <tr>\n",
              "      <th>3</th>\n",
              "      <td>2018-03-01</td>\n",
              "      <td>4</td>\n",
              "      <td>LED</td>\n",
              "      <td>MOW</td>\n",
              "      <td>4</td>\n",
              "      <td>2018-03-01 00:20:00</td>\n",
              "      <td>2018-03-01 00:11:00</td>\n",
              "      <td>2018-03-01 01:35:00</td>\n",
              "      <td>2018-03-01 01:39:00</td>\n",
              "      <td>3</td>\n",
              "      <td>1</td>\n",
              "      <td>Thursday</td>\n",
              "      <td>0</td>\n",
              "      <td>1</td>\n",
              "      <td>20</td>\n",
              "      <td>35</td>\n",
              "      <td>delay</td>\n",
              "      <td>240.0</td>\n",
              "      <td>hurry</td>\n",
              "      <td>-540.0</td>\n",
              "    </tr>\n",
              "    <tr>\n",
              "      <th>4</th>\n",
              "      <td>2018-03-01</td>\n",
              "      <td>5</td>\n",
              "      <td>MOW</td>\n",
              "      <td>KRR</td>\n",
              "      <td>5</td>\n",
              "      <td>2018-03-01 00:25:00</td>\n",
              "      <td>2018-03-01 00:21:00</td>\n",
              "      <td>2018-03-01 02:40:00</td>\n",
              "      <td>2018-03-01 02:41:00</td>\n",
              "      <td>3</td>\n",
              "      <td>1</td>\n",
              "      <td>Thursday</td>\n",
              "      <td>0</td>\n",
              "      <td>2</td>\n",
              "      <td>25</td>\n",
              "      <td>40</td>\n",
              "      <td>delay</td>\n",
              "      <td>60.0</td>\n",
              "      <td>hurry</td>\n",
              "      <td>-240.0</td>\n",
              "    </tr>\n",
              "  </tbody>\n",
              "</table>\n",
              "</div>\n",
              "    <div class=\"colab-df-buttons\">\n",
              "\n",
              "  <div class=\"colab-df-container\">\n",
              "    <button class=\"colab-df-convert\" onclick=\"convertToInteractive('df-1442b361-eb20-47cf-9aa8-e517a3a5967a')\"\n",
              "            title=\"Convert this dataframe to an interactive table.\"\n",
              "            style=\"display:none;\">\n",
              "\n",
              "  <svg xmlns=\"http://www.w3.org/2000/svg\" height=\"24px\" viewBox=\"0 -960 960 960\">\n",
              "    <path d=\"M120-120v-720h720v720H120Zm60-500h600v-160H180v160Zm220 220h160v-160H400v160Zm0 220h160v-160H400v160ZM180-400h160v-160H180v160Zm440 0h160v-160H620v160ZM180-180h160v-160H180v160Zm440 0h160v-160H620v160Z\"/>\n",
              "  </svg>\n",
              "    </button>\n",
              "\n",
              "  <style>\n",
              "    .colab-df-container {\n",
              "      display:flex;\n",
              "      gap: 12px;\n",
              "    }\n",
              "\n",
              "    .colab-df-convert {\n",
              "      background-color: #E8F0FE;\n",
              "      border: none;\n",
              "      border-radius: 50%;\n",
              "      cursor: pointer;\n",
              "      display: none;\n",
              "      fill: #1967D2;\n",
              "      height: 32px;\n",
              "      padding: 0 0 0 0;\n",
              "      width: 32px;\n",
              "    }\n",
              "\n",
              "    .colab-df-convert:hover {\n",
              "      background-color: #E2EBFA;\n",
              "      box-shadow: 0px 1px 2px rgba(60, 64, 67, 0.3), 0px 1px 3px 1px rgba(60, 64, 67, 0.15);\n",
              "      fill: #174EA6;\n",
              "    }\n",
              "\n",
              "    .colab-df-buttons div {\n",
              "      margin-bottom: 4px;\n",
              "    }\n",
              "\n",
              "    [theme=dark] .colab-df-convert {\n",
              "      background-color: #3B4455;\n",
              "      fill: #D2E3FC;\n",
              "    }\n",
              "\n",
              "    [theme=dark] .colab-df-convert:hover {\n",
              "      background-color: #434B5C;\n",
              "      box-shadow: 0px 1px 3px 1px rgba(0, 0, 0, 0.15);\n",
              "      filter: drop-shadow(0px 1px 2px rgba(0, 0, 0, 0.3));\n",
              "      fill: #FFFFFF;\n",
              "    }\n",
              "  </style>\n",
              "\n",
              "    <script>\n",
              "      const buttonEl =\n",
              "        document.querySelector('#df-1442b361-eb20-47cf-9aa8-e517a3a5967a button.colab-df-convert');\n",
              "      buttonEl.style.display =\n",
              "        google.colab.kernel.accessAllowed ? 'block' : 'none';\n",
              "\n",
              "      async function convertToInteractive(key) {\n",
              "        const element = document.querySelector('#df-1442b361-eb20-47cf-9aa8-e517a3a5967a');\n",
              "        const dataTable =\n",
              "          await google.colab.kernel.invokeFunction('convertToInteractive',\n",
              "                                                    [key], {});\n",
              "        if (!dataTable) return;\n",
              "\n",
              "        const docLinkHtml = 'Like what you see? Visit the ' +\n",
              "          '<a target=\"_blank\" href=https://colab.research.google.com/notebooks/data_table.ipynb>data table notebook</a>'\n",
              "          + ' to learn more about interactive tables.';\n",
              "        element.innerHTML = '';\n",
              "        dataTable['output_type'] = 'display_data';\n",
              "        await google.colab.output.renderOutput(dataTable, element);\n",
              "        const docLink = document.createElement('div');\n",
              "        docLink.innerHTML = docLinkHtml;\n",
              "        element.appendChild(docLink);\n",
              "      }\n",
              "    </script>\n",
              "  </div>\n",
              "\n",
              "\n",
              "<div id=\"df-c2564ebb-655c-4e62-9484-2dfbbf7de247\">\n",
              "  <button class=\"colab-df-quickchart\" onclick=\"quickchart('df-c2564ebb-655c-4e62-9484-2dfbbf7de247')\"\n",
              "            title=\"Suggest charts\"\n",
              "            style=\"display:none;\">\n",
              "\n",
              "<svg xmlns=\"http://www.w3.org/2000/svg\" height=\"24px\"viewBox=\"0 0 24 24\"\n",
              "     width=\"24px\">\n",
              "    <g>\n",
              "        <path d=\"M19 3H5c-1.1 0-2 .9-2 2v14c0 1.1.9 2 2 2h14c1.1 0 2-.9 2-2V5c0-1.1-.9-2-2-2zM9 17H7v-7h2v7zm4 0h-2V7h2v10zm4 0h-2v-4h2v4z\"/>\n",
              "    </g>\n",
              "</svg>\n",
              "  </button>\n",
              "\n",
              "<style>\n",
              "  .colab-df-quickchart {\n",
              "      --bg-color: #E8F0FE;\n",
              "      --fill-color: #1967D2;\n",
              "      --hover-bg-color: #E2EBFA;\n",
              "      --hover-fill-color: #174EA6;\n",
              "      --disabled-fill-color: #AAA;\n",
              "      --disabled-bg-color: #DDD;\n",
              "  }\n",
              "\n",
              "  [theme=dark] .colab-df-quickchart {\n",
              "      --bg-color: #3B4455;\n",
              "      --fill-color: #D2E3FC;\n",
              "      --hover-bg-color: #434B5C;\n",
              "      --hover-fill-color: #FFFFFF;\n",
              "      --disabled-bg-color: #3B4455;\n",
              "      --disabled-fill-color: #666;\n",
              "  }\n",
              "\n",
              "  .colab-df-quickchart {\n",
              "    background-color: var(--bg-color);\n",
              "    border: none;\n",
              "    border-radius: 50%;\n",
              "    cursor: pointer;\n",
              "    display: none;\n",
              "    fill: var(--fill-color);\n",
              "    height: 32px;\n",
              "    padding: 0;\n",
              "    width: 32px;\n",
              "  }\n",
              "\n",
              "  .colab-df-quickchart:hover {\n",
              "    background-color: var(--hover-bg-color);\n",
              "    box-shadow: 0 1px 2px rgba(60, 64, 67, 0.3), 0 1px 3px 1px rgba(60, 64, 67, 0.15);\n",
              "    fill: var(--button-hover-fill-color);\n",
              "  }\n",
              "\n",
              "  .colab-df-quickchart-complete:disabled,\n",
              "  .colab-df-quickchart-complete:disabled:hover {\n",
              "    background-color: var(--disabled-bg-color);\n",
              "    fill: var(--disabled-fill-color);\n",
              "    box-shadow: none;\n",
              "  }\n",
              "\n",
              "  .colab-df-spinner {\n",
              "    border: 2px solid var(--fill-color);\n",
              "    border-color: transparent;\n",
              "    border-bottom-color: var(--fill-color);\n",
              "    animation:\n",
              "      spin 1s steps(1) infinite;\n",
              "  }\n",
              "\n",
              "  @keyframes spin {\n",
              "    0% {\n",
              "      border-color: transparent;\n",
              "      border-bottom-color: var(--fill-color);\n",
              "      border-left-color: var(--fill-color);\n",
              "    }\n",
              "    20% {\n",
              "      border-color: transparent;\n",
              "      border-left-color: var(--fill-color);\n",
              "      border-top-color: var(--fill-color);\n",
              "    }\n",
              "    30% {\n",
              "      border-color: transparent;\n",
              "      border-left-color: var(--fill-color);\n",
              "      border-top-color: var(--fill-color);\n",
              "      border-right-color: var(--fill-color);\n",
              "    }\n",
              "    40% {\n",
              "      border-color: transparent;\n",
              "      border-right-color: var(--fill-color);\n",
              "      border-top-color: var(--fill-color);\n",
              "    }\n",
              "    60% {\n",
              "      border-color: transparent;\n",
              "      border-right-color: var(--fill-color);\n",
              "    }\n",
              "    80% {\n",
              "      border-color: transparent;\n",
              "      border-right-color: var(--fill-color);\n",
              "      border-bottom-color: var(--fill-color);\n",
              "    }\n",
              "    90% {\n",
              "      border-color: transparent;\n",
              "      border-bottom-color: var(--fill-color);\n",
              "    }\n",
              "  }\n",
              "</style>\n",
              "\n",
              "  <script>\n",
              "    async function quickchart(key) {\n",
              "      const quickchartButtonEl =\n",
              "        document.querySelector('#' + key + ' button');\n",
              "      quickchartButtonEl.disabled = true;  // To prevent multiple clicks.\n",
              "      quickchartButtonEl.classList.add('colab-df-spinner');\n",
              "      try {\n",
              "        const charts = await google.colab.kernel.invokeFunction(\n",
              "            'suggestCharts', [key], {});\n",
              "      } catch (error) {\n",
              "        console.error('Error during call to suggestCharts:', error);\n",
              "      }\n",
              "      quickchartButtonEl.classList.remove('colab-df-spinner');\n",
              "      quickchartButtonEl.classList.add('colab-df-quickchart-complete');\n",
              "    }\n",
              "    (() => {\n",
              "      let quickchartButtonEl =\n",
              "        document.querySelector('#df-c2564ebb-655c-4e62-9484-2dfbbf7de247 button');\n",
              "      quickchartButtonEl.style.display =\n",
              "        google.colab.kernel.accessAllowed ? 'block' : 'none';\n",
              "    })();\n",
              "  </script>\n",
              "</div>\n",
              "    </div>\n",
              "  </div>\n"
            ],
            "application/vnd.google.colaboratory.intrinsic+json": {
              "type": "dataframe",
              "variable_name": "df"
            }
          },
          "metadata": {},
          "execution_count": 13
        }
      ]
    },
    {
      "cell_type": "markdown",
      "source": [
        "Гистограмма для посадки\n"
      ],
      "metadata": {
        "id": "Y0UUl_tqveeg"
      }
    },
    {
      "cell_type": "code",
      "source": [
        "df['target_in'].hist()"
      ],
      "metadata": {
        "colab": {
          "base_uri": "https://localhost:8080/",
          "height": 448
        },
        "id": "-6-_tt0Yu3zG",
        "outputId": "9fb97a5a-7be3-4afc-a1f0-f869fce5add6"
      },
      "execution_count": 14,
      "outputs": [
        {
          "output_type": "execute_result",
          "data": {
            "text/plain": [
              "<Axes: >"
            ]
          },
          "metadata": {},
          "execution_count": 14
        },
        {
          "output_type": "display_data",
          "data": {
            "text/plain": [
              "<Figure size 640x480 with 1 Axes>"
            ],
            "image/png": "[encoded data removed]"
          },
          "metadata": {}
        }
      ]
    },
    {
      "cell_type": "markdown",
      "source": [
        "Явный дизбаланс классов"
      ],
      "metadata": {
        "id": "uMwsWYAjq-Dr"
      }
    },
    {
      "cell_type": "markdown",
      "source": [
        "Гистограмма для взлёта"
      ],
      "metadata": {
        "id": "5QlkhbT1vifB"
      }
    },
    {
      "cell_type": "code",
      "source": [
        "df['target_out'].hist()"
      ],
      "metadata": {
        "colab": {
          "base_uri": "https://localhost:8080/",
          "height": 448
        },
        "id": "F6kkzwh4vCiN",
        "outputId": "c44f879b-d694-44b3-beaf-0f59a57ab0ff"
      },
      "execution_count": 15,
      "outputs": [
        {
          "output_type": "execute_result",
          "data": {
            "text/plain": [
              "<Axes: >"
            ]
          },
          "metadata": {},
          "execution_count": 15
        },
        {
          "output_type": "display_data",
          "data": {
            "text/plain": [
              "<Figure size 640x480 with 1 Axes>"
            ],
            "image/png": "[encoded data removed]"
          },
          "metadata": {}
        }
      ]
    },
    {
      "cell_type": "markdown",
      "source": [
        "Явный дизбаланс классов"
      ],
      "metadata": {
        "id": "ORN6vn5ArDWS"
      }
    },
    {
      "cell_type": "markdown",
      "source": [
        "Матрица корреляций"
      ],
      "metadata": {
        "id": "GTvh5vNOv33I"
      }
    },
    {
      "cell_type": "code",
      "source": [
        "numeric_columns = df.select_dtypes(include=['int64', 'float64']).columns.tolist()\n",
        "corrmat = df[numeric_columns].corr()\n",
        "f, ax = plt.subplots(figsize=(12, 9))\n",
        "sns.heatmap(corrmat, vmax=.8, square=True);\n",
        "plt.show()"
      ],
      "metadata": {
        "colab": {
          "base_uri": "https://localhost:8080/",
          "height": 847
        },
        "id": "iHGM2-IvUK8T",
        "outputId": "de0bbdf1-51dd-4bfa-83cf-78a084c087a8"
      },
      "execution_count": 16,
      "outputs": [
        {
          "output_type": "display_data",
          "data": {
            "text/plain": [
              "<Figure size 1200x900 with 2 Axes>"
            ],
            "image/png": "[encoded data removed]"
          },
          "metadata": {}
        }
      ]
    },
    {
      "cell_type": "markdown",
      "source": [
        "Наблюдается логичная небольшая корреляция у следующих параметров:\n",
        "- время взлёта \\ время посадки\n",
        "- номер рейса \\ время взлёта\n",
        "- номер рейса \\ время посадки"
      ],
      "metadata": {
        "id": "Arb6ba-1XmHY"
      }
    },
    {
      "cell_type": "code",
      "source": [
        "df.groupby('flight_date')['target_in'].count().plot()\n",
        "plt.xlabel('Дата')\n",
        "plt.ylabel('Количество полётов')\n",
        "plt.grid()\n",
        "plt.show()"
      ],
      "metadata": {
        "colab": {
          "base_uri": "https://localhost:8080/",
          "height": 466
        },
        "id": "cd0yHZ9-k82L",
        "outputId": "bece29f9-64c0-4caf-9970-07c8047ad3a5"
      },
      "execution_count": 17,
      "outputs": [
        {
          "output_type": "display_data",
          "data": {
            "text/plain": [
              "<Figure size 640x480 with 1 Axes>"
            ],
            "image/png": "[encoded data removed]"
          },
          "metadata": {}
        }
      ]
    },
    {
      "cell_type": "markdown",
      "source": [
        "На графике можно ответить:\n",
        "- сезонность\n",
        "- рост\n",
        "- аномальный спад в период Май-Июнь"
      ],
      "metadata": {
        "id": "PfYWUjXxlyFU"
      }
    },
    {
      "cell_type": "code",
      "source": [
        "legend = []\n",
        "for v in df['target_in'].unique():\n",
        "   diseases = df[df['target_in']==v].groupby('flight_date')['target_in'].count()\n",
        "   x = diseases.index\n",
        "   y = diseases.values\n",
        "   plt.plot(x, y)\n",
        "   legend.append(v)\n",
        "plt.legend(legend)\n",
        "plt.show()"
      ],
      "metadata": {
        "colab": {
          "base_uri": "https://localhost:8080/",
          "height": 430
        },
        "id": "P5nwMgjiiuK8",
        "outputId": "732c3171-49c6-4f48-b4ed-95c16fae11b0"
      },
      "execution_count": 18,
      "outputs": [
        {
          "output_type": "display_data",
          "data": {
            "text/plain": [
              "<Figure size 640x480 with 1 Axes>"
            ],
            "image/png": "[encoded data removed]"
          },
          "metadata": {}
        }
      ]
    },
    {
      "cell_type": "markdown",
      "source": [
        "Видно, что количество рейсов вылетевших **раньше** обратно пропорционально количеству **задержанных**.\n",
        "\n",
        "Зависимости с количеством **вовремя** вылетевших рейсов **не обранужено**"
      ],
      "metadata": {
        "id": "PK05C9pnqf9a"
      }
    },
    {
      "cell_type": "markdown",
      "source": [
        "# 3. Предобработка"
      ],
      "metadata": {
        "id": "Bl477j8yof5u"
      }
    },
    {
      "cell_type": "code",
      "source": [
        "def preprocess(df):\n",
        "\n",
        "  # Переименуем столбцы\n",
        "  df  = df.rename(columns={'Дата рейса': 'flight_date',\n",
        "                   'Рейс': 'flight',\n",
        "                   'А/П отправл': 'airport_out',\n",
        "                   'А/П прибыт': 'airport_in',\n",
        "                   'Номер ВС': 'air_number',\n",
        "                   'Время отправления по расписанию': 'scheduled_time_out',\n",
        "                   'Время отправления фактическое': 'actual_time_out',\n",
        "                   'Время прибытия по расписанию': 'scheduled_time_in',\n",
        "                   'Время прибытия фактическое': 'actual_time_in'})\n",
        "\n",
        "  # Извлечем день и месяц полёта в отдельные признаки и удаляем исходный столбец\n",
        "  df['flight_month'] = df.apply(lambda x: x['flight_date'].month, axis=1)\n",
        "  df['flight_day'] = df.apply(lambda x: x['flight_date'].day, axis=1)\n",
        "  df['day_of_week'] = df.apply(lambda x: x['flight_date'].day_name(), axis=1)\n",
        "  df = df.drop('flight_date', axis=1)\n",
        "\n",
        "  # Извлечем время взлёта\\посадки в отдельный признак\n",
        "  df['hour_out'] = df.apply(lambda x: (x['scheduled_time_out'].hour), axis=1)\n",
        "  df['hour_in'] = df.apply(lambda x: (x['scheduled_time_in'].hour), axis=1)\n",
        "  df['minute_out'] = df.apply(lambda x: (x['scheduled_time_out'].minute), axis=1)\n",
        "  df['minute_in'] = df.apply(lambda x: (x['scheduled_time_in'].minute), axis=1)\n",
        "\n",
        "  # Преобразование времени взлёта\\посадки и дня недели к типу object,\n",
        "  # т.к. это категориальные признаки и в дальнейшем будут преобразованы с помощью endcoder\n",
        "\n",
        "  df['hour_out'] = df['hour_out'].astype(object)\n",
        "  df['hour_in'] = df['hour_in'].astype(object)\n",
        "  df['minute_out'] = df['minute_out'].astype(object)\n",
        "  df['minute_in'] = df['minute_in'].astype(object)\n",
        "  df['day_of_week'] = df['day_of_week'].astype(object)\n",
        "\n",
        "  return df\n"
      ],
      "metadata": {
        "id": "9zTUil2Kq1AC"
      },
      "execution_count": 19,
      "outputs": []
    },
    {
      "cell_type": "code",
      "source": [
        "def get_df_target(df, type_target, binary_classification=True):\n",
        "\n",
        "  def get_delay_class(scheduled_time, actual_time, binary_classification):\n",
        "    sec = (actual_time - scheduled_time).total_seconds()\n",
        "\n",
        "    if sec == 0:\n",
        "      # on_schedule\n",
        "      return 0\n",
        "    elif sec > 0:\n",
        "      # delay\n",
        "      return 1\n",
        "    else:\n",
        "      if not binary_classification:\n",
        "        return 2\n",
        "      # hurry\n",
        "      return 0\n",
        "\n",
        "\n",
        "  df['target'] = df.apply(lambda x: get_delay_class(x['scheduled_time_' + type_target], x['actual_time_' + type_target], binary_classification), axis=1)\n",
        "\n",
        "  df = df.drop(['actual_time_out', 'actual_time_in'], axis=1)\n",
        "\n",
        "  return df\n"
      ],
      "metadata": {
        "id": "zzZATiV17D_4"
      },
      "execution_count": 20,
      "outputs": []
    },
    {
      "cell_type": "markdown",
      "source": [
        "# 4. Формирование датасета"
      ],
      "metadata": {
        "id": "cyuZ5PtxS6v_"
      }
    },
    {
      "cell_type": "markdown",
      "source": [
        "## One-hot-encoder"
      ],
      "metadata": {
        "id": "OO3Mubl4zX3i"
      }
    },
    {
      "cell_type": "code",
      "source": [
        "from sklearn.preprocessing import OneHotEncoder"
      ],
      "metadata": {
        "id": "upPA6lB_zXiz"
      },
      "execution_count": 21,
      "outputs": []
    },
    {
      "cell_type": "code",
      "source": [
        "def encode(df):\n",
        "  categorical_columns = df.select_dtypes(include=['object']).columns.tolist()\n",
        "  encoder = OneHotEncoder(sparse_output=False)\n",
        "  encoder = encoder.fit(df[categorical_columns])\n",
        "  ohe = encoder.transform(df[categorical_columns])\n",
        "  ohe_df = pd.DataFrame(ohe, columns=encoder.get_feature_names_out(categorical_columns))\n",
        "  df = pd.concat([df, ohe_df], axis=1)\n",
        "  df = df.drop(categorical_columns, axis=1)\n",
        "  return df, encoder"
      ],
      "metadata": {
        "id": "TGu6s26GjC3J"
      },
      "execution_count": 22,
      "outputs": []
    },
    {
      "cell_type": "markdown",
      "source": [
        "## Train Test Val split"
      ],
      "metadata": {
        "id": "UlE3D1Nt1bSP"
      }
    },
    {
      "cell_type": "code",
      "source": [
        "from sklearn.model_selection import train_test_split"
      ],
      "metadata": {
        "id": "hnHiQhoUT4E0"
      },
      "execution_count": 23,
      "outputs": []
    },
    {
      "cell_type": "code",
      "source": [
        "def split_data(X, y, seed=42):\n",
        "  X_train, X_test, y_train, y_test = train_test_split(X, y, test_size=0.2, random_state=seed)\n",
        "\n",
        "  X_train, X_val, y_train, y_val = train_test_split(X_train, y_train, test_size=0.25, random_state=seed)\n",
        "\n",
        "  return X_train, y_train, X_val, y_val, X_test, y_test"
      ],
      "metadata": {
        "id": "h4y1S7sKjlZD"
      },
      "execution_count": 24,
      "outputs": []
    },
    {
      "cell_type": "markdown",
      "source": [
        "# 5. Models"
      ],
      "metadata": {
        "id": "apukolnuEDcL"
      }
    },
    {
      "cell_type": "markdown",
      "source": [
        "## Sklearn models"
      ],
      "metadata": {
        "id": "iYG-zlx1LLqi"
      }
    },
    {
      "cell_type": "markdown",
      "source": [
        "### Fit"
      ],
      "metadata": {
        "id": "7j0wU282mo3X"
      }
    },
    {
      "cell_type": "code",
      "source": [
        "from sklearn.neighbors import KNeighborsClassifier\n",
        "from sklearn.naive_bayes import GaussianNB\n",
        "from sklearn.ensemble import RandomForestClassifier\n",
        "from sklearn.tree import DecisionTreeClassifier\n",
        "from sklearn.svm import LinearSVC\n",
        "from sklearn.linear_model import LogisticRegression\n",
        "\n",
        "\n",
        "def train(X_train, y_train):\n",
        "\n",
        "  models = {}\n",
        "\n",
        "  # Logistic Regression\n",
        "  models['Logistic Regression'] = LogisticRegression()\n",
        "\n",
        "  # Support Vector Machines\n",
        "  models['Support Vector Machines'] = LinearSVC()\n",
        "\n",
        "  # Decision Trees\n",
        "  models['Decision Trees'] = DecisionTreeClassifier()\n",
        "\n",
        "  # Random Forest\n",
        "  models['Random Forest'] = RandomForestClassifier()\n",
        "\n",
        "  # Naive Bayes\n",
        "  models['Naive Bayes'] = GaussianNB()\n",
        "\n",
        "  # K-Nearest Neighbors\n",
        "  models['K-Nearest Neighbor'] = KNeighborsClassifier()\n",
        "\n",
        "  for key in models.keys():\n",
        "\n",
        "      # Fit the classifier\n",
        "      models[key].fit(X_train, y_train)\n",
        "  return models\n"
      ],
      "metadata": {
        "id": "8Qxrr5C8LOqM"
      },
      "execution_count": 25,
      "outputs": []
    },
    {
      "cell_type": "markdown",
      "source": [
        "### Evaluate"
      ],
      "metadata": {
        "id": "XGC_BPkYmqS_"
      }
    },
    {
      "cell_type": "code",
      "source": [
        "from sklearn.metrics import accuracy_score, precision_score, recall_score, f1_score\n",
        "\n",
        "\n",
        "def evaluate(models, X_val, y_val, pos_label=1):\n",
        "  accuracy, precision, recall, f1 = {}, {}, {}, {}\n",
        "\n",
        "  for key in models.keys():\n",
        "\n",
        "      # Make predictions\n",
        "      predictions = models[key].predict(X_val)\n",
        "\n",
        "      # Calculate metrics\n",
        "      accuracy[key] = accuracy_score(predictions, y_val)\n",
        "      precision[key] = precision_score(predictions, y_val, pos_label=pos_label)\n",
        "      recall[key] = recall_score(predictions, y_val, pos_label=pos_label)\n",
        "      f1[key] = f1_score(predictions, y_val, pos_label=pos_label)\n",
        "\n",
        "  df_model = pd.DataFrame(index=models.keys(), columns=['Accuracy', 'Precision', 'Recall', 'F1'])\n",
        "  df_model['Accuracy'] = accuracy.values()\n",
        "  df_model['Precision'] = precision.values()\n",
        "  df_model['Recall'] = recall.values()\n",
        "  df_model['F1'] = f1.values()\n",
        "\n",
        "  return df_model\n",
        ""
      ],
      "metadata": {
        "id": "8MSjTz7VmJhT"
      },
      "execution_count": 26,
      "outputs": []
    },
    {
      "cell_type": "markdown",
      "source": [
        "### Plot metrics"
      ],
      "metadata": {
        "id": "zwcg4a2enQUh"
      }
    },
    {
      "cell_type": "code",
      "source": [
        "def plot_metrics(df_model, models):\n",
        "  ax = df_model.plot.barh()\n",
        "  ax.legend(\n",
        "      ncol=len(models.keys()),\n",
        "      bbox_to_anchor=(0, 1),\n",
        "      loc='lower left',\n",
        "      prop={'size': 14}\n",
        "  )\n",
        "  plt.tight_layout()\n"
      ],
      "metadata": {
        "id": "IMkRYDnHL2gp"
      },
      "execution_count": 27,
      "outputs": []
    },
    {
      "cell_type": "markdown",
      "source": [
        "### Save"
      ],
      "metadata": {
        "id": "blQpFhVChLBG"
      }
    },
    {
      "cell_type": "code",
      "source": [
        "import pickle\n",
        "\n",
        "def save_model(model, model_name='model'):\n",
        "  with open(model_name+'.pkl','wb') as f:\n",
        "      pickle.dump(model, f)"
      ],
      "metadata": {
        "id": "ap0ag8IyhM2R"
      },
      "execution_count": 28,
      "outputs": []
    },
    {
      "cell_type": "markdown",
      "source": [
        "# Initialize"
      ],
      "metadata": {
        "id": "dly7j_8_n9vd"
      }
    },
    {
      "cell_type": "markdown",
      "source": [
        "Попробуем построить модель для бинарной классификации\n",
        "- 0 - рейс прибыл вовремя или раньше запланированного\n",
        "- 1 - рейс опоздал"
      ],
      "metadata": {
        "id": "4X0IbJACsog0"
      }
    },
    {
      "cell_type": "markdown",
      "source": [
        "## Preprocess"
      ],
      "metadata": {
        "id": "DBCNAOTI2Tjg"
      }
    },
    {
      "cell_type": "code",
      "source": [
        "df = df_origin.copy()"
      ],
      "metadata": {
        "id": "GGG-rHsfu4fF"
      },
      "execution_count": 29,
      "outputs": []
    },
    {
      "cell_type": "code",
      "source": [
        "df = preprocess(df)\n",
        "df, encoder = encode(df)"
      ],
      "metadata": {
        "id": "D0FC70pS4jn1"
      },
      "execution_count": 30,
      "outputs": []
    },
    {
      "cell_type": "code",
      "source": [
        "save_model(encoder, 'encoder')"
      ],
      "metadata": {
        "id": "PKLqsnWaguMI"
      },
      "execution_count": 31,
      "outputs": []
    },
    {
      "cell_type": "code",
      "source": [
        "!cp /content/encoder.pkl /content/drive/MyDrive/for_download"
      ],
      "metadata": {
        "id": "qgf5Rnn-hRMF"
      },
      "execution_count": 32,
      "outputs": []
    },
    {
      "cell_type": "markdown",
      "source": [
        "## Save"
      ],
      "metadata": {
        "id": "YXtfv8zM2Xin"
      }
    },
    {
      "cell_type": "markdown",
      "source": [
        "## Sklearn models for delay in"
      ],
      "metadata": {
        "id": "AkPKSwM_0CJY"
      }
    },
    {
      "cell_type": "code",
      "source": [
        "df_in = get_df_target(df, 'in')\n",
        "df_in = df_in.drop(['scheduled_time_out', 'scheduled_time_in'], axis=1)\n",
        "df_in['target'].value_counts()"
      ],
      "metadata": {
        "colab": {
          "base_uri": "https://localhost:8080/"
        },
        "id": "ej3oOjMYzVsj",
        "outputId": "ae0dbf16-e2f4-40b0-96ca-a150fe980330"
      },
      "execution_count": 33,
      "outputs": [
        {
          "output_type": "execute_result",
          "data": {
            "text/plain": [
              "target\n",
              "0    83871\n",
              "1    55861\n",
              "Name: count, dtype: int64"
            ]
          },
          "metadata": {},
          "execution_count": 33
        }
      ]
    },
    {
      "cell_type": "code",
      "source": [
        "X_train, y_train, X_val, y_val, X_test, y_test = split_data(df_in.drop('target', axis=1).values, df_in['target'].values)\n",
        "models = train(X_train, y_train)\n",
        "df_val = evaluate(models, X_val, y_val)\n",
        "plot_metrics(df_val, models)\n",
        "df_val"
      ],
      "metadata": {
        "colab": {
          "base_uri": "https://localhost:8080/",
          "height": 886
        },
        "id": "_E-7vVKGn9Ux",
        "outputId": "ebbbb397-322a-4515-b07a-e35ead59299d"
      },
      "execution_count": 34,
      "outputs": [
        {
          "output_type": "stream",
          "name": "stderr",
          "text": [
            "/usr/local/lib/python3.10/dist-packages/sklearn/linear_model/_logistic.py:458: ConvergenceWarning: lbfgs failed to converge (status=1):\n",
            "STOP: TOTAL NO. of ITERATIONS REACHED LIMIT.\n",
            "\n",
            "Increase the number of iterations (max_iter) or scale the data as shown in:\n",
            "    https://scikit-learn.org/stable/modules/preprocessing.html\n",
            "Please also refer to the documentation for alternative solver options:\n",
            "    https://scikit-learn.org/stable/modules/linear_model.html#logistic-regression\n",
            "  n_iter_i = _check_optimize_result(\n",
            "/usr/local/lib/python3.10/dist-packages/sklearn/svm/_base.py:1244: ConvergenceWarning: Liblinear failed to converge, increase the number of iterations.\n",
            "  warnings.warn(\n"
          ]
        },
        {
          "output_type": "execute_result",
          "data": {
            "text/plain": [
              "                         Accuracy  Precision    Recall        F1\n",
              "Logistic Regression      0.630944   0.277718  0.583240  0.376270\n",
              "Support Vector Machines  0.608330   0.065970  0.604746  0.118963\n",
              "Decision Trees           0.603643   0.505445  0.505581  0.505513\n",
              "Random Forest            0.665045   0.471077  0.605647  0.529952\n",
              "Naive Bayes              0.633127   0.469023  0.549639  0.506141\n",
              "K-Nearest Neighbor       0.578738   0.386270  0.469051  0.423655"
            ],
            "text/html": [
              "\n",
              "  <div id=\"df-e0a71474-072a-4959-afcc-34d90eb03cef\" class=\"colab-df-container\">\n",
              "    <div>\n",
              "<style scoped>\n",
              "    .dataframe tbody tr th:only-of-type {\n",
              "        vertical-align: middle;\n",
              "    }\n",
              "\n",
              "    .dataframe tbody tr th {\n",
              "        vertical-align: top;\n",
              "    }\n",
              "\n",
              "    .dataframe thead th {\n",
              "        text-align: right;\n",
              "    }\n",
              "</style>\n",
              "<table border=\"1\" class=\"dataframe\">\n",
              "  <thead>\n",
              "    <tr style=\"text-align: right;\">\n",
              "      <th></th>\n",
              "      <th>Accuracy</th>\n",
              "      <th>Precision</th>\n",
              "      <th>Recall</th>\n",
              "      <th>F1</th>\n",
              "    </tr>\n",
              "  </thead>\n",
              "  <tbody>\n",
              "    <tr>\n",
              "      <th>Logistic Regression</th>\n",
              "      <td>0.630944</td>\n",
              "      <td>0.277718</td>\n",
              "      <td>0.583240</td>\n",
              "      <td>0.376270</td>\n",
              "    </tr>\n",
              "    <tr>\n",
              "      <th>Support Vector Machines</th>\n",
              "      <td>0.608330</td>\n",
              "      <td>0.065970</td>\n",
              "      <td>0.604746</td>\n",
              "      <td>0.118963</td>\n",
              "    </tr>\n",
              "    <tr>\n",
              "      <th>Decision Trees</th>\n",
              "      <td>0.603643</td>\n",
              "      <td>0.505445</td>\n",
              "      <td>0.505581</td>\n",
              "      <td>0.505513</td>\n",
              "    </tr>\n",
              "    <tr>\n",
              "      <th>Random Forest</th>\n",
              "      <td>0.665045</td>\n",
              "      <td>0.471077</td>\n",
              "      <td>0.605647</td>\n",
              "      <td>0.529952</td>\n",
              "    </tr>\n",
              "    <tr>\n",
              "      <th>Naive Bayes</th>\n",
              "      <td>0.633127</td>\n",
              "      <td>0.469023</td>\n",
              "      <td>0.549639</td>\n",
              "      <td>0.506141</td>\n",
              "    </tr>\n",
              "    <tr>\n",
              "      <th>K-Nearest Neighbor</th>\n",
              "      <td>0.578738</td>\n",
              "      <td>0.386270</td>\n",
              "      <td>0.469051</td>\n",
              "      <td>0.423655</td>\n",
              "    </tr>\n",
              "  </tbody>\n",
              "</table>\n",
              "</div>\n",
              "    <div class=\"colab-df-buttons\">\n",
              "\n",
              "  <div class=\"colab-df-container\">\n",
              "    <button class=\"colab-df-convert\" onclick=\"convertToInteractive('df-e0a71474-072a-4959-afcc-34d90eb03cef')\"\n",
              "            title=\"Convert this dataframe to an interactive table.\"\n",
              "            style=\"display:none;\">\n",
              "\n",
              "  <svg xmlns=\"http://www.w3.org/2000/svg\" height=\"24px\" viewBox=\"0 -960 960 960\">\n",
              "    <path d=\"M120-120v-720h720v720H120Zm60-500h600v-160H180v160Zm220 220h160v-160H400v160Zm0 220h160v-160H400v160ZM180-400h160v-160H180v160Zm440 0h160v-160H620v160ZM180-180h160v-160H180v160Zm440 0h160v-160H620v160Z\"/>\n",
              "  </svg>\n",
              "    </button>\n",
              "\n",
              "  <style>\n",
              "    .colab-df-container {\n",
              "      display:flex;\n",
              "      gap: 12px;\n",
              "    }\n",
              "\n",
              "    .colab-df-convert {\n",
              "      background-color: #E8F0FE;\n",
              "      border: none;\n",
              "      border-radius: 50%;\n",
              "      cursor: pointer;\n",
              "      display: none;\n",
              "      fill: #1967D2;\n",
              "      height: 32px;\n",
              "      padding: 0 0 0 0;\n",
              "      width: 32px;\n",
              "    }\n",
              "\n",
              "    .colab-df-convert:hover {\n",
              "      background-color: #E2EBFA;\n",
              "      box-shadow: 0px 1px 2px rgba(60, 64, 67, 0.3), 0px 1px 3px 1px rgba(60, 64, 67, 0.15);\n",
              "      fill: #174EA6;\n",
              "    }\n",
              "\n",
              "    .colab-df-buttons div {\n",
              "      margin-bottom: 4px;\n",
              "    }\n",
              "\n",
              "    [theme=dark] .colab-df-convert {\n",
              "      background-color: #3B4455;\n",
              "      fill: #D2E3FC;\n",
              "    }\n",
              "\n",
              "    [theme=dark] .colab-df-convert:hover {\n",
              "      background-color: #434B5C;\n",
              "      box-shadow: 0px 1px 3px 1px rgba(0, 0, 0, 0.15);\n",
              "      filter: drop-shadow(0px 1px 2px rgba(0, 0, 0, 0.3));\n",
              "      fill: #FFFFFF;\n",
              "    }\n",
              "  </style>\n",
              "\n",
              "    <script>\n",
              "      const buttonEl =\n",
              "        document.querySelector('#df-e0a71474-072a-4959-afcc-34d90eb03cef button.colab-df-convert');\n",
              "      buttonEl.style.display =\n",
              "        google.colab.kernel.accessAllowed ? 'block' : 'none';\n",
              "\n",
              "      async function convertToInteractive(key) {\n",
              "        const element = document.querySelector('#df-e0a71474-072a-4959-afcc-34d90eb03cef');\n",
              "        const dataTable =\n",
              "          await google.colab.kernel.invokeFunction('convertToInteractive',\n",
              "                                                    [key], {});\n",
              "        if (!dataTable) return;\n",
              "\n",
              "        const docLinkHtml = 'Like what you see? Visit the ' +\n",
              "          '<a target=\"_blank\" href=https://colab.research.google.com/notebooks/data_table.ipynb>data table notebook</a>'\n",
              "          + ' to learn more about interactive tables.';\n",
              "        element.innerHTML = '';\n",
              "        dataTable['output_type'] = 'display_data';\n",
              "        await google.colab.output.renderOutput(dataTable, element);\n",
              "        const docLink = document.createElement('div');\n",
              "        docLink.innerHTML = docLinkHtml;\n",
              "        element.appendChild(docLink);\n",
              "      }\n",
              "    </script>\n",
              "  </div>\n",
              "\n",
              "\n",
              "<div id=\"df-3eaa07b3-648d-467f-a59d-465eab1e8f50\">\n",
              "  <button class=\"colab-df-quickchart\" onclick=\"quickchart('df-3eaa07b3-648d-467f-a59d-465eab1e8f50')\"\n",
              "            title=\"Suggest charts\"\n",
              "            style=\"display:none;\">\n",
              "\n",
              "<svg xmlns=\"http://www.w3.org/2000/svg\" height=\"24px\"viewBox=\"0 0 24 24\"\n",
              "     width=\"24px\">\n",
              "    <g>\n",
              "        <path d=\"M19 3H5c-1.1 0-2 .9-2 2v14c0 1.1.9 2 2 2h14c1.1 0 2-.9 2-2V5c0-1.1-.9-2-2-2zM9 17H7v-7h2v7zm4 0h-2V7h2v10zm4 0h-2v-4h2v4z\"/>\n",
              "    </g>\n",
              "</svg>\n",
              "  </button>\n",
              "\n",
              "<style>\n",
              "  .colab-df-quickchart {\n",
              "      --bg-color: #E8F0FE;\n",
              "      --fill-color: #1967D2;\n",
              "      --hover-bg-color: #E2EBFA;\n",
              "      --hover-fill-color: #174EA6;\n",
              "      --disabled-fill-color: #AAA;\n",
              "      --disabled-bg-color: #DDD;\n",
              "  }\n",
              "\n",
              "  [theme=dark] .colab-df-quickchart {\n",
              "      --bg-color: #3B4455;\n",
              "      --fill-color: #D2E3FC;\n",
              "      --hover-bg-color: #434B5C;\n",
              "      --hover-fill-color: #FFFFFF;\n",
              "      --disabled-bg-color: #3B4455;\n",
              "      --disabled-fill-color: #666;\n",
              "  }\n",
              "\n",
              "  .colab-df-quickchart {\n",
              "    background-color: var(--bg-color);\n",
              "    border: none;\n",
              "    border-radius: 50%;\n",
              "    cursor: pointer;\n",
              "    display: none;\n",
              "    fill: var(--fill-color);\n",
              "    height: 32px;\n",
              "    padding: 0;\n",
              "    width: 32px;\n",
              "  }\n",
              "\n",
              "  .colab-df-quickchart:hover {\n",
              "    background-color: var(--hover-bg-color);\n",
              "    box-shadow: 0 1px 2px rgba(60, 64, 67, 0.3), 0 1px 3px 1px rgba(60, 64, 67, 0.15);\n",
              "    fill: var(--button-hover-fill-color);\n",
              "  }\n",
              "\n",
              "  .colab-df-quickchart-complete:disabled,\n",
              "  .colab-df-quickchart-complete:disabled:hover {\n",
              "    background-color: var(--disabled-bg-color);\n",
              "    fill: var(--disabled-fill-color);\n",
              "    box-shadow: none;\n",
              "  }\n",
              "\n",
              "  .colab-df-spinner {\n",
              "    border: 2px solid var(--fill-color);\n",
              "    border-color: transparent;\n",
              "    border-bottom-color: var(--fill-color);\n",
              "    animation:\n",
              "      spin 1s steps(1) infinite;\n",
              "  }\n",
              "\n",
              "  @keyframes spin {\n",
              "    0% {\n",
              "      border-color: transparent;\n",
              "      border-bottom-color: var(--fill-color);\n",
              "      border-left-color: var(--fill-color);\n",
              "    }\n",
              "    20% {\n",
              "      border-color: transparent;\n",
              "      border-left-color: var(--fill-color);\n",
              "      border-top-color: var(--fill-color);\n",
              "    }\n",
              "    30% {\n",
              "      border-color: transparent;\n",
              "      border-left-color: var(--fill-color);\n",
              "      border-top-color: var(--fill-color);\n",
              "      border-right-color: var(--fill-color);\n",
              "    }\n",
              "    40% {\n",
              "      border-color: transparent;\n",
              "      border-right-color: var(--fill-color);\n",
              "      border-top-color: var(--fill-color);\n",
              "    }\n",
              "    60% {\n",
              "      border-color: transparent;\n",
              "      border-right-color: var(--fill-color);\n",
              "    }\n",
              "    80% {\n",
              "      border-color: transparent;\n",
              "      border-right-color: var(--fill-color);\n",
              "      border-bottom-color: var(--fill-color);\n",
              "    }\n",
              "    90% {\n",
              "      border-color: transparent;\n",
              "      border-bottom-color: var(--fill-color);\n",
              "    }\n",
              "  }\n",
              "</style>\n",
              "\n",
              "  <script>\n",
              "    async function quickchart(key) {\n",
              "      const quickchartButtonEl =\n",
              "        document.querySelector('#' + key + ' button');\n",
              "      quickchartButtonEl.disabled = true;  // To prevent multiple clicks.\n",
              "      quickchartButtonEl.classList.add('colab-df-spinner');\n",
              "      try {\n",
              "        const charts = await google.colab.kernel.invokeFunction(\n",
              "            'suggestCharts', [key], {});\n",
              "      } catch (error) {\n",
              "        console.error('Error during call to suggestCharts:', error);\n",
              "      }\n",
              "      quickchartButtonEl.classList.remove('colab-df-spinner');\n",
              "      quickchartButtonEl.classList.add('colab-df-quickchart-complete');\n",
              "    }\n",
              "    (() => {\n",
              "      let quickchartButtonEl =\n",
              "        document.querySelector('#df-3eaa07b3-648d-467f-a59d-465eab1e8f50 button');\n",
              "      quickchartButtonEl.style.display =\n",
              "        google.colab.kernel.accessAllowed ? 'block' : 'none';\n",
              "    })();\n",
              "  </script>\n",
              "</div>\n",
              "    </div>\n",
              "  </div>\n"
            ],
            "application/vnd.google.colaboratory.intrinsic+json": {
              "type": "dataframe",
              "variable_name": "df_val",
              "summary": "{\n  \"name\": \"df_val\",\n  \"rows\": 6,\n  \"fields\": [\n    {\n      \"column\": \"Accuracy\",\n      \"properties\": {\n        \"dtype\": \"number\",\n        \"std\": 0.029756946361652346,\n        \"min\": 0.5787383261172935,\n        \"max\": 0.6650445486098687,\n        \"num_unique_values\": 6,\n        \"samples\": [\n          0.6309442874011522,\n          0.6083300533152037,\n          0.5787383261172935\n        ],\n        \"semantic_type\": \"\",\n        \"description\": \"\"\n      }\n    },\n    {\n      \"column\": \"Precision\",\n      \"properties\": {\n        \"dtype\": \"number\",\n        \"std\": 0.16688455064581711,\n        \"min\": 0.06597036243527941,\n        \"max\": 0.5054454561685413,\n        \"num_unique_values\": 6,\n        \"samples\": [\n          0.27771826459560794,\n          0.06597036243527941,\n          0.38627030887341546\n        ],\n        \"semantic_type\": \"\",\n        \"description\": \"\"\n      }\n    },\n    {\n      \"column\": \"Recall\",\n      \"properties\": {\n        \"dtype\": \"number\",\n        \"std\": 0.05598395289369634,\n        \"min\": 0.46905149051490513,\n        \"max\": 0.6056467347641455,\n        \"num_unique_values\": 6,\n        \"samples\": [\n          0.5832395950506186,\n          0.6047463175122749,\n          0.46905149051490513\n        ],\n        \"semantic_type\": \"\",\n        \"description\": \"\"\n      }\n    },\n    {\n      \"column\": \"F1\",\n      \"properties\": {\n        \"dtype\": \"number\",\n        \"std\": 0.15413044114498411,\n        \"min\": 0.11896329684481649,\n        \"max\": 0.5299522972633693,\n        \"num_unique_values\": 6,\n        \"samples\": [\n          0.3762699564586357,\n          0.11896329684481649,\n          0.42365496646595185\n        ],\n        \"semantic_type\": \"\",\n        \"description\": \"\"\n      }\n    }\n  ]\n}"
            }
          },
          "metadata": {},
          "execution_count": 34
        },
        {
          "output_type": "display_data",
          "data": {
            "text/plain": [
              "<Figure size 640x480 with 1 Axes>"
            ],
            "image/png": "[encoded data removed]"
          },
          "metadata": {}
        }
      ]
    },
    {
      "cell_type": "markdown",
      "source": [
        "Без указанных гиперпараметров лучшие результаты:\n",
        "- Decision Trees\n",
        "- Random Forest\n",
        "- K-Nearest Neighbor\n",
        "---\n",
        "Немного хуже:\n",
        "- Naive Bayes\n",
        "---\n",
        "Т.к. Decision Trees и Random Forest запускались без параметров, то вероятно они переобучились из-за неограниченной глубины деревьев"
      ],
      "metadata": {
        "id": "dcVha61ByOgA"
      }
    },
    {
      "cell_type": "markdown",
      "source": [
        "## Sklearn models delay out"
      ],
      "metadata": {
        "id": "HoupTW3EzLEM"
      }
    },
    {
      "cell_type": "code",
      "source": [
        "df_out = get_df_target(df, 'out')\n",
        "df_out = df_out.drop(['scheduled_time_out', 'scheduled_time_in'], axis=1)\n",
        "df_out['target'].value_counts()"
      ],
      "metadata": {
        "colab": {
          "base_uri": "https://localhost:8080/"
        },
        "id": "cT6a5K9VzbtE",
        "outputId": "e12a0c0f-292e-4109-c143-7b37c620c046"
      },
      "execution_count": 35,
      "outputs": [
        {
          "output_type": "execute_result",
          "data": {
            "text/plain": [
              "target\n",
              "0    120600\n",
              "1     19132\n",
              "Name: count, dtype: int64"
            ]
          },
          "metadata": {},
          "execution_count": 35
        }
      ]
    },
    {
      "cell_type": "code",
      "source": [
        "X_train, y_train, X_val, y_val, X_test, y_test = split_data(df_out.drop('target', axis=1).values, df_out['target'].values)\n",
        "models = train(X_train, y_train)\n",
        "df_val = evaluate(models, X_val, y_val)\n",
        "plot_metrics(df_val, models)\n",
        "df_val"
      ],
      "metadata": {
        "colab": {
          "base_uri": "https://localhost:8080/",
          "height": 886
        },
        "id": "wTTsqk0uzQZF",
        "outputId": "6adcaadf-6dae-4e93-8a85-984b9742a1a3"
      },
      "execution_count": 36,
      "outputs": [
        {
          "output_type": "stream",
          "name": "stderr",
          "text": [
            "/usr/local/lib/python3.10/dist-packages/sklearn/linear_model/_logistic.py:458: ConvergenceWarning: lbfgs failed to converge (status=1):\n",
            "STOP: TOTAL NO. of ITERATIONS REACHED LIMIT.\n",
            "\n",
            "Increase the number of iterations (max_iter) or scale the data as shown in:\n",
            "    https://scikit-learn.org/stable/modules/preprocessing.html\n",
            "Please also refer to the documentation for alternative solver options:\n",
            "    https://scikit-learn.org/stable/modules/linear_model.html#logistic-regression\n",
            "  n_iter_i = _check_optimize_result(\n",
            "/usr/local/lib/python3.10/dist-packages/sklearn/svm/_base.py:1244: ConvergenceWarning: Liblinear failed to converge, increase the number of iterations.\n",
            "  warnings.warn(\n"
          ]
        },
        {
          "output_type": "execute_result",
          "data": {
            "text/plain": [
              "                         Accuracy  Precision    Recall        F1\n",
              "Logistic Regression      0.865173   0.020871  0.842105  0.040733\n",
              "Support Vector Machines  0.865889   0.026089  0.869565  0.050659\n",
              "Decision Trees           0.790675   0.285416  0.260166  0.272207\n",
              "Random Forest            0.861488   0.145317  0.483507  0.223470\n",
              "Naive Bayes              0.691988   0.582051  0.241529  0.341393\n",
              "K-Nearest Neighbor       0.851004   0.081398  0.326702  0.130326"
            ],
            "text/html": [
              "\n",
              "  <div id=\"df-028f2ca0-7219-4784-94c0-26e978aef30f\" class=\"colab-df-container\">\n",
              "    <div>\n",
              "<style scoped>\n",
              "    .dataframe tbody tr th:only-of-type {\n",
              "        vertical-align: middle;\n",
              "    }\n",
              "\n",
              "    .dataframe tbody tr th {\n",
              "        vertical-align: top;\n",
              "    }\n",
              "\n",
              "    .dataframe thead th {\n",
              "        text-align: right;\n",
              "    }\n",
              "</style>\n",
              "<table border=\"1\" class=\"dataframe\">\n",
              "  <thead>\n",
              "    <tr style=\"text-align: right;\">\n",
              "      <th></th>\n",
              "      <th>Accuracy</th>\n",
              "      <th>Precision</th>\n",
              "      <th>Recall</th>\n",
              "      <th>F1</th>\n",
              "    </tr>\n",
              "  </thead>\n",
              "  <tbody>\n",
              "    <tr>\n",
              "      <th>Logistic Regression</th>\n",
              "      <td>0.865173</td>\n",
              "      <td>0.020871</td>\n",
              "      <td>0.842105</td>\n",
              "      <td>0.040733</td>\n",
              "    </tr>\n",
              "    <tr>\n",
              "      <th>Support Vector Machines</th>\n",
              "      <td>0.865889</td>\n",
              "      <td>0.026089</td>\n",
              "      <td>0.869565</td>\n",
              "      <td>0.050659</td>\n",
              "    </tr>\n",
              "    <tr>\n",
              "      <th>Decision Trees</th>\n",
              "      <td>0.790675</td>\n",
              "      <td>0.285416</td>\n",
              "      <td>0.260166</td>\n",
              "      <td>0.272207</td>\n",
              "    </tr>\n",
              "    <tr>\n",
              "      <th>Random Forest</th>\n",
              "      <td>0.861488</td>\n",
              "      <td>0.145317</td>\n",
              "      <td>0.483507</td>\n",
              "      <td>0.223470</td>\n",
              "    </tr>\n",
              "    <tr>\n",
              "      <th>Naive Bayes</th>\n",
              "      <td>0.691988</td>\n",
              "      <td>0.582051</td>\n",
              "      <td>0.241529</td>\n",
              "      <td>0.341393</td>\n",
              "    </tr>\n",
              "    <tr>\n",
              "      <th>K-Nearest Neighbor</th>\n",
              "      <td>0.851004</td>\n",
              "      <td>0.081398</td>\n",
              "      <td>0.326702</td>\n",
              "      <td>0.130326</td>\n",
              "    </tr>\n",
              "  </tbody>\n",
              "</table>\n",
              "</div>\n",
              "    <div class=\"colab-df-buttons\">\n",
              "\n",
              "  <div class=\"colab-df-container\">\n",
              "    <button class=\"colab-df-convert\" onclick=\"convertToInteractive('df-028f2ca0-7219-4784-94c0-26e978aef30f')\"\n",
              "            title=\"Convert this dataframe to an interactive table.\"\n",
              "            style=\"display:none;\">\n",
              "\n",
              "  <svg xmlns=\"http://www.w3.org/2000/svg\" height=\"24px\" viewBox=\"0 -960 960 960\">\n",
              "    <path d=\"M120-120v-720h720v720H120Zm60-500h600v-160H180v160Zm220 220h160v-160H400v160Zm0 220h160v-160H400v160ZM180-400h160v-160H180v160Zm440 0h160v-160H620v160ZM180-180h160v-160H180v160Zm440 0h160v-160H620v160Z\"/>\n",
              "  </svg>\n",
              "    </button>\n",
              "\n",
              "  <style>\n",
              "    .colab-df-container {\n",
              "      display:flex;\n",
              "      gap: 12px;\n",
              "    }\n",
              "\n",
              "    .colab-df-convert {\n",
              "      background-color: #E8F0FE;\n",
              "      border: none;\n",
              "      border-radius: 50%;\n",
              "      cursor: pointer;\n",
              "      display: none;\n",
              "      fill: #1967D2;\n",
              "      height: 32px;\n",
              "      padding: 0 0 0 0;\n",
              "      width: 32px;\n",
              "    }\n",
              "\n",
              "    .colab-df-convert:hover {\n",
              "      background-color: #E2EBFA;\n",
              "      box-shadow: 0px 1px 2px rgba(60, 64, 67, 0.3), 0px 1px 3px 1px rgba(60, 64, 67, 0.15);\n",
              "      fill: #174EA6;\n",
              "    }\n",
              "\n",
              "    .colab-df-buttons div {\n",
              "      margin-bottom: 4px;\n",
              "    }\n",
              "\n",
              "    [theme=dark] .colab-df-convert {\n",
              "      background-color: #3B4455;\n",
              "      fill: #D2E3FC;\n",
              "    }\n",
              "\n",
              "    [theme=dark] .colab-df-convert:hover {\n",
              "      background-color: #434B5C;\n",
              "      box-shadow: 0px 1px 3px 1px rgba(0, 0, 0, 0.15);\n",
              "      filter: drop-shadow(0px 1px 2px rgba(0, 0, 0, 0.3));\n",
              "      fill: #FFFFFF;\n",
              "    }\n",
              "  </style>\n",
              "\n",
              "    <script>\n",
              "      const buttonEl =\n",
              "        document.querySelector('#df-028f2ca0-7219-4784-94c0-26e978aef30f button.colab-df-convert');\n",
              "      buttonEl.style.display =\n",
              "        google.colab.kernel.accessAllowed ? 'block' : 'none';\n",
              "\n",
              "      async function convertToInteractive(key) {\n",
              "        const element = document.querySelector('#df-028f2ca0-7219-4784-94c0-26e978aef30f');\n",
              "        const dataTable =\n",
              "          await google.colab.kernel.invokeFunction('convertToInteractive',\n",
              "                                                    [key], {});\n",
              "        if (!dataTable) return;\n",
              "\n",
              "        const docLinkHtml = 'Like what you see? Visit the ' +\n",
              "          '<a target=\"_blank\" href=https://colab.research.google.com/notebooks/data_table.ipynb>data table notebook</a>'\n",
              "          + ' to learn more about interactive tables.';\n",
              "        element.innerHTML = '';\n",
              "        dataTable['output_type'] = 'display_data';\n",
              "        await google.colab.output.renderOutput(dataTable, element);\n",
              "        const docLink = document.createElement('div');\n",
              "        docLink.innerHTML = docLinkHtml;\n",
              "        element.appendChild(docLink);\n",
              "      }\n",
              "    </script>\n",
              "  </div>\n",
              "\n",
              "\n",
              "<div id=\"df-4d32582d-e59c-49ed-a0c4-7e8f34613138\">\n",
              "  <button class=\"colab-df-quickchart\" onclick=\"quickchart('df-4d32582d-e59c-49ed-a0c4-7e8f34613138')\"\n",
              "            title=\"Suggest charts\"\n",
              "            style=\"display:none;\">\n",
              "\n",
              "<svg xmlns=\"http://www.w3.org/2000/svg\" height=\"24px\"viewBox=\"0 0 24 24\"\n",
              "     width=\"24px\">\n",
              "    <g>\n",
              "        <path d=\"M19 3H5c-1.1 0-2 .9-2 2v14c0 1.1.9 2 2 2h14c1.1 0 2-.9 2-2V5c0-1.1-.9-2-2-2zM9 17H7v-7h2v7zm4 0h-2V7h2v10zm4 0h-2v-4h2v4z\"/>\n",
              "    </g>\n",
              "</svg>\n",
              "  </button>\n",
              "\n",
              "<style>\n",
              "  .colab-df-quickchart {\n",
              "      --bg-color: #E8F0FE;\n",
              "      --fill-color: #1967D2;\n",
              "      --hover-bg-color: #E2EBFA;\n",
              "      --hover-fill-color: #174EA6;\n",
              "      --disabled-fill-color: #AAA;\n",
              "      --disabled-bg-color: #DDD;\n",
              "  }\n",
              "\n",
              "  [theme=dark] .colab-df-quickchart {\n",
              "      --bg-color: #3B4455;\n",
              "      --fill-color: #D2E3FC;\n",
              "      --hover-bg-color: #434B5C;\n",
              "      --hover-fill-color: #FFFFFF;\n",
              "      --disabled-bg-color: #3B4455;\n",
              "      --disabled-fill-color: #666;\n",
              "  }\n",
              "\n",
              "  .colab-df-quickchart {\n",
              "    background-color: var(--bg-color);\n",
              "    border: none;\n",
              "    border-radius: 50%;\n",
              "    cursor: pointer;\n",
              "    display: none;\n",
              "    fill: var(--fill-color);\n",
              "    height: 32px;\n",
              "    padding: 0;\n",
              "    width: 32px;\n",
              "  }\n",
              "\n",
              "  .colab-df-quickchart:hover {\n",
              "    background-color: var(--hover-bg-color);\n",
              "    box-shadow: 0 1px 2px rgba(60, 64, 67, 0.3), 0 1px 3px 1px rgba(60, 64, 67, 0.15);\n",
              "    fill: var(--button-hover-fill-color);\n",
              "  }\n",
              "\n",
              "  .colab-df-quickchart-complete:disabled,\n",
              "  .colab-df-quickchart-complete:disabled:hover {\n",
              "    background-color: var(--disabled-bg-color);\n",
              "    fill: var(--disabled-fill-color);\n",
              "    box-shadow: none;\n",
              "  }\n",
              "\n",
              "  .colab-df-spinner {\n",
              "    border: 2px solid var(--fill-color);\n",
              "    border-color: transparent;\n",
              "    border-bottom-color: var(--fill-color);\n",
              "    animation:\n",
              "      spin 1s steps(1) infinite;\n",
              "  }\n",
              "\n",
              "  @keyframes spin {\n",
              "    0% {\n",
              "      border-color: transparent;\n",
              "      border-bottom-color: var(--fill-color);\n",
              "      border-left-color: var(--fill-color);\n",
              "    }\n",
              "    20% {\n",
              "      border-color: transparent;\n",
              "      border-left-color: var(--fill-color);\n",
              "      border-top-color: var(--fill-color);\n",
              "    }\n",
              "    30% {\n",
              "      border-color: transparent;\n",
              "      border-left-color: var(--fill-color);\n",
              "      border-top-color: var(--fill-color);\n",
              "      border-right-color: var(--fill-color);\n",
              "    }\n",
              "    40% {\n",
              "      border-color: transparent;\n",
              "      border-right-color: var(--fill-color);\n",
              "      border-top-color: var(--fill-color);\n",
              "    }\n",
              "    60% {\n",
              "      border-color: transparent;\n",
              "      border-right-color: var(--fill-color);\n",
              "    }\n",
              "    80% {\n",
              "      border-color: transparent;\n",
              "      border-right-color: var(--fill-color);\n",
              "      border-bottom-color: var(--fill-color);\n",
              "    }\n",
              "    90% {\n",
              "      border-color: transparent;\n",
              "      border-bottom-color: var(--fill-color);\n",
              "    }\n",
              "  }\n",
              "</style>\n",
              "\n",
              "  <script>\n",
              "    async function quickchart(key) {\n",
              "      const quickchartButtonEl =\n",
              "        document.querySelector('#' + key + ' button');\n",
              "      quickchartButtonEl.disabled = true;  // To prevent multiple clicks.\n",
              "      quickchartButtonEl.classList.add('colab-df-spinner');\n",
              "      try {\n",
              "        const charts = await google.colab.kernel.invokeFunction(\n",
              "            'suggestCharts', [key], {});\n",
              "      } catch (error) {\n",
              "        console.error('Error during call to suggestCharts:', error);\n",
              "      }\n",
              "      quickchartButtonEl.classList.remove('colab-df-spinner');\n",
              "      quickchartButtonEl.classList.add('colab-df-quickchart-complete');\n",
              "    }\n",
              "    (() => {\n",
              "      let quickchartButtonEl =\n",
              "        document.querySelector('#df-4d32582d-e59c-49ed-a0c4-7e8f34613138 button');\n",
              "      quickchartButtonEl.style.display =\n",
              "        google.colab.kernel.accessAllowed ? 'block' : 'none';\n",
              "    })();\n",
              "  </script>\n",
              "</div>\n",
              "    </div>\n",
              "  </div>\n"
            ],
            "application/vnd.google.colaboratory.intrinsic+json": {
              "type": "dataframe",
              "variable_name": "df_val",
              "summary": "{\n  \"name\": \"df_val\",\n  \"rows\": 6,\n  \"fields\": [\n    {\n      \"column\": \"Accuracy\",\n      \"properties\": {\n        \"dtype\": \"number\",\n        \"std\": 0.06938208647049686,\n        \"min\": 0.6919884066268294,\n        \"max\": 0.8658890041864958,\n        \"num_unique_values\": 6,\n        \"samples\": [\n          0.8651733638673202,\n          0.8658890041864958,\n          0.8510036855476437\n        ],\n        \"semantic_type\": \"\",\n        \"description\": \"\"\n      }\n    },\n    {\n      \"column\": \"Precision\",\n      \"properties\": {\n        \"dtype\": \"number\",\n        \"std\": 0.21543900184078546,\n        \"min\": 0.020871380120010434,\n        \"max\": 0.5820506130967911,\n        \"num_unique_values\": 6,\n        \"samples\": [\n          0.020871380120010434,\n          0.026089225150013044,\n          0.0813983824680407\n        ],\n        \"semantic_type\": \"\",\n        \"description\": \"\"\n      }\n    },\n    {\n      \"column\": \"Recall\",\n      \"properties\": {\n        \"dtype\": \"number\",\n        \"std\": 0.2857109637004544,\n        \"min\": 0.2415286348381509,\n        \"max\": 0.8695652173913043,\n        \"num_unique_values\": 6,\n        \"samples\": [\n          0.8421052631578947,\n          0.8695652173913043,\n          0.3267015706806283\n        ],\n        \"semantic_type\": \"\",\n        \"description\": \"\"\n      }\n    },\n    {\n      \"column\": \"F1\",\n      \"properties\": {\n        \"dtype\": \"number\",\n        \"std\": 0.12243882552254885,\n        \"min\": 0.04073319755600815,\n        \"max\": 0.34139250191277737,\n        \"num_unique_values\": 6,\n        \"samples\": [\n          0.04073319755600815,\n          0.050658561296859174,\n          0.13032581453634084\n        ],\n        \"semantic_type\": \"\",\n        \"description\": \"\"\n      }\n    }\n  ]\n}"
            }
          },
          "metadata": {},
          "execution_count": 36
        },
        {
          "output_type": "display_data",
          "data": {
            "text/plain": [
              "<Figure size 640x480 with 1 Axes>"
            ],
            "image/png": "[encoded data removed]"
          },
          "metadata": {}
        }
      ]
    },
    {
      "cell_type": "markdown",
      "source": [
        "## Grid Search"
      ],
      "metadata": {
        "id": "kYFh5cYw2fnS"
      }
    },
    {
      "cell_type": "markdown",
      "source": [
        "# NN"
      ],
      "metadata": {
        "id": "ickSoYrYAaFz"
      }
    },
    {
      "cell_type": "code",
      "source": [
        "import torch\n",
        "import torch.nn as nn\n",
        "import torch.nn.functional as F\n",
        "\n"
      ],
      "metadata": {
        "id": "8xxqOu9bLJPh"
      },
      "execution_count": 37,
      "outputs": []
    },
    {
      "cell_type": "code",
      "source": [
        "device=\"cuda\" if torch.cuda.is_available() else \"cpu\"\n",
        "device"
      ],
      "metadata": {
        "colab": {
          "base_uri": "https://localhost:8080/",
          "height": 35
        },
        "id": "wgC6oC5UTZo7",
        "outputId": "60317171-1669-4d6a-a148-7af39cf32052"
      },
      "execution_count": 38,
      "outputs": [
        {
          "output_type": "execute_result",
          "data": {
            "text/plain": [
              "'cpu'"
            ],
            "application/vnd.google.colaboratory.intrinsic+json": {
              "type": "string"
            }
          },
          "metadata": {},
          "execution_count": 38
        }
      ]
    },
    {
      "cell_type": "code",
      "source": [
        "df_nn = df_out.copy()\n",
        "X = df_nn.drop('target', axis=1).values\n",
        "y = df_nn['target'].values"
      ],
      "metadata": {
        "id": "Po_grRwHz-hv"
      },
      "execution_count": 44,
      "outputs": []
    },
    {
      "cell_type": "code",
      "source": [
        "from imblearn.over_sampling import RandomOverSampler\n",
        "from collections import Counter\n",
        "\n",
        "\n",
        "X_train, y_train, X_val, y_val, X_test, y_test = split_data(X, y)\n",
        "\n",
        "#ros = RandomOverSampler(random_state=42)\n",
        "#X_train, y_train = ros.fit_resample(X_train, y_train)\n",
        "#print(sorted(Counter(y_train).items()))\n",
        "\n",
        "X_train = torch.tensor(X_train, dtype=torch.float32)\n",
        "y_train = torch.tensor(y_train, dtype=torch.float32).reshape(-1, 1)\n",
        "X_test = torch.tensor(X_test, dtype=torch.float32)\n",
        "y_test = torch.tensor(y_test, dtype=torch.float32).reshape(-1, 1)\n",
        "X_val = torch.tensor(X_val, dtype=torch.float32)\n",
        "y_val = torch.tensor(y_val, dtype=torch.float32).reshape(-1, 1)"
      ],
      "metadata": {
        "id": "Es52y0wiEJ-L"
      },
      "execution_count": 45,
      "outputs": []
    },
    {
      "cell_type": "code",
      "source": [
        "class Model(nn.Module):\n",
        "\n",
        "    def __init__(self, input_shape, output_shape=1):\n",
        "        super(Model, self).__init__()\n",
        "\n",
        "        self.fc1 = nn.Linear(input_shape, 32)\n",
        "        self.fc2 = nn.Linear(32, 64)\n",
        "        self.fc3 = nn.Linear(64, 128)\n",
        "        self.fc4 = nn.Linear(128, 64)\n",
        "        self.dropout = nn.Dropout(p=0.2)\n",
        "        self.fc5 = nn.Linear(64, 32)\n",
        "        self.fc6 = nn.Linear(32, output_shape)\n",
        "\n",
        "    def forward(self, x):\n",
        "        x = F.relu(self.fc1(x))\n",
        "        x = F.relu(self.fc2(x))\n",
        "        x = F.relu(self.fc3(x))\n",
        "        x = F.relu(self.fc4(x))\n",
        "        x = F.relu(self.dropout(x))\n",
        "        x = F.relu(self.fc5(x))\n",
        "\n",
        "        return F.sigmoid(self.fc6(x))\n"
      ],
      "metadata": {
        "id": "LBnSX088AZbc"
      },
      "execution_count": 46,
      "outputs": []
    },
    {
      "cell_type": "code",
      "source": [
        "learning_rate = 1e-3\n",
        "\n",
        "model = Model(X_train.shape[1])\n",
        "optimizer = torch.optim.Adam(model.parameters(), lr=learning_rate)\n",
        "criterion = nn.BCELoss()\n",
        "\n",
        "# training parameters\n",
        "n_epochs = 10   # number of epochs to run\n",
        "batch_size = 32  # size of each batch\n",
        "batch_start = torch.arange(0, len(X_train), batch_size)\n",
        "\n",
        "# Hold the best model\n",
        "best_loss = np.inf   # init to infinity\n",
        "best_weights = None\n",
        "history = []\n",
        "history_val = []\n",
        "\n",
        "total_params = sum(p.numel() for p in model.parameters())\n",
        "params_trainable = sum(p.numel() for p in model.parameters() if p.requires_grad)\n",
        "print(f'Trainable params count: {params_trainable }')\n",
        "print(f'Total params count: {total_params}')"
      ],
      "metadata": {
        "colab": {
          "base_uri": "https://localhost:8080/"
        },
        "id": "hZh7q739AdMa",
        "outputId": "5ab5f125-870f-47df-efdd-ce17756c63bf"
      },
      "execution_count": 47,
      "outputs": [
        {
          "output_type": "stream",
          "name": "stdout",
          "text": [
            "Trainable params count: 33569\n",
            "Total params count: 33569\n"
          ]
        }
      ]
    },
    {
      "cell_type": "code",
      "source": [
        "# training loop\n",
        "for epoch in range(n_epochs):\n",
        "    model.train()\n",
        "    with tqdm(batch_start, unit=\"batch\", mininterval=0, disable=False) as bar:\n",
        "        bar.set_description(f\"Epoch {epoch}\")\n",
        "        for start in bar:\n",
        "            # take a batch\n",
        "            X_batch = X_train[start:start+batch_size]\n",
        "            y_batch = y_train[start:start+batch_size]\n",
        "\n",
        "            # forward pass\n",
        "            y_pred = model(X_batch)\n",
        "\n",
        "            # calculate loss\n",
        "            loss = criterion(y_pred, y_batch)\n",
        "\n",
        "            # backward pass\n",
        "            optimizer.zero_grad()\n",
        "            loss.backward()\n",
        "\n",
        "            # update weights\n",
        "            optimizer.step()\n",
        "\n",
        "            # print progress\n",
        "            bar.set_postfix(loss=float(loss))\n",
        "\n",
        "    history.append(float(loss))\n",
        "    # evaluate accuracy at end of each epoch\n",
        "    model.eval()\n",
        "    y_pred = model(X_test)\n",
        "    loss_eval = criterion(y_pred, y_test)\n",
        "    loss_eval = float(loss_eval)\n",
        "    history_val.append(loss_eval)\n",
        "    if loss < best_loss:\n",
        "        best_loss = loss\n",
        "        best_weights = copy.deepcopy(model.state_dict())"
      ],
      "metadata": {
        "colab": {
          "base_uri": "https://localhost:8080/"
        },
        "id": "DjFUuR9JAh49",
        "outputId": "13cccd3e-61d2-40db-cf84-40bef61d6d05"
      },
      "execution_count": 48,
      "outputs": [
        {
          "output_type": "stream",
          "name": "stderr",
          "text": [
            "Epoch 0: 100%|██████████| 2620/2620 [00:44<00:00, 58.68batch/s, loss=0.41]\n",
            "Epoch 1: 100%|██████████| 2620/2620 [00:28<00:00, 92.71batch/s, loss=0.387]\n",
            "Epoch 2: 100%|██████████| 2620/2620 [00:29<00:00, 89.70batch/s, loss=0.384]\n",
            "Epoch 3: 100%|██████████| 2620/2620 [00:35<00:00, 73.53batch/s, loss=0.378]\n",
            "Epoch 4: 100%|██████████| 2620/2620 [00:30<00:00, 85.91batch/s, loss=0.38]\n",
            "Epoch 5: 100%|██████████| 2620/2620 [00:30<00:00, 86.33batch/s, loss=0.393]\n",
            "Epoch 6: 100%|██████████| 2620/2620 [00:29<00:00, 88.37batch/s, loss=0.354]\n",
            "Epoch 7: 100%|██████████| 2620/2620 [00:30<00:00, 86.19batch/s, loss=0.363]\n",
            "Epoch 8: 100%|██████████| 2620/2620 [00:29<00:00, 89.83batch/s, loss=0.348]\n",
            "Epoch 9: 100%|██████████| 2620/2620 [00:28<00:00, 91.41batch/s, loss=0.355] \n"
          ]
        }
      ]
    },
    {
      "cell_type": "code",
      "source": [
        "plt.plot(history)\n",
        "plt.plot(history_val)\n",
        "plt.legend(['Train loss', 'Validation loss'])\n",
        "\n",
        "plt.show()"
      ],
      "metadata": {
        "colab": {
          "base_uri": "https://localhost:8080/",
          "height": 430
        },
        "id": "ZXTgatWkAjfk",
        "outputId": "9f42fcff-2b49-4a6d-e680-557fe58d6477"
      },
      "execution_count": 49,
      "outputs": [
        {
          "output_type": "display_data",
          "data": {
            "text/plain": [
              "<Figure size 640x480 with 1 Axes>"
            ],
            "image/png": "[encoded data removed]"
          },
          "metadata": {}
        }
      ]
    },
    {
      "cell_type": "code",
      "source": [
        "from sklearn.metrics import accuracy_score, precision_score, recall_score, f1_score\n",
        "\n",
        "def evaluate_nn(models, X_test, y_test, pos_label=1):\n",
        "  accuracy, precision, recall, f1 = {}, {}, {}, {}\n",
        "\n",
        "  # Make predictions\n",
        "  predictions = model(X_test)\n",
        "  predictions = predictions.detach().numpy().round()\n",
        "  y_test = y_test.detach().numpy()\n",
        "\n",
        "  # Calculate metrics\n",
        "  accuracy = accuracy_score(predictions, y_test)\n",
        "  precision = precision_score(predictions, y_test)\n",
        "  recall = recall_score(predictions, y_test)\n",
        "  f1 = f1_score(predictions, y_test)\n",
        "\n",
        "\n",
        "  return accuracy, precision, recall, f1"
      ],
      "metadata": {
        "id": "5S72-Q_qEnda"
      },
      "execution_count": 51,
      "outputs": []
    },
    {
      "cell_type": "code",
      "source": [
        "accuracy, precision, recall, f1 = evaluate_nn(model, X_test, y_test)\n",
        "print(f'Accuracy = {accuracy}')\n",
        "print(f'Precision = {precision}')\n",
        "print(f'Recall = {recall}')\n",
        "print(f'F1 = {f1}')"
      ],
      "metadata": {
        "colab": {
          "base_uri": "https://localhost:8080/"
        },
        "id": "VPvJibW7Gqrb",
        "outputId": "353db6ec-4b03-48fa-b369-17acafa9658f"
      },
      "execution_count": 52,
      "outputs": [
        {
          "output_type": "stream",
          "name": "stdout",
          "text": [
            "Accuracy = 0.8658174401545783\n",
            "Precision = 0.03025560772039645\n",
            "Recall = 0.7837837837837838\n",
            "F1 = 0.05826217980914113\n"
          ]
        }
      ]
    },
    {
      "cell_type": "code",
      "source": [],
      "metadata": {
        "id": "-ejwSd_VNCvI"
      },
      "execution_count": null,
      "outputs": []
    }
  ]
}